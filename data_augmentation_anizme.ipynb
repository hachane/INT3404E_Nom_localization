{
 "cells": [
  {
   "cell_type": "code",
   "execution_count": 1,
   "metadata": {},
   "outputs": [],
   "source": [
    "import cv2\n",
    "import matplotlib.pyplot as plt\n",
    "import os\n",
    "import random\n",
    "import albumentations as A\n",
    "import numpy as np"
   ]
  },
  {
   "cell_type": "code",
   "execution_count": 2,
   "metadata": {},
   "outputs": [],
   "source": [
    "def read_img(img_path):\n",
    "    return cv2.cvtColor(cv2.imread(img_path), cv2.COLOR_BGR2RGB)\n",
    "\n",
    "def save_image(image, output_path = \"generated_dataset/images\"):\n",
    "    cv2.imwrite(output_path, cv2.cvtColor(image, cv2.COLOR_RGB2BGR))\n",
    "\n",
    "def display_image(image, title=\"Image\"):\n",
    "    \"\"\"\n",
    "    Display an image using matplotlib. Rembember to use plt.show() to display the image\n",
    "    \"\"\"\n",
    "    plt.imshow(image)\n",
    "    plt.title(title)\n",
    "    plt.show()\n"
   ]
  },
  {
   "cell_type": "markdown",
   "metadata": {},
   "source": [
    "AUGMENTATION với thư viện albumentations"
   ]
  },
  {
   "cell_type": "markdown",
   "metadata": {},
   "source": [
    "Các hàm dùng chung cho các phép biến đổi"
   ]
  },
  {
   "cell_type": "code",
   "execution_count": 8,
   "metadata": {},
   "outputs": [],
   "source": [
    "def transform_image(image, bboxes, transform_fn):\n",
    "    \"\"\"\n",
    "    Áp dụng phép biến đổi lên ảnh và bounding boxes.\n",
    "\n",
    "    Args:\n",
    "        image (np.ndarray): Ảnh đầu vào.\n",
    "        bboxes (list): Danh sách bounding boxes theo định dạng YOLO.\n",
    "        transform_fn (A.Compose): Phép biến đổi cần áp dụng.\n",
    "        transform_fn: Hàm biến đổi được lựa chọn.\n",
    "    Returns:\n",
    "        np.ndarray: Ảnh đã được biến đổi.\n",
    "        list: Bounding boxes đã được cập nhật.\n",
    "    \"\"\"\n",
    "    # Xác định phép biến đổi và áp dụng trên ảnh + bounding box\n",
    "    bbox_params = A.BboxParams(format='yolo')\n",
    "    transform = A.Compose([transform_fn], bbox_params=bbox_params)\n",
    "\n",
    "    # Sau khi augmentation\n",
    "    transformed = transform(image=image, bboxes=bboxes)\n",
    "\n",
    "    return transformed['image'], transformed['bboxes']\n",
    "\n",
    "\n",
    "def handle_transform(in_img_path, in_lb_path, out_img_path, out_lb_path, transform_fn):\n",
    "    \"\"\"\n",
    "    Đọc ảnh và nhãn, áp dụng phép biến đổi được lựa chọn và lưu kết quả.\n",
    "\n",
    "    Args:\n",
    "        in_img_path (str): Đường dẫn đến ảnh đầu vào.\n",
    "        in_lb_path (str): Đường dẫn đến tệp nhãn đầu vào.\n",
    "        out_img_path (str): Đường dẫn để lưu ảnh đã biến đổi.\n",
    "        out_lb_path (str): Đường dẫn để lưu nhãn đã biến đổi.\n",
    "        transform_fn: Hàm biến đổi được lựa chọn.\n",
    "    \"\"\"\n",
    "    # Đọc ảnh từ đường dẫn đầu vào\n",
    "    img = read_img(in_img_path)\n",
    "    \n",
    "    with open(in_lb_path, \"r\") as inf, open(out_lb_path, \"w\") as outf:\n",
    "        bboxes = []\n",
    "        # Đọc và xử lý từng dòng trong tệp nhãn đầu vào để tạo các bounding boxes tương ứng\n",
    "        for line in inf.readlines():\n",
    "            values = line.strip().split()\n",
    "            x_center, y_center, width, height = map(float, values[1:5])\n",
    "            class_id = int(values[0])\n",
    "            bboxes.append([x_center, y_center, width, height, class_id])\n",
    "\n",
    "        # Áp dụng phép biến đổi được lựa chọn\n",
    "        agm_img, agm_bbox = transform_image(img, bboxes, transform_fn)\n",
    "        \n",
    "        # Ghi nhãn đã được biến đổi vào tệp nhãn đầu ra\n",
    "        for bbox in agm_bbox:\n",
    "            outf.write(f\"{'0'} {bbox[0]:.6f} {bbox[1]:.6f} {bbox[2]:.6f} {bbox[3]:.6f}\\n\")\n",
    "        \n",
    "        # Lưu ảnh đã được biến đổi vào tệp ảnh đầu ra\n",
    "        save_image(agm_img, out_img_path)\n",
    "\n",
    "def handle_transform_convert(images_folder, labels_folder, output_folder, transform_fn, transform_name):\n",
    "    \"\"\"\n",
    "    Áp dụng phép biến đổi được lựa chọn cho tất cả ảnh và nhãn trong thư mục.\n",
    "\n",
    "    Args:\n",
    "        images_folder (str): Thư mục chứa các ảnh đầu vào.\n",
    "        labels_folder (str): Thư mục chứa các tệp nhãn đầu vào.\n",
    "    \"\"\"\n",
    "    # Định nghĩa các thư mục đầu ra\n",
    "    out_images_folder = os.path.join(output_folder, transform_name, \"images\")\n",
    "    out_labels_folder = os.path.join(output_folder, transform_name, \"labels\")\n",
    "    os.makedirs(out_images_folder, exist_ok=True)\n",
    "    os.makedirs(out_labels_folder, exist_ok=True)\n",
    "    \n",
    "    # Duyệt qua tất cả các tệp ảnh trong thư mục đầu vào\n",
    "    for fileImgName in os.listdir(images_folder):\n",
    "        if fileImgName.endswith(\".jpg\"):\n",
    "            general_name = fileImgName.split('.')[0]\n",
    "            out_img_name = os.path.join(out_images_folder, f\"{general_name}_{transform_name}.jpg\")\n",
    "            in_img_name = os.path.join(images_folder, fileImgName)\n",
    "\n",
    "            fileLbName = f\"{general_name}.txt\"\n",
    "            out_label_name = os.path.join(out_labels_folder, f\"{general_name}_{transform_name}.txt\")\n",
    "            in_label_name = os.path.join(labels_folder, fileLbName)\n",
    "\n",
    "            print(in_img_name)\n",
    "            print(out_img_name)\n",
    "            # Gọi hàm handle_transform để xử lý từng ảnh và nhãn\n",
    "            handle_transform(in_img_name, in_label_name, out_img_name, out_label_name, transform_fn)"
   ]
  },
  {
   "cell_type": "markdown",
   "metadata": {},
   "source": [
    "Các kỹ thuật cơ bản"
   ]
  },
  {
   "cell_type": "code",
   "execution_count": 13,
   "metadata": {},
   "outputs": [],
   "source": [
    "# Hàm scale ảnh theo tỉ lệ ngẫu nhiên cho cả chiều rộng và chiều cao\n",
    "def create_scale_transform_fn(image):\n",
    "    scale_x = round(random.uniform(0.5, 2), 1)\n",
    "    scale_y = round(random.uniform(0.5, 2), 1)\n",
    "    height = int(image.shape[0] * scale_y)\n",
    "    width = int(image.shape[1] * scale_x)\n",
    "    return A.Resize(height=height, width=width, p=1)\n",
    "\n",
    "# Hàm xoay ảnh với góc [-15; 15]\n",
    "rotate_fn = A.Rotate(limit=15, p=1)\n",
    "\n",
    "\n",
    "gaussian_noise_fn = A.GaussNoise(p=1)\n",
    "\n",
    "\n",
    "multiplicative_noise_fn = A.MultiplicativeNoise(multiplier=[0.5, 1.5], per_channel=True, elementwise=True, p=1)"
   ]
  },
  {
   "cell_type": "code",
   "execution_count": 17,
   "metadata": {},
   "outputs": [],
   "source": [
    "# Áp dụng các phép biến đổi cho tất cả ảnh và nhãn trong thư mục\n",
    "# Sửa tên folder để đưa vào thư mục mong muốn\n",
    "# Sửa tên prefix ví dụ \"scaled\", \"rotated\" để lưu images, labels thành tên mong muốn\n",
    "\n",
    "# SCALE thì cần truyền vào kích cỡ image\n",
    "# for fileImgName in os.listdir(\"wb_localization_dataset/images/train\"):\n",
    "#     if fileImgName.endswith(\".jpg\"):\n",
    "#         img_path = os.path.join(\"wb_localization_dataset/images/train\", fileImgName)\n",
    "#         img = read_img(img_path)\n",
    "#         handle_transform_convert(\"wb_localization_dataset/images/train\", \"wb_localization_dataset/labels/train\",\n",
    "#                                  \"generated_dataset/scaled_data\", create_scale_transform_fn(img), \"scaled\")\n",
    "\n",
    "# ROTATE\n",
    "# handle_transform_convert(\"wb_localization_dataset/images/train\", \"wb_localization_dataset/labels/train\",\n",
    "#                          \"generated_dataset/rotated_data\", rotate_fn, \"rotated\")\n",
    "\n",
    "# NHIỄU GAUSSIAN\n",
    "# handle_transform_convert(\"wb_localization_dataset/images/train\", \"wb_localization_dataset/labels/train\",\n",
    "#                          \"generated_dataset/gaussian_noise_data\", gaussian_noise_fn, \"gaussian_noise\")\n",
    "\n",
    "# NHIỄU MULTIPLICATIVE\n",
    "# handle_transform_convert(\"wb_localization_dataset/images/train\", \"wb_localization_dataset/labels/train\",\n",
    "#                          \"generated_dataset/multiplicative_noise_data\", multiplicative_noise_fn, \"multiplicative_noise\")"
   ]
  },
  {
   "cell_type": "markdown",
   "metadata": {},
   "source": [
    "Kỹ thuật nâng cao"
   ]
  },
  {
   "cell_type": "markdown",
   "metadata": {},
   "source": [
    "Kết hợp các kỹ thuật: rotate, flip, add gauss noise, blur, bright"
   ]
  },
  {
   "cell_type": "code",
   "execution_count": 18,
   "metadata": {},
   "outputs": [],
   "source": [
    "def create_multi_transform(image):\n",
    "    scale_x = round(random.uniform(0.5, 2), 1)\n",
    "    scale_y = round(random.uniform(0.5, 2), 1)\n",
    "    return A.Compose([\n",
    "        A.RandomBrightnessContrast(brightness_limit=(-0.5, 0.5), contrast_limit=(-0.5, 0.5), p=0.5),\n",
    "        A.HorizontalFlip(p=0.5),\n",
    "        A.Blur(blur_limit=3, p=0.5),\n",
    "        A.GaussNoise(p=0.5),\n",
    "        A.Rotate(limit=15, p=0.5),\n",
    "        A.Resize(height=int(image.shape[0] * scale_y), width=int(image.shape[1] * scale_x), p=0.5),\n",
    "    ], bbox_params=A.BboxParams(format='yolo'))"
   ]
  },
  {
   "cell_type": "code",
   "execution_count": null,
   "metadata": {},
   "outputs": [],
   "source": [
    "# for fileImgName in os.listdir(\"wb_localization_dataset/images/train\"):\n",
    "#     if fileImgName.endswith(\".jpg\"):\n",
    "#         img_path = os.path.join(\"wb_localization_dataset/images/train\", fileImgName)\n",
    "#         img = read_img(img_path)\n",
    "#         handle_transform_convert(\"wb_localization_dataset/images/train\", \"wb_localization_dataset/labels/train\",\n",
    "#                                  \"generated_dataset/combine_3_with_others_data/\", create_multi_transform_fn(img), \"multi\")"
   ]
  },
  {
   "cell_type": "markdown",
   "metadata": {},
   "source": [
    "Augmentation: add noise, rotate, scale cho các ảnh mất cân bằng với rate 0.3 và 0.35 đã phân tích"
   ]
  },
  {
   "cell_type": "code",
   "execution_count": 21,
   "metadata": {},
   "outputs": [],
   "source": [
    "#Các path để lưu data sau augmentation\n",
    "\n",
    "biased_35_path = \"List_imgs_with_rate/rate_35.txt\"\n",
    "biased_3_path = \"List_imgs_with_rate/rate_3.txt\"\n",
    "fd_img_path = \"wb_localization_dataset/images/train/\"\n",
    "fd_lb_path = \"wb_localization_dataset/labels/train/\"\n",
    "out_img_path_combine_35 = \"generated_dataset/combine_3_with_others_data/biased_rate_0.35_data/images/\"\n",
    "out_lb_path_combiine_35 = \"generated_dataset/combine_3_with_others_data/biased_rate_0.35_data/labels/\"\n",
    "\n",
    "out_img_path_scale_35 = \"generated_dataset/scaled_data/biased_rate_0.35_data/images/\"\n",
    "out_lb_path_scale_35 = \"generated_dataset/scaled_data/biased_rate_0.35_data/labels/\"\n",
    "\n",
    "out_img_path_rotate_35 = \"generated_dataset/rotated_data/biased_rate_0.35_data/images/\"\n",
    "out_lb_path_rotate_35 = \"generated_dataset/rotated_data/biased_rate_0.35_data/labels/\"\n",
    "\n",
    "out_img_path_g_noise_35 = \"generated_dataset/noised_data/biased_rate_0.35_data/gaussian_noised_data/images/\"\n",
    "out_lb_path_g_noise_35 = \"generated_dataset/noised_data/biased_rate_0.35_data/gaussian_noised_data/labels/\"\n",
    "\n",
    "out_img_path_m_noise_35 = \"generated_dataset/noised_data/biased_rate_0.35_data/multiplicative_noised_data/images/\"\n",
    "out_lb_path_m_noise_35 = \"generated_dataset/noised_data/biased_rate_0.35_data/multiplicative_noised_data/labels/\"\n",
    "\n",
    "out_img_path_combine_3 = \"generated_dataset/combine_3_with_others_data/biased_rate_0.3_data/images/\"\n",
    "out_lb_path_combiine_3 = \"generated_dataset/combine_3_with_others_data/biased_rate_0.3_data/labels/\"\n",
    "\n",
    "out_img_path_scale_3 = \"generated_dataset/scaled_data/biased_rate_0.3_data/images/\"\n",
    "out_lb_path_scale_3 = \"generated_dataset/scaled_data/biased_rate_0.3_data/labels/\"\n",
    "\n",
    "out_img_path_rotate_3 = \"generated_dataset/rotated_data/biased_rate_0.3_data/images/\"\n",
    "out_lb_path_rotate_3 = \"generated_dataset/rotated_data/biased_rate_0.3_data/labels/\"\n",
    "\n",
    "out_img_path_g_noise_3 = \"generated_dataset/noised_data/biased_rate_0.3_data/gaussian_noised_data/images/\"\n",
    "out_lb_path_g_noise_3 = \"generated_dataset/noised_data/biased_rate_0.3_data/gaussian_noised_data/labels/\"\n",
    "\n",
    "out_img_path_m_noise_3 = \"generated_dataset/noised_data/biased_rate_0.3_data/multiplicative_noised_data/images/\"\n",
    "out_lb_path_m_noise_3 = \"generated_dataset/noised_data/biased_rate_0.3_data/multiplicative_noised_data/labels/\"\n",
    "\n",
    "prfx_combine_35 = \"_multi_0.35_\"\n",
    "prfx_combine_3 = \"_multi_0.3_\"\n",
    "\n",
    "prfx_scale_35 = \"_scale_0.35_\"\n",
    "prfx_scale_3 = \"_scale_0.3_\"\n",
    "\n",
    "prfx_rotate_35 = \"_rotate_0.35_\"\n",
    "prfx_rotate_3 = \"_rotate_0.3_\"\n",
    "\n",
    "prfx_g_noise_35 = \"_gaussian_noise_0.35_\"\n",
    "prfx_g_noise_3 = \"_gaussian_noise_0.3_\"\n",
    "\n",
    "prfx_m_noise_35 = \"_multiplicative_noise_0.35_\"\n",
    "prfx_m_noise_3 = \"_multiplicative_noise_0.3_\""
   ]
  },
  {
   "cell_type": "markdown",
   "metadata": {},
   "source": [
    "MULTI GEN"
   ]
  },
  {
   "cell_type": "code",
   "execution_count": 23,
   "metadata": {},
   "outputs": [],
   "source": [
    "# Đọc các ảnh bị lệnh với rate 0.35 và gọi thực hiện biến đổi kết hợp\n",
    "with open(biased_35_path, \"r\") as f:\n",
    "    for line in f.readlines():\n",
    "        name = line.split('.')[0]\n",
    "        img_path = fd_img_path + name + \".jpg\"\n",
    "        img = read_img(img_path)\n",
    "\n",
    "        lb_path = fd_lb_path + name + \".txt\"\n",
    "        o_img_path = out_img_path_combine_35 + prfx_combine_35 + name + \".jpg\"\n",
    "        o_lb_path = out_lb_path_combiine_35 + prfx_combine_35 + name + \".txt\"\n",
    "        # handle_transform(img_path, lb_path, o_img_path, o_lb_path, create_multi_transform_fn(img))\n",
    "\n",
    "# Đọc các ảnh bị lệnh với rate 0.3 và gọi thực hiện biến đổi kết hợp\n",
    "with open(biased_3_path, \"r\") as f:\n",
    "    for line in f.readlines():\n",
    "        name = line.split('.')[0]\n",
    "        img_path = fd_img_path + name + \".jpg\"\n",
    "        img = read_img(img_path)\n",
    "        \n",
    "        lb_path = fd_lb_path + name + \".txt\"\n",
    "        o_img_path = out_img_path_combine_3 + prfx_combine_3 + name + \".jpg\"\n",
    "        o_lb_path = out_lb_path_combiine_3 + prfx_combine_3 + name + \".txt\"\n",
    "        # handle_transform(img_path, lb_path, o_img_path, o_lb_path, create_multi_transform_fn(img))"
   ]
  },
  {
   "cell_type": "markdown",
   "metadata": {},
   "source": [
    "SCALE GEN"
   ]
  },
  {
   "cell_type": "code",
   "execution_count": 25,
   "metadata": {},
   "outputs": [],
   "source": [
    "# Đọc các ảnh bị lệnh với rate 0.35 và gọi thực hiện biến đổi scale\n",
    "with open(biased_35_path, \"r\") as f:\n",
    "    for line in f.readlines():\n",
    "        name = line.split('.')[0]\n",
    "        img_path = fd_img_path + name + \".jpg\"\n",
    "        img = read_img(img_path)\n",
    "\n",
    "        lb_path = fd_lb_path + name + \".txt\"\n",
    "        o_img_path = out_img_path_scale_35 + prfx_scale_35 + name + \".jpg\"\n",
    "        o_lb_path = out_lb_path_scale_35 + prfx_scale_35 + name + \".txt\"\n",
    "        # handle_transform(img_path, lb_path, o_img_path, o_lb_path, create_scale_transform_fn(img))\n",
    "\n",
    "# Đọc các ảnh bị lệnh với rate 0.3 và gọi thực hiện biến đổi scale\n",
    "with open(biased_3_path, \"r\") as f:\n",
    "    for line in f.readlines():\n",
    "        name = line.split('.')[0]\n",
    "        img_path = fd_img_path + name + \".jpg\"\n",
    "        img = read_img(img_path)\n",
    "        \n",
    "        lb_path = fd_lb_path + name + \".txt\"\n",
    "        o_img_path = out_img_path_scale_3 + prfx_scale_3 + name + \".jpg\"\n",
    "        o_lb_path = out_lb_path_scale_3 + prfx_scale_3 + name + \".txt\"\n",
    "        # handle_transform(img_path, lb_path, o_img_path, o_lb_path, create_scale_transform_fn(img))"
   ]
  },
  {
   "cell_type": "markdown",
   "metadata": {},
   "source": [
    "ROTATE GEN"
   ]
  },
  {
   "cell_type": "code",
   "execution_count": 27,
   "metadata": {},
   "outputs": [],
   "source": [
    "# Đọc các ảnh bị lệnh với rate 0.35 và gọi thực hiện biến đổi rotate\n",
    "with open(biased_35_path, \"r\") as f:\n",
    "    for line in f.readlines():\n",
    "        name = line.split('.')[0]\n",
    "        img_path = fd_img_path + name + \".jpg\"\n",
    "        lb_path = fd_lb_path + name + \".txt\"\n",
    "        o_img_path = out_img_path_rotate_35 + prfx_rotate_35 + name + \".jpg\"\n",
    "        o_lb_path = out_lb_path_rotate_35 + prfx_rotate_35 + name + \".txt\"\n",
    "        # handle_transform(img_path, lb_path, o_img_path, o_lb_path, rotate_fn)\n",
    "\n",
    "# Đọc các ảnh bị lệnh với rate 0.3 và gọi thực hiện biến đổi rotate\n",
    "with open(biased_3_path, \"r\") as f:\n",
    "    for line in f.readlines():\n",
    "        name = line.split('.')[0]\n",
    "        img_path = fd_img_path + name + \".jpg\"\n",
    "        lb_path = fd_lb_path + name + \".txt\"\n",
    "        o_img_path = out_img_path_rotate_3 + prfx_rotate_3 + name + \".jpg\"\n",
    "        o_lb_path = out_lb_path_rotate_3 + prfx_rotate_3 + name + \".txt\"\n",
    "        # handle_transform(img_path, lb_path, o_img_path, o_lb_path, rotate_fn)"
   ]
  },
  {
   "cell_type": "markdown",
   "metadata": {},
   "source": [
    "GAUSSIAN NOISE GEN\n"
   ]
  },
  {
   "cell_type": "code",
   "execution_count": 39,
   "metadata": {},
   "outputs": [],
   "source": [
    "# Đọc các ảnh bị lệnh với rate 0.35 và gọi thực hiện biến đổi thêm nhiễu gaussian\n",
    "with open(biased_35_path, \"r\") as f:\n",
    "    for line in f.readlines():\n",
    "        name = line.split('.')[0]\n",
    "        img_path = fd_img_path + name + \".jpg\"\n",
    "        lb_path = fd_lb_path + name + \".txt\"\n",
    "        o_img_path = out_img_path_g_noise_35 + prfx_g_noise_35 + name + \".jpg\"\n",
    "        o_lb_path = out_lb_path_g_noise_35 + prfx_g_noise_35 + name + \".txt\"\n",
    "        # handle_transform(img_path, lb_path, o_img_path, o_lb_path, gaussian_noise_fn)\n",
    "\n",
    "# Đọc các ảnh bị lệnh với rate 0.3 và gọi thực hiện biến đổi thêm nhiễu gaussian\n",
    "with open(biased_3_path, \"r\") as f:\n",
    "    for line in f.readlines():\n",
    "        name = line.split('.')[0]\n",
    "        img_path = fd_img_path + name + \".jpg\"\n",
    "        lb_path = fd_lb_path + name + \".txt\"\n",
    "        o_img_path = out_img_path_g_noise_3 + prfx_g_noise_3 + name + \".jpg\"\n",
    "        o_lb_path = out_lb_path_g_noise_3 + prfx_g_noise_3 + name + \".txt\"\n",
    "        # handle_transform(img_path, lb_path, o_img_path, o_lb_path, gaussian_noise_fn)"
   ]
  },
  {
   "cell_type": "markdown",
   "metadata": {},
   "source": [
    "MULTIPLICATIVE NOISE GEN"
   ]
  },
  {
   "cell_type": "code",
   "execution_count": 43,
   "metadata": {},
   "outputs": [],
   "source": [
    "# Đọc các ảnh bị lệnh với rate 0.35 và gọi thực hiện biến đổi thêm nhiễu multiplicative\n",
    "with open(biased_35_path, \"r\") as f:\n",
    "    for line in f.readlines():\n",
    "        name = line.split('.')[0]\n",
    "        img_path = fd_img_path + name + \".jpg\"\n",
    "        lb_path = fd_lb_path + name + \".txt\"\n",
    "        o_img_path = out_img_path_m_noise_35 + prfx_m_noise_35 + name + \".jpg\"\n",
    "        o_lb_path = out_lb_path_m_noise_35 + prfx_m_noise_35 + name + \".txt\"\n",
    "        # handle_transform(img_path, lb_path, o_img_path, o_lb_path, multiplicative_noise_fn)\n",
    "\n",
    "# Đọc các ảnh bị lệnh với rate 0.3 và gọi thực hiện biến đổi thêm nhiễu multiplicative\n",
    "with open(biased_3_path, \"r\") as f:\n",
    "    for line in f.readlines():\n",
    "        name = line.split('.')[0]\n",
    "        img_path = fd_img_path + name + \".jpg\"\n",
    "        lb_path = fd_lb_path + name + \".txt\"\n",
    "        o_img_path = out_img_path_m_noise_3 + prfx_m_noise_3 + name + \".jpg\"\n",
    "        o_lb_path = out_lb_path_m_noise_3 + prfx_m_noise_3 + name + \".txt\"\n",
    "        # handle_transform(img_path, lb_path, o_img_path, o_lb_path, multiplicative_noise_fn)"
   ]
  },
  {
   "cell_type": "markdown",
   "metadata": {},
   "source": [
    "Generate translated image"
   ]
  },
  {
   "cell_type": "code",
   "execution_count": null,
   "metadata": {},
   "outputs": [],
   "source": [
    "# Phép biến đổi dịch chuyển\n",
    "translate_fn = A.ShiftScaleRotate(\n",
    "    shift_limit_x=0.3, shift_limit_y=0, scale_limit=0, rotate_limit=0,\n",
    "    border_mode=cv2.BORDER_CONSTANT, value=(0, 0, 0), p=1.0\n",
    ")"
   ]
  },
  {
   "cell_type": "code",
   "execution_count": 12,
   "metadata": {},
   "outputs": [],
   "source": [
    "biased_path = \"List_imgs_with_rate/rate_35.txt\"\n",
    "fd_img_path = \"wb_localization_dataset/images/train/\"\n",
    "fd_lb_path = \"wb_localization_dataset/labels/train/\"\n",
    "out_img_path = \"generated_dataset/translated_data/translated_biased_rate_0.35_data/images/\"\n",
    "out_lb_path = \"generated_dataset/translated_data/translated_biased_rate_0.35_data/labels/\"\n",
    "\n",
    "with open(biased_path, \"r\") as f:\n",
    "    for line in f.readlines():\n",
    "        name = line.split('.')[0]\n",
    "        img_path = fd_img_path + name + \".jpg\"\n",
    "        lb_path = fd_lb_path + name + \".txt\"\n",
    "        o_img_path = out_img_path + name + \".jpg\"\n",
    "        o_lb_path = out_lb_path + name + \".txt\"\n",
    "        #handle_transform_convert(img_path, lb_path, o_img_path, o_lb_path, translate_fn)\n"
   ]
  },
  {
   "cell_type": "code",
   "execution_count": null,
   "metadata": {},
   "outputs": [],
   "source": [
    "def gen(images_folder, labels_folder):\n",
    "    out_folder = \"generated_dataset/translated_data/translated_original_data/\"\n",
    "    f_images = out_folder + \"images/\"\n",
    "    f_labels = out_folder + \"labels/\"\n",
    "\n",
    "    for fileImgName in os.listdir(images_folder):\n",
    "        if fileImgName.endswith(\".jpg\"):  \n",
    "            general_name = fileImgName.split('.')[0]\n",
    "            out_img_name = f_images + fileImgName\n",
    "            in_img_name = images_folder + \"/\" + fileImgName\n",
    "            #print(out_img_name)\n",
    "\n",
    "            fileLbName = general_name + \".txt\"\n",
    "            out_label_name = f_labels + fileLbName\n",
    "            in_label_name = labels_folder + \"/\" + fileLbName\n",
    "            print(out_label_name)\n",
    "\n",
    "            #handle_transform_convert(in_img_name, in_label_name, out_img_name, out_label_name, translate_fn)\n",
    "\n",
    "gen(\"wb_localization_dataset/images/train\", \"wb_localization_dataset/labels/train\")"
   ]
  },
  {
   "cell_type": "markdown",
   "metadata": {},
   "source": [
    "THÊM CÁC LOẠI NHIỄU ĐÃ HỌC với numpy vì thư viện albumentations không hỗ trợ"
   ]
  },
  {
   "cell_type": "markdown",
   "metadata": {},
   "source": [
    "Định nghĩa các hàm thêm nhiễu"
   ]
  },
  {
   "cell_type": "code",
   "execution_count": null,
   "metadata": {},
   "outputs": [],
   "source": [
    "def add_pepper_noise(image, amount=0.01):\n",
    "    \"\"\"\n",
    "    Thêm nhiễu hạt tiêu vào ảnh.\n",
    "\n",
    "    Args:\n",
    "        image (np.ndarray): Ảnh đầu vào.\n",
    "        amount (float): Tỷ lệ của hạt tiêu.\n",
    "\n",
    "    Returns:\n",
    "        np.ndarray: Ảnh với nhiễu hạt tiêu.\n",
    "    \"\"\"\n",
    "    output = np.copy(image)\n",
    "    num_pepper = np.ceil(amount * image.size)\n",
    "    coords = [np.random.randint(0, i - 1, int(num_pepper)) for i in image.shape]\n",
    "    output[coords[0], coords[1], :] = 0\n",
    "    return output\n",
    "\n",
    "def add_uniform_noise(image, low=0, high=50):\n",
    "    \"\"\"\n",
    "    Thêm nhiễu đồng nhất vào ảnh.\n",
    "\n",
    "    Args:\n",
    "        image (np.ndarray): Ảnh đầu vào.\n",
    "        low (int): Giá trị thấp nhất của phân phối đồng nhất.\n",
    "        high (int): Giá trị cao nhất của phân phối đồng nhất.\n",
    "\n",
    "    Returns:\n",
    "        np.ndarray: Ảnh với nhiễu đồng nhất.\n",
    "    \"\"\"\n",
    "    uniform = np.random.uniform(low, high, image.shape).astype(np.float32)\n",
    "    noisy = cv2.add(image.astype(np.float32), uniform)\n",
    "    return np.clip(noisy, 0, 255).astype(np.uint8)\n",
    "\n",
    "def add_periodic_noise(image, freq_min=5, freq_max=50):\n",
    "    \"\"\"\n",
    "    Thêm nhiễu tuần hoàn vào ảnh.\n",
    "\n",
    "    Args:\n",
    "        image (np.ndarray): Ảnh đầu vào.\n",
    "        freq_min (int): Tần số tối thiểu của nhiễu tuần hoàn.\n",
    "        freq_max (int): Tần số tối đa của nhiễu tuần hoàn.\n",
    "\n",
    "    Returns:\n",
    "        np.ndarray: Ảnh với nhiễu tuần hoàn.\n",
    "    \"\"\"\n",
    "    freq = np.random.uniform(freq_min, freq_max)\n",
    "    noise = np.zeros_like(image, dtype=np.float32)\n",
    "    rows, cols = image.shape[:2]\n",
    "    for i in range(rows):\n",
    "        for j in range(cols):\n",
    "            noise[i, j] = 127 * (1 + np.sin(2 * np.pi * freq * i / rows))\n",
    "    noisy = cv2.addWeighted(image.astype(np.float32), 0.5, noise.astype(np.float32), 0.5, 0)\n",
    "    return np.clip(noisy, 0, 255).astype(np.uint8)\n",
    "\n",
    "\n",
    "def add_gamma_noise(image, shape=2.0, scale=30.0):\n",
    "    \"\"\"\n",
    "    Thêm nhiễu gamma vào ảnh.\n",
    "\n",
    "    Args:\n",
    "        image (np.ndarray): Ảnh đầu vào.\n",
    "        shape (float): Tham số shape cho phân phối gamma.\n",
    "        scale (float): Tham số scale cho phân phối gamma.\n",
    "\n",
    "    Returns:\n",
    "        np.ndarray: Ảnh có nhiễu gamma.\n",
    "    \"\"\"\n",
    "    gamma = np.random.gamma(shape, scale, image.shape).astype(np.float32)\n",
    "    noisy = cv2.add(image.astype(np.float32), gamma)\n",
    "    return np.clip(noisy, 0, 255).astype(np.uint8)"
   ]
  },
  {
   "cell_type": "markdown",
   "metadata": {},
   "source": [
    "Các hàm dùng chung"
   ]
  },
  {
   "cell_type": "code",
   "execution_count": null,
   "metadata": {},
   "outputs": [],
   "source": [
    "# Hàm thêm nhiễu dùng chung với nhiễu được lựa chọn\n",
    "def add_noise(image, noise_type='pepper', **kwargs):\n",
    "    \"\"\"\n",
    "    Thêm nhiễu vào ảnh.\n",
    "\n",
    "    Args:\n",
    "        image (np.ndarray): Ảnh đầu vào.\n",
    "        noise_type (str): Loại nhiễu ('pepper', 'uniform', 'periodic', 'gamma').\n",
    "        **kwargs: Các tham số cụ thể cho từng loại nhiễu.\n",
    "\n",
    "    Returns:\n",
    "        np.ndarray: Ảnh với nhiễu.\n",
    "    \"\"\"\n",
    "    if noise_type == 'pepper':\n",
    "        return add_pepper_noise(image, **kwargs)\n",
    "    elif noise_type == 'uniform':\n",
    "        return add_uniform_noise(image, **kwargs)\n",
    "    elif noise_type == 'periodic':\n",
    "        return add_periodic_noise(image, **kwargs)\n",
    "    elif noise_type == 'gamma':\n",
    "        return add_gamma_noise(image, **kwargs)\n",
    "    else:\n",
    "        raise ValueError(\"Invalid noise_type. Supported types: 'pepper', 'uniform', 'periodic', 'gamma'.\")\n",
    "    \n",
    "def noise_transform(image, bboxes, noise_type='pepper', **kwargs):\n",
    "    \"\"\"\n",
    "    Áp dụng phép biến đổi thêm nhiễu cho ảnh và bounding boxes.\n",
    "\n",
    "    Args:\n",
    "        image (np.ndarray): Ảnh đầu vào.\n",
    "        bboxes (list): Danh sách bounding boxes theo định dạng YOLO.\n",
    "        noise_type (str): Loại nhiễu ('pepper', 'uniform', 'periodic', 'gamma').\n",
    "        **kwargs: Các tham số cụ thể cho từng loại nhiễu.\n",
    "\n",
    "    Returns:\n",
    "        np.ndarray: Ảnh đã được biến đổi.\n",
    "        list: Bounding boxes đã được cập nhật.\n",
    "    \"\"\"\n",
    "    transformed = add_noise(image, noise_type, **kwargs)\n",
    "    return transformed, bboxes"
   ]
  },
  {
   "cell_type": "code",
   "execution_count": null,
   "metadata": {},
   "outputs": [],
   "source": [
    "def handle_noise(in_img_path, in_lb_path, out_img_path, out_lb_path, noise_type='pepper', **kwargs):\n",
    "    img = read_img(in_img_path)\n",
    "\n",
    "    with open(in_lb_path, \"r\") as inf, open(out_lb_path, \"w\") as outf:\n",
    "        bboxes = []\n",
    "        for line in inf.readlines():\n",
    "            values = line.strip().split()\n",
    "            x_center, y_center, width, height = map(float, values[1:5])\n",
    "            class_id = int(values[0])\n",
    "            bboxes.append([x_center, y_center, width, height, class_id])\n",
    "        # Áp dụng biến đổi nhiễu\n",
    "        transformed_img, updated_bboxes = noise_transform(img, bboxes, noise_type, **kwargs)\n",
    "        # Lưu lại các bounding boxes mới vào tệp nhãn\n",
    "        for bbox in updated_bboxes:\n",
    "            outf.write(f\"{bbox[4]} {bbox[0]:.6f} {bbox[1]:.6f} {bbox[2]:.6f} {bbox[3]:.6f}\\n\")\n",
    "        # Lưu ảnh đã biến đổi\n",
    "        save_image(transformed_img, out_img_path)\n",
    "\n",
    "def handle_noise_convert(images_folder, labels_folder, out_folder, noise_type='pepper', **kwargs):\n",
    "    f_images = out_folder + \"images/\"\n",
    "    f_labels = out_folder + \"labels/\"\n",
    "\n",
    "    for file_img_name in os.listdir(images_folder):\n",
    "        if file_img_name.endswith(\".jpg\"):  \n",
    "            general_name = file_img_name.split('.')[0]\n",
    "            out_img_name = f_images + f\"_{noise_type}_noise_\" + file_img_name\n",
    "            in_img_name = images_folder + \"/\" + file_img_name\n",
    "\n",
    "            file_lb_name = general_name + \".txt\"\n",
    "            out_label_name = f_labels + f\"_{noise_type}_noise_\" + file_lb_name\n",
    "            in_label_name = labels_folder + \"/\" + file_lb_name\n",
    "\n",
    "            # Xử lý nhiễu cho từng ảnh và nhãn\n",
    "            handle_noise(in_img_name, in_label_name, out_img_name, out_label_name, noise_type, **kwargs)"
   ]
  },
  {
   "cell_type": "markdown",
   "metadata": {},
   "source": [
    "Sinh nhiễu"
   ]
  },
  {
   "cell_type": "code",
   "execution_count": 7,
   "metadata": {},
   "outputs": [],
   "source": [
    "out_folder = \"generated_dataset/noised_data/original_data/uniform_noised_data/\"\n",
    "# handle_transform_convert(\"wb_localization_dataset/images/train\", \"wb_localization_dataset/labels/train\", out_folder, noise_type='uniform')"
   ]
  },
  {
   "cell_type": "code",
   "execution_count": 11,
   "metadata": {},
   "outputs": [],
   "source": [
    "out_folder = \"generated_dataset/noised_data/original_data/pepper_noised_data/\"\n",
    "# handle_transform_convert(\"wb_localization_dataset/images/train\", \"wb_localization_dataset/labels/train\", out_folder, noise_type='pepper')"
   ]
  },
  {
   "cell_type": "code",
   "execution_count": 15,
   "metadata": {},
   "outputs": [],
   "source": [
    "out_folder = \"generated_dataset/noised_data/original_data/periodic_noised_data/\"\n",
    "# handle_transform_convert(\"wb_localization_dataset/images/train\", \"wb_localization_dataset/labels/train\", out_folder, noise_type='periodic')"
   ]
  },
  {
   "cell_type": "code",
   "execution_count": 8,
   "metadata": {},
   "outputs": [],
   "source": [
    "out_folder = \"generated_dataset/noised_data/original_data/gamma_noised_data/\"\n",
    "# handle_transform_convert(\"wb_localization_dataset/images/train\", \"wb_localization_dataset/labels/train\", out_folder, noise_type='gamma')"
   ]
  }
 ],
 "metadata": {
  "kernelspec": {
   "display_name": "Python 3",
   "language": "python",
   "name": "python3"
  },
  "language_info": {
   "codemirror_mode": {
    "name": "ipython",
    "version": 3
   },
   "file_extension": ".py",
   "mimetype": "text/x-python",
   "name": "python",
   "nbconvert_exporter": "python",
   "pygments_lexer": "ipython3",
   "version": "3.12.2"
  }
 },
 "nbformat": 4,
 "nbformat_minor": 2
}
