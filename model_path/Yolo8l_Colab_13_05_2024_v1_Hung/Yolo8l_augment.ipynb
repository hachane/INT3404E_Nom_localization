{
  "nbformat": 4,
  "nbformat_minor": 0,
  "metadata": {
    "colab": {
      "provenance": [],
      "gpuType": "T4"
    },
    "kernelspec": {
      "name": "python3",
      "display_name": "Python 3"
    },
    "language_info": {
      "name": "python"
    },
    "accelerator": "GPU"
  },
  "cells": [
    {
      "cell_type": "code",
      "execution_count": 2,
      "metadata": {
        "colab": {
          "base_uri": "https://localhost:8080/"
        },
        "id": "TWHTAQGVT7w0",
        "outputId": "1d12d65a-c20d-4954-feab-f6bfedbc5520"
      },
      "outputs": [
        {
          "output_type": "stream",
          "name": "stdout",
          "text": [
            "Mounted at /content/drive\n"
          ]
        }
      ],
      "source": [
        "from google.colab import drive\n",
        "# connect to drive: if success, a window will pop up to let you click and choose the account.\n",
        "drive.mount(\"/content/drive\")"
      ]
    },
    {
      "cell_type": "code",
      "source": [
        "ROOT_DIR = \"/content/drive/MyDrive/wb_localization_dataset\""
      ],
      "metadata": {
        "id": "ZbGZrIiYMRLW"
      },
      "execution_count": 3,
      "outputs": []
    },
    {
      "cell_type": "code",
      "source": [
        "#install ultralytics\n",
        "!pip install ultralytics"
      ],
      "metadata": {
        "colab": {
          "base_uri": "https://localhost:8080/"
        },
        "id": "3X3KhXQ7V9SI",
        "outputId": "11bc478e-b2de-411d-e8fc-96edb8bfd548"
      },
      "execution_count": 4,
      "outputs": [
        {
          "output_type": "stream",
          "name": "stdout",
          "text": [
            "Collecting ultralytics\n",
            "  Downloading ultralytics-8.2.15-py3-none-any.whl (756 kB)\n",
            "\u001b[?25l     \u001b[90m━━━━━━━━━━━━━━━━━━━━━━━━━━━━━━━━━━━━━━━━\u001b[0m \u001b[32m0.0/756.9 kB\u001b[0m \u001b[31m?\u001b[0m eta \u001b[36m-:--:--\u001b[0m\r\u001b[2K     \u001b[91m━━━━━━━━━━━━━━━━━━\u001b[0m\u001b[91m╸\u001b[0m\u001b[90m━━━━━━━━━━━━━━━━━━━━━\u001b[0m \u001b[32m358.4/756.9 kB\u001b[0m \u001b[31m10.5 MB/s\u001b[0m eta \u001b[36m0:00:01\u001b[0m\r\u001b[2K     \u001b[90m━━━━━━━━━━━━━━━━━━━━━━━━━━━━━━━━━━━━━━━━\u001b[0m \u001b[32m756.9/756.9 kB\u001b[0m \u001b[31m15.8 MB/s\u001b[0m eta \u001b[36m0:00:00\u001b[0m\n",
            "\u001b[?25hRequirement already satisfied: matplotlib>=3.3.0 in /usr/local/lib/python3.10/dist-packages (from ultralytics) (3.7.1)\n",
            "Requirement already satisfied: opencv-python>=4.6.0 in /usr/local/lib/python3.10/dist-packages (from ultralytics) (4.8.0.76)\n",
            "Requirement already satisfied: pillow>=7.1.2 in /usr/local/lib/python3.10/dist-packages (from ultralytics) (9.4.0)\n",
            "Requirement already satisfied: pyyaml>=5.3.1 in /usr/local/lib/python3.10/dist-packages (from ultralytics) (6.0.1)\n",
            "Requirement already satisfied: requests>=2.23.0 in /usr/local/lib/python3.10/dist-packages (from ultralytics) (2.31.0)\n",
            "Requirement already satisfied: scipy>=1.4.1 in /usr/local/lib/python3.10/dist-packages (from ultralytics) (1.11.4)\n",
            "Requirement already satisfied: torch>=1.8.0 in /usr/local/lib/python3.10/dist-packages (from ultralytics) (2.2.1+cu121)\n",
            "Requirement already satisfied: torchvision>=0.9.0 in /usr/local/lib/python3.10/dist-packages (from ultralytics) (0.17.1+cu121)\n",
            "Requirement already satisfied: tqdm>=4.64.0 in /usr/local/lib/python3.10/dist-packages (from ultralytics) (4.66.4)\n",
            "Requirement already satisfied: psutil in /usr/local/lib/python3.10/dist-packages (from ultralytics) (5.9.5)\n",
            "Requirement already satisfied: py-cpuinfo in /usr/local/lib/python3.10/dist-packages (from ultralytics) (9.0.0)\n",
            "Collecting thop>=0.1.1 (from ultralytics)\n",
            "  Downloading thop-0.1.1.post2209072238-py3-none-any.whl (15 kB)\n",
            "Requirement already satisfied: pandas>=1.1.4 in /usr/local/lib/python3.10/dist-packages (from ultralytics) (2.0.3)\n",
            "Requirement already satisfied: seaborn>=0.11.0 in /usr/local/lib/python3.10/dist-packages (from ultralytics) (0.13.1)\n",
            "Requirement already satisfied: contourpy>=1.0.1 in /usr/local/lib/python3.10/dist-packages (from matplotlib>=3.3.0->ultralytics) (1.2.1)\n",
            "Requirement already satisfied: cycler>=0.10 in /usr/local/lib/python3.10/dist-packages (from matplotlib>=3.3.0->ultralytics) (0.12.1)\n",
            "Requirement already satisfied: fonttools>=4.22.0 in /usr/local/lib/python3.10/dist-packages (from matplotlib>=3.3.0->ultralytics) (4.51.0)\n",
            "Requirement already satisfied: kiwisolver>=1.0.1 in /usr/local/lib/python3.10/dist-packages (from matplotlib>=3.3.0->ultralytics) (1.4.5)\n",
            "Requirement already satisfied: numpy>=1.20 in /usr/local/lib/python3.10/dist-packages (from matplotlib>=3.3.0->ultralytics) (1.25.2)\n",
            "Requirement already satisfied: packaging>=20.0 in /usr/local/lib/python3.10/dist-packages (from matplotlib>=3.3.0->ultralytics) (24.0)\n",
            "Requirement already satisfied: pyparsing>=2.3.1 in /usr/local/lib/python3.10/dist-packages (from matplotlib>=3.3.0->ultralytics) (3.1.2)\n",
            "Requirement already satisfied: python-dateutil>=2.7 in /usr/local/lib/python3.10/dist-packages (from matplotlib>=3.3.0->ultralytics) (2.8.2)\n",
            "Requirement already satisfied: pytz>=2020.1 in /usr/local/lib/python3.10/dist-packages (from pandas>=1.1.4->ultralytics) (2023.4)\n",
            "Requirement already satisfied: tzdata>=2022.1 in /usr/local/lib/python3.10/dist-packages (from pandas>=1.1.4->ultralytics) (2024.1)\n",
            "Requirement already satisfied: charset-normalizer<4,>=2 in /usr/local/lib/python3.10/dist-packages (from requests>=2.23.0->ultralytics) (3.3.2)\n",
            "Requirement already satisfied: idna<4,>=2.5 in /usr/local/lib/python3.10/dist-packages (from requests>=2.23.0->ultralytics) (3.7)\n",
            "Requirement already satisfied: urllib3<3,>=1.21.1 in /usr/local/lib/python3.10/dist-packages (from requests>=2.23.0->ultralytics) (2.0.7)\n",
            "Requirement already satisfied: certifi>=2017.4.17 in /usr/local/lib/python3.10/dist-packages (from requests>=2.23.0->ultralytics) (2024.2.2)\n",
            "Requirement already satisfied: filelock in /usr/local/lib/python3.10/dist-packages (from torch>=1.8.0->ultralytics) (3.14.0)\n",
            "Requirement already satisfied: typing-extensions>=4.8.0 in /usr/local/lib/python3.10/dist-packages (from torch>=1.8.0->ultralytics) (4.11.0)\n",
            "Requirement already satisfied: sympy in /usr/local/lib/python3.10/dist-packages (from torch>=1.8.0->ultralytics) (1.12)\n",
            "Requirement already satisfied: networkx in /usr/local/lib/python3.10/dist-packages (from torch>=1.8.0->ultralytics) (3.3)\n",
            "Requirement already satisfied: jinja2 in /usr/local/lib/python3.10/dist-packages (from torch>=1.8.0->ultralytics) (3.1.4)\n",
            "Requirement already satisfied: fsspec in /usr/local/lib/python3.10/dist-packages (from torch>=1.8.0->ultralytics) (2023.6.0)\n",
            "Collecting nvidia-cuda-nvrtc-cu12==12.1.105 (from torch>=1.8.0->ultralytics)\n",
            "  Using cached nvidia_cuda_nvrtc_cu12-12.1.105-py3-none-manylinux1_x86_64.whl (23.7 MB)\n",
            "Collecting nvidia-cuda-runtime-cu12==12.1.105 (from torch>=1.8.0->ultralytics)\n",
            "  Using cached nvidia_cuda_runtime_cu12-12.1.105-py3-none-manylinux1_x86_64.whl (823 kB)\n",
            "Collecting nvidia-cuda-cupti-cu12==12.1.105 (from torch>=1.8.0->ultralytics)\n",
            "  Using cached nvidia_cuda_cupti_cu12-12.1.105-py3-none-manylinux1_x86_64.whl (14.1 MB)\n",
            "Collecting nvidia-cudnn-cu12==8.9.2.26 (from torch>=1.8.0->ultralytics)\n",
            "  Using cached nvidia_cudnn_cu12-8.9.2.26-py3-none-manylinux1_x86_64.whl (731.7 MB)\n",
            "Collecting nvidia-cublas-cu12==12.1.3.1 (from torch>=1.8.0->ultralytics)\n",
            "  Using cached nvidia_cublas_cu12-12.1.3.1-py3-none-manylinux1_x86_64.whl (410.6 MB)\n",
            "Collecting nvidia-cufft-cu12==11.0.2.54 (from torch>=1.8.0->ultralytics)\n",
            "  Using cached nvidia_cufft_cu12-11.0.2.54-py3-none-manylinux1_x86_64.whl (121.6 MB)\n",
            "Collecting nvidia-curand-cu12==10.3.2.106 (from torch>=1.8.0->ultralytics)\n",
            "  Using cached nvidia_curand_cu12-10.3.2.106-py3-none-manylinux1_x86_64.whl (56.5 MB)\n",
            "Collecting nvidia-cusolver-cu12==11.4.5.107 (from torch>=1.8.0->ultralytics)\n",
            "  Using cached nvidia_cusolver_cu12-11.4.5.107-py3-none-manylinux1_x86_64.whl (124.2 MB)\n",
            "Collecting nvidia-cusparse-cu12==12.1.0.106 (from torch>=1.8.0->ultralytics)\n",
            "  Using cached nvidia_cusparse_cu12-12.1.0.106-py3-none-manylinux1_x86_64.whl (196.0 MB)\n",
            "Collecting nvidia-nccl-cu12==2.19.3 (from torch>=1.8.0->ultralytics)\n",
            "  Using cached nvidia_nccl_cu12-2.19.3-py3-none-manylinux1_x86_64.whl (166.0 MB)\n",
            "Collecting nvidia-nvtx-cu12==12.1.105 (from torch>=1.8.0->ultralytics)\n",
            "  Using cached nvidia_nvtx_cu12-12.1.105-py3-none-manylinux1_x86_64.whl (99 kB)\n",
            "Requirement already satisfied: triton==2.2.0 in /usr/local/lib/python3.10/dist-packages (from torch>=1.8.0->ultralytics) (2.2.0)\n",
            "Collecting nvidia-nvjitlink-cu12 (from nvidia-cusolver-cu12==11.4.5.107->torch>=1.8.0->ultralytics)\n",
            "  Using cached nvidia_nvjitlink_cu12-12.4.127-py3-none-manylinux2014_x86_64.whl (21.1 MB)\n",
            "Requirement already satisfied: six>=1.5 in /usr/local/lib/python3.10/dist-packages (from python-dateutil>=2.7->matplotlib>=3.3.0->ultralytics) (1.16.0)\n",
            "Requirement already satisfied: MarkupSafe>=2.0 in /usr/local/lib/python3.10/dist-packages (from jinja2->torch>=1.8.0->ultralytics) (2.1.5)\n",
            "Requirement already satisfied: mpmath>=0.19 in /usr/local/lib/python3.10/dist-packages (from sympy->torch>=1.8.0->ultralytics) (1.3.0)\n",
            "Installing collected packages: nvidia-nvtx-cu12, nvidia-nvjitlink-cu12, nvidia-nccl-cu12, nvidia-curand-cu12, nvidia-cufft-cu12, nvidia-cuda-runtime-cu12, nvidia-cuda-nvrtc-cu12, nvidia-cuda-cupti-cu12, nvidia-cublas-cu12, nvidia-cusparse-cu12, nvidia-cudnn-cu12, nvidia-cusolver-cu12, thop, ultralytics\n",
            "Successfully installed nvidia-cublas-cu12-12.1.3.1 nvidia-cuda-cupti-cu12-12.1.105 nvidia-cuda-nvrtc-cu12-12.1.105 nvidia-cuda-runtime-cu12-12.1.105 nvidia-cudnn-cu12-8.9.2.26 nvidia-cufft-cu12-11.0.2.54 nvidia-curand-cu12-10.3.2.106 nvidia-cusolver-cu12-11.4.5.107 nvidia-cusparse-cu12-12.1.0.106 nvidia-nccl-cu12-2.19.3 nvidia-nvjitlink-cu12-12.4.127 nvidia-nvtx-cu12-12.1.105 thop-0.1.1.post2209072238 ultralytics-8.2.15\n"
          ]
        }
      ]
    },
    {
      "cell_type": "markdown",
      "source": [
        "- More details about YOLOv8's architecture can be found on the internet\n",
        "- YOLOv8 có nhiều biến thể: nano, small, medium, big,.... => để triển khai trên các thiết bị có phần cứng khác nhau như camera siêu nhỏ thì chip cũng siêu nhỏ, thì chỉ nên dùng yolov8 nano kiểu vậy. Còn đâu có cái GPU to, phần cứng tính toán to hơn có thể dùng yolov8 big => các phiên bản YOLO kiến trúc cơ bản giống nhau nhưng có thể khác nhau một vài chi tiết nào đó => ai đam mê thì lên mạng đọc\n",
        "- Trong paper, của thầy thì thầy thử nghiệm các phiên bản khác nhau của YOLOv8 với bộ siêu tham số (hyperparameters) giống nhau như dưới:\n",
        "![image.png](data:image/png;base64,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)"
      ],
      "metadata": {
        "id": "Ph4YENBFuWvM"
      }
    },
    {
      "cell_type": "markdown",
      "source": [
        "- Kết quả của thầy là YOLOv5x xịn nhất nhưng tốn thời gian nhất vì nó to nhất, nên t đã train theo model có kết quả xịn thứ 2 là YOLOv5m\n",
        "![image.png](data:image/png;base64,iVBORw0KGgoAAAANSUhEUgAAAaUAAAB5CAYAAACZWT5OAAAAAXNSR0IArs4c6QAAAARnQU1BAACxjwv8YQUAAAAJcEhZcwAADsMAAA7DAcdvqGQAAF6ESURBVHhe7d0JuHVVWQfw8xUZlrOZoBFiIpniHBAOZVqOKM5aKiChgoIaqIAkKJhIDggmRU6Bin4oDojmhIoYaioqDqmpqOSYpigOpO7Wb337vd+669vn3nPucO459+7/89znnnGfvdZ61zutd9jUJAx69OjRo0ePKcCvtf979OjRo0ePNUcvlHr06NGjx9Rg041vfOPefdejR48ePaYCm/7rv/6rF0rLwH777Tf4u7/7u8FNbnKT9pUeC+HP/uzPBu9617sGv/Ebv9G+sn7x1Kc+dXC/+91vcIc73KF9pUeJT3/604MXv/jFg3/6p39qX9lYuOyyywaHH3744HWve137Sg9YMNDhV7/61eCMM84Y/O///m9+/od/+IeDe97znvlx4Be/+MXgH//xH/Nnf/3Xf32wzz77DHbZZZf23YXxn//5n4N3vOMd+buu6/rD8LKXvWxw+eWXD3bdddfBfe5zn/bVtcctb3nLwate9ar8fzF87nOfG7zzne/M44VNmzYNtt9++8Htbne7/Pdrv7Zy3lTLevzxxw+ufe1rDw499ND21W3xnve8Z/Ca17xm8KIXvWhwtatdrX119UAY/eQnPxlJKP37v//74MMf/nD7bMt8/eZv/mae6z322GNVBNsFF1ww+NjHPpYfP/nJTx686U1vGnzlK18ZXPe61x086lGPyq+PCnT6uMc9biR6/chHPpLHO2w7PuABDxjsvPPO+fH//d//DV75ylcObnWrW+V5mFVcdNFFg7/927/N/xcDmnn1q189+PGPf9y+si2s10rD7/7rv/7r4Gc/+9ngjne84+CP//iP23eWj2QQDO5xj3vk/4vBmp955pmDH/7wh+0rg8F222032HHHHQd3v/vdB1e/+tXbVyeHt7/97Xl/nHzyyYOrXvWq7asrAEJpIfzP//xP87u/+7t2SnO9612v+fnPf96+swWvf/3rm8Qo8vunnnpq++roOPDAA/N304S3r3Rj8+bN+XP3v//921emA7vvvnvzyU9+sn22OJ7xjGfkcey0007Nd7/73ealL31pfp606eb73/9++6nl46tf/Wq+7m/91m+1r3TjTne6U/7cOeec076yukgbqbnyyivbZ4vjwQ9+cL6/xAyaxJCapMQ0SRg1N7vZzZovfelL7adWDmnT5znzm3DJJZfkx0lhys/Hwb3vfe/m3HPPbZ8tjsc85jH5t8yRsSVlMH8/WeHNv/3bv+V5O/3005sb3ehGE12z1UISws1ee+3VPlscX/7yl5ukuOWxP/OZz2x+9KMfNf/93//dHHnkkU1SWNpPrTye/exn59/0fyXxxS9+sfmDP/iD9tniwIuvda1r5XtBB/iFe/rt3/7t5uijj26Sstt+cnVgvo877rj2WdMkRTrfiz25klhUNach/vVf/3WWhImJDt7whje072xBmtg5DZvmNi5G1c6vf/3rt49mGzFHiZAGv/M7vzNIQjlr/h/84AezxrFS+P3f//2sxbz5zW9uX+lGEoqDl7zkJYP73ve+7SvThZiv3/u938tz9pd/+ZeDu9zlLtnqTIwpv7eSuMY1rjFP65sk3YWn4CpXucrgxje+8SAxoMG97nWvQWJA+XVWwsMf/vCRrPL1CB4YljJYJ7wjKcyD5zznOdniWC2sqBWwDODFYRHZ37wgSRgNHvSgBw3+/u//fnDMMcfk91YDSVYMHvvYx2bPSoAX7Z//+Z8Hd7vb3dpXVgYj+YtK10Xp/8VIhwkirjb+YozjvPPOm+eW+MIXvpAnEzNMllf76lYky2PwrGc9KxPbN7/5zfbV9Ysg+u985zt5zE960pMGyeocfP7znx8kLTALfvja1742OPHEEwcnnHBCdn0GfvrTn2b3Jnddslzza8myHLz3ve8dvPWtb83PAUH5DHejzyVtfHDaaafl3/nEJz7RfmqQz3ySRTc45ZRT8j3BBz7wgewecW9JY83uPvf2jW98I78/SXAT10ga8+C5z31uphtnFQH0xf2SNLzBWWed1b66xZ/v8163sbrocK3BZUQJvPOd7zxIlmFmQhjxOIIS47AHX/GKVwze9773ta9u3WNJ0x58+9vfbl8dZFclGvPepz71qfwa15HzMWuPruz7o446apA09fy+z6Grf/iHf8jrMEmg02RB5HNdcJTgPo2BO/QpT3lKFurJyszvg+MItG1ejKUEvoUevFcrdHgYRc81S+aMlo499tjBC17wguxWveKKK9p3JgOuXTB2v21fmgPuzo9//OPZRer5u9/97uyOfNrTnpafGwuasLbhQjQfeJB5ddQQePSjH53d/Pa+7+M///Iv/zL47Gc/O/jMZz6TP2N+3va2t+W5wPu/973v5dfNld/z99WvfjXPE/4fvGUbpAstisQEm6SZZhPZV9JN5NfTYJtf/vKXTRJa+fULLrggv/6tb30ruxyShdWkjZVdLQcffHB+LxFwdo/8+Z//eXPxxRdn8913w33HFGSif/SjH23SzTdJ6OVrvP/978+fm3X3XWIyeRzhDkqLmt1RyWrKLpuLLroov580oebud797fvw3f/M3ec6TdpjdOEloNNtvv302/xMRZteWeWFe+7z1SoKqSQwsP4c3vvGNTWJm2QVkbu9zn/vk1/fff//8mZh/a+p+kjLQvPCFL2yuc53r5HWCMNf/6q/+qklMKD++/e1vn98bFeO674zF78S6J6aZ6YdLOehQsI77NLdJCDfJ0sjuS3TDLWoef/GLX+TrcHOgZddImzK7yMy1dYz7CnqGtHHy40m479C730pKSr5Ha9Tl1j7ooIPy5xZz33G1/Mmf/Ekeu7k5/PDD8+uuyeVjjqzlDW5wg7yPE0PKdJWYUd7L9mFSYPJ3Xv7yl8/NQ7h8n//852d6NN9ca4nR52uhw1EwrvsOzI3ffvrTn94kJSM/5wYPhNsa7XNtuUfPzRl8/etfz+udGGpz6aWX5veScpLf83znnXduklDKxxLeswdiXYzd42S153lKylz+7R133DHTkr34p3/6p/PuZyGM674Dbn/3Yt4DSaHMr/mzbujC40c84hH5fXPlebgfjc/zP/qjP2ruec97Zr7+yEc+Mq9xssSyWzApcvkzSdDl76AJz+1344aHPOQh+bWgw8c97nF5XyVhlH/LHsXfwG/5LH4TRxhJ2crv1Rj5ZJ1rIUxk1hKNivup63CepCV5mXXM7b/4i7/IGjkLiQZDWidGO7j1rW892HPPPdtvbQErwAG2g3/Xp9E5UFtvoEXQRmgdtDLj5LK55jWvmd+nERt3Ir5BIqpsntPi9t577+y+oUWfffbZWRv6j//4j2zJJoIYJGGf3RwCKMLVAQ6TaSa0qUQgeZ4hfg9oPbSYRHiDHXbYIa8bbZiGA2HRcRP4o7nTxCYB1pyDZnSYNnK28owDWDzuU5Sbe6cV0wJZgzQ/c8O6Qr/mmBuaZcSi4iLjCrnkkksyTU8DBMJceOGF+Z6WA5aC9aH5G/sTnvCETDeHHXbYIAmWPO7ERLO3QxAJ68f/u971rnku0c8Tn/jEPFdBJ+acBZ4Y0SAxmKzxXu9618s0hy5ZzjTy1QaNPSmq2UtQImj0hje8Yb43958EZbYYWREsQB4HAVkCR25605vm/ZUU6UzTNPnEoAe3uMUtBre97W2zhRpITD57CwQWmEcuZHTIm2NfoavXvva1Ew864MoMCDyLOQjwdJWI942PZYPHsHLNC96Md9/oRjfKnzn//PPzf+5z8F1zBiXvSIpulgv4U1IQM+/Ab4444oj8Pn4EPBP4HdoaxjvGCveK6JakaQ2e97znZaLsAqKFWBzMEmySiKbC0LrAjWRiuRW4rTDE+P56AkKxQd7ylrdkZmDjlPA+BmEDIJAPfehD+XXEw2w2LyIRzSlguhQEpnLSfvNrJWw0gs4aYuo2VY1YN5+DmHeb35oE3Bf4vYgkXG3stttumSYIHMya0AnE3DiTc0Zmbri4Iqor3H2EvDM8DNmGMccYV9Ke8/uTGsticL+UNsw95nop4MaxRo9//OOzMBe5ZX9xX8WcPOYxj8mMye+gJUzHd/xhJJQnClOAoui7yXLNdIKxUJasDVeQuceUVhuiDim6SVtvX5mPmDf3SvgSrARmMFnnk4DG0Tb3dLjkfAe9icK0/wIl3QN6oVgnazS7vDFrwq9UBieBiMhz39Z5VFhLcE5rv1CSjdne4oaEUfdE8I5yXqFWUEbhHWMJJdKPBvGDH/wgawfCEbtA+ywRP06ih6D65S9/mf/XsBG8ZyNh2sl8zpO20RGLTOun2ZkXB5wxn4uFldJ0hB07rKTR7bvvvu07W7HQugUTW0vQ6tEF+H/ppZfmx8EEHvawh83NzUMf+tChc4N2WQMEmI240047te9MF+S+LScEmVV48cUXDw466KAseO3fUDho+E0Vfl5q3BDrX9NFQEiyoAyKAgHoLMHcOwObFKQ72BsY87CDfmdimCFhWVsx5RhH3UslKHfOKinprs/zMUqI+0qCpwTufe97D+XJo4DXZa+99spCfJjBMQzDeMcw2lkIIwml8uAuXDkIPRDEHYImBhSH4A4/mXqECw0LbBb40Y9+lP/HILifwEEZ0MRo6usFNsgoqBmGKCwQAAEOp2khBBM8//nPnztYDOuphMN+TIqJLdChtHwCIvBsrHLd4IADDpjTcCaNoKmgD+5f46Cds/68LhoPgma4YrgkHAC7b0EZcZiPYWAgLAauKN/3+WlFuEpK1HMyDA7kuagc9BMaXDM3v/nNszbtoJrHA7gtKSqsDvtRlB/F039WQHkPJV3SdrkFWSGsd+DSKoNmVhtcutaYZRnuXDAO90oB4aZ1HMAyDsvKmps/75sjNPTABz4wvydowhwbV2kldsH7AiIkwfodgr3LC7FSqPkC3ixow9i5aSFcZZHTFf9reqmvZV+4dwnudRBC7H/XwB9qwW3uCHXzCcE7rMvYSDc2FGlhmrTRmxve8IZNuuF8EOwA3QGV99IAmpNOOikfaDmoTzeWD6IhLWw+xJSHc8tb3rJJ5l1+3Xcc4DocPOSQQ5qk3TZJYDWJuHOAxGWXXZY/79YcPjusTRORr+c3bnOb2+TchGnBOIEOaSGbJJjzOHbYYYd82GoeSwgg8P4uu+ySgx4CDlEdSpqXXXfdtUnKwVzOWGLU+eDVPO6zzz75ew48zbFrCYxITCkfZr72ta9t9ttvv3xQ6hBfIIDPPOEJT2iSwMzfFaRi3ZMgzEEW1j0xsXzQ67MveclLmq997Wv5wDeuPyrGCXRwL7e97W3zbzjglZuBft73vvflnDmvJ2s65xaljZTnxr0/+clPznQKSSDlw9e0YTJ9JoHdnH/++fmgP1l/+TDY677rQNhhv7Vx7be97W3NGWeckR87HBekMw7GCXRIylfeF37LfkrKQ5M2f/vuFjiAdqhs/X1OAIexDAN6QQ8CAsxPYp75deNwDWN2cG1vQ2Jezf3ud7+8L80h2rDX0KgDar/p81/4whfy58F+tSddSyCM+R4V1mLUQAf0j9fEuuNBgmCSZdLsscce+TX3iqbdi88lazqPAe187GMfy9dJyljOjcR3HMbf4ha3mDuMR1sCanzfdx772MfmwIlkdefr+28NzJHnhx12WOZreID9IihCXh1+NQrGCXSwZwQiBG3il8985jObfffdNwdzuK8A2r/b3e6WAxjQiDHhDYIw5DrZ065h3gQ9BZISk8eelJC8r+yRJGTz/ha8kpTBvH99zrrHvNs3aEQwms/Yp8kqz3RkvuX62Zc++4pXvCIHdBkHOo/guBILCqXlArPAiN1YDYudtN055lGDcENg045xo++WCxtPBFGNpNnmxSZYuoDhQNJk8mcXAgJzLZFpK41xo+/GgY1SM3JAh6LDSgXAJvZ5QJ8ir2oFYbkYN/pupRFRYOakZFpgrPZmFy1QDikd48B+rX9jMYwjlEZFCCUKlHV1X6G8lRAhhia6YI8FbSyGZH3mufQfT+vidcOwlOi7UYEPGJ/7ItBHAWFqvvBlMJeEWIBgCqNjGIwfXdlzS0XfT2mZEHE0apmhHuOVGZp1KC80apmhjQiu1FHLDI0KbsikgWeXo4jNaQYXGPen/z22YqxAhx49evSYZqil6fzIGbbw7Pocpcf0oxdKPXr0WDeQSyRnRqSpaMwI3+4xO9h0xBFH9O67ZUB+grDdpYQ+bkQomyMCcyMwCwmwIgXrHLQeWxA5UBFxu9EgKk5+VN15YaNjk4iW9nGPJUDSmMxo7oIei+Pcc8/N+RQbQShJ6pX4rDpGj23x/e9/P9dNk8y8EUEooZGVLmg688jhDisIkSgivES3LBeiPUTBDIvQGwcrcY0uTDr6LiCiZpToRFE4oom6ooK8JtKqa2681xXJVkLk1rjzupToO2NAU6NENvmciKOFgK7qyEJjFRLcBe91RXAthklG34m0WyyqEtCNNV8O6ihF8+2a40Yvrkb03WrBGCOasQZ6tsdGDQUPrGb03WLo2kuL7Utj7NpbrjWMxywFC6qrDgklW9L2RJdFORdQAojGK3okolyU/ZDkqSabZDpVAyQxQmIsuXSFihAS8hxIDoMaedplyI7mHvP/4IMPHivJUVVkmcnxp1L5eoGqvmpKKWmiwkMkx9VQUkWy8xvf+Ma8TpH5DdwmuuaaF0mo5XpYZ8l43E6SLbuimBIDz+u42onN7p27T7Vz/6NydQ3JsSoZS2TU3iGSOUsop3PIIYfkTp9JmObX1FBTesg8mI/Nmzfn10EioCoIstxZO8Nqda0lJImK7pMgq6ZYVMvugiTLk046KX9WorTq2iD6SwJpuV+UsJI8CuYKPcR76jAGJGyq5KA0jXpy4+zRWYGACTXdVNiw3xLzbd/Z8p7EUbSlvFdUGZlWoHf7o+x26wxOuaQoLVQjGQa5moq9oWiCMQfUllRT0b7DYzxfNlrhtCBU/6XhJmbVvrIl90N16tAeJLfuueee82Lioxqz5L1AmpDmiU98YvtsW4itl/R5ZlUdWWVbSbW03FGQNl1ONPSngu+w/J3lYtKWkoTOREDtsy2VoCXx1TBPEgBDs1El3LxG/oBGcZGPQMP1njmi8UpIlAslsU4ynHWuIeHyale72rxqxaNgHEvJvV7rWteas9iSstMkIdn5fVZJJPHKrZAsK5kvkAR5TiCt6UcCoCrLwLqXZBjrKTkx6FuipeTDcTAJS+moo46at/4SH81TjQsvvLC5y13u0j5rcnKs5FpQ+dpaG6s/FbIlZwYkQyZBNLefYj0k/ErSDLznPe9pHvSgB7XPFscsWEpyj8wHoA+JwhLQwV5BZyV93vGOd1yV5NmVgH2jwrdiCDV/laSOx3ZBsnAkWNtb9r2EY54FPCZ4ig4PkpaHWZSjYmT3HWKTBR5C59BDD82MDggf8q0ru1zGsUkI0147C9UIhuEBD3hAzvatF9aEYhg2x2LAnGRWv/vd7141YRSYtFA64IADMhMJSGazMWrTWasC2eoB84nBq1AAiOfDH/5wfsyVZY0Q2Uc+8pF5c4+xW9tyHjEfVRWue93rrqpQStpcroARIER9vxQ2YFOozlAmPCqrj9YAXdpIyZrKzwPRuqB022HGoTSViYPmhUI1DiYhlGTKJwu4fbal9Ug5ZwFjivYxgGaN3RzUTMTeLhkUYa6FRe0u/sAHPpB/PxQfymfM+SiYBaFU8w/VIKI6jUoqXfQZ1SMWw1q573bbbbeRhRLlVCsbAjigSgQe/va3vz1XnilBuVWNZDkY+bRZaXbRMtxGKskmQpwr6qmuGvcGE69GkrK5DpIok8Xg4NNBuGiUutaaZEuve5+rhluFe4mrD0R1uR8uB/W3uCQcICphH7+tNDs3oJpo3JLaHHATpnnI788CVDIua5FxrXKv1G6tH/zgB3PuFzCfKrOHC0/hUkVLraXHUd1YJGE592mT5fL9/oPrqtLdtdYrjXqsamsJKEnMrH1lC7gvk9Izb7zqnAkLBm4ttMDt4HEkaxoLlN9z/Zgj14AkRHPxVi1ZpgnoGZ2Xc6Twbj0/kAT3NvMD5uh32mrRAXvMvgXuKEEpkoDtJcmusV/UnfOaMGxtT7h3uAjXE4LuQb1OBW3VhgMusC76jGrjswb0xN2Ppyh0C45iVP4uG0smQZrHWPMYQFf2D37Enav2naLH2qPg3xdccEHmwX4Dz+nCyEJJlrSCfc6NFB/Udyeg4rDQ166IqmTe5f+IdjGoZJw0k3zDXbDhkmWQJ4hQ4RN37gUea+uAsZpQ/n8Cy5mIDYZx8Ycbh99xfmCCnFWMIjCnBdoORMXwAKKhMJRw3oNhOZODmKeopKDPjAK5BDMf+bDKzs4MdBUNOI/AoCYBSko9Vutbj5Vy4kxEJ+MAIWWsFBjnXjaF8yR+bxXC9VoibIXyl99Df2W1CedKfPDGHRXKpwXmB6JdAJgftE6QlkAPzufizCfORcqxAiWFoAkmZC9iQMlKyhXAtQfBAwLOkjAg8+u8ZRJtK9YCxum83FllCH200UWf5moW4XzS+tovihvj2d/4xjc6+U2yrvNZqzmIDr2UFX9oSgwCnoPOdHtw1qRtkWuhH7REGe7CWHG5BxxwQK5AS+ssy9y7yXoTBFhUMErrg9hcC11LqXwgrQVaYBZgchzOlvDcRiS9o6+H73uub4wJotnE5p4FuO8QMAEM2GYogeGyChz+01ZosBhSlENCeA5uMWcWBCFVQzAEZu8gF/R+ou3Uv7Va6Bqr512/z5JR7okA0duHUmKsNhpobEfr1VRS+w5KDVrwPRuEtq9ZoI24++675+/AjjvumK1wYxcMMYpyNSmYHyjnyGPKYS1s7F3Wrb3L2hHw4HOUthKYb3hASvgtQllzyPKQnKJq3gl8HohQgtYbzAlLQn8ljeoAL+yiz2gPMmsIWrDnrTe+GBXHS+A3xkhhQUfWHp8h0ARFxP6xvyg44PMMAn+AB4enosZYQgm4dmqLiPapbHtXFBhXj+/YDAtBNBcXIEZZRvmVcC1uuwAzkOuQ9VR2iCxB6IicoQEPwyy572i85Ty7d0JcVGMNkVjWBeNAQKxW7krW1oMf/ODMqAgcAso8RjsRQFxysGg5AdoTRSCisFxH5B4NeTUg/6umKe6Crh5D6EvXUAJGhBArUVQYjZ8wQl8Bmy+0WePnomL5awNCudF0sQZXhG6sYWlMA+wVymEIXjA/rN8u9zcFzZoS2tx51q5W5AglUY7DwFqIvcTNx9tA0GsPwkNB4K9XmENCmWcI6r0I5n+S/aRWE3gL3lnuHTDmyC1znOO4ROsc+4rnQTTrKKgFemBsodQF7jESEUHXoGEq98G9txAwE4xCZ1QdLDGHEgQSpknjDRBQ3AW0/PCBdwGDDT/wrIPGhrEECBRdOId18iWULT5Gy72JQZtb5ndo2sJBKRYx5zQkQqq0nrgs+JdZIPGHAJ01ElarAYIGLQSEs9LS3GsXWFCEEPcy4atvED8/C6F00XIpGHPAPKAjtIX+hlVgMN7Silpr8D6g63KOhPdSOIbhete7Xq40IYS5VDiAICfMeCGGwRpEN1aWdNAQsFK5e9YzjDeUInuxpk/7bb3wGlBtgxJShrrjOWUTQIoRQ4WA4m1YridlLKEkYMGGJhlLKcfE02qaYDnzzDOzm40gQKQ0sYh/p53J4PZ9Glac6XALyCsiuJiCNDmugGiNjglr23zOOefMuZ/ABnK+wQoIM9PZEm2eMGRByKlwHzYjEHyRo+J+Lr/88vx/VsDNxI1AqFgDbqjwzWISrM1oaAf8/RqbsQTkpoCcE4xLwzxwPaa0RmfWTt6LcwTMHwOiEbK4bDiH4vFn/hFk6cpdSbD+CAG0Ba95zWuyRh5Ej7bK/DNrz/pz+BzNEIEbEwNm2dH+ogV9AF2jEeNlXQW85gwBHflteShBR9MCOXxckBiHszZzEA045Y/UJXy4armf+PdZuyVYUrWVZP9w96EPrkuuOkIfWMisBtcCLvI4IF8vePnLX55dU/YIZc15CJcVsKzNYUmfvBK1lTpNQP/4X2lde431E94Da43mfc5es5fwdbDf7MvSGkQX+ImzZ8FTAbwkrGp83PM4D3Zt7+G/NUZuXcFKickH5z/1OQQmSQMjdPgQMbcIdHBDfI7DgFGWvmyCgi/fIHbZZZfMUOM8qQTtnvYsCALcA7eCzpr8ls5Awq9Jk9m8eXP+DPMT8xYMQaAJfPD5cUFITrp1BRcBQY34CfJwwSA0Fg4XigW3Xv5zPZWH4QFrZey+R/h4TNN+5zvf2X5iKygOhFIJ68lCtT6jggsELdRnHsOAPGmj/rNUuPQClB3ryzoyHzR97qVY7xLW3mErJsLVG75tScPeowTF4X7ABiSMCXrXHVcgTap1BbclhcSc0tLDeuEGR+PWiOB13mOfEFRdQUn2m/kt15PQIcTtMW46LszyuwQ9OjPnLDcReaNiNVpXrDQo15Rhe071ccy4jMizv+wjFnlNn4sBvVKE/J8E8D2Ck4AlbNCKMUmyRyvoh+Jlv6Ep56mUPBBRh08YLw+GtTYnxm4/o7HyLI1ni8GBZxNYlGN/9hj6QzOEHwUyumcH+n5Ky8RaCKVZxrhCaZYxKaE0q5gFobSamLRQmhWsyJlSjx49evTosRLohVKPHj169Jga9EKpR48ePXpMDTZtt912/ZnSMuDwELoOjntsi400Xz1tLIyNPj89fXRj05VXXtkLpWVAtI0osD7QYTSIDBMGuhECHUQkSWWQotBjW4j4ktsib2ojQoCDIBiRwj22YsHoO5JceZooyijhMLL3hffJeZDt6zXvCReUQGuSfVcocoRIeg/zlqcEt7nNbXIY9jDo1yRENUpayM8ZJ2RbaLOouIA6b8J6VxprEX0nF0V4rzBvCaJlUcgSQjblG1m7K664Yl4bcvMqGVaIprmW3V8mQgaUlBGuH0mj1lWtK7lJhIsw/nHyMsaNvpPfoBSS+0RD1nEYMDf5FcJZVWqI/Cn5NxL+SkiojZwc+XCqgoDQ+Kj1ZWsIhxZKLpRaJF1XWsIwTCr6TrqGPWrs7l9ochfktskpQgtKyahdBkJ9Fc0sWYE1lcfms3WSLRqSiC0s2HeFztub/sYJiZ6V6Dv5O4qHSk+Ru1budfk29oMUAykVKiCMirWKvosqO1EFRiI8XuveF1KgFO+1xsOSq/Ek6RaRnrNULGg3Ij6Zu2LUJZGpzBCwMHJ8bG4CSSM4mc4YwTHHHJM1INn+8kjkHGFCktBcS17IQgJJVr0EWjXbJIaKi8f85OCMCklsiMifXIqu0jSzCBnzciUwH7lbmElXWSYMBtNVigbhW5+yHJD5l1siYRYj8b8GxYOmX24aVYQxfUVNCbaF1nG5MAabRLUK94ehDqvULXGbcJEDgTatt2RHggwDDVrwpzqF10G+xFOe8pQ8l35DlZAoqyLB1m8SiOhRXke4XKYFGEHcP5qQR4Tea2Cs8kEIdcnUBI1iu2BfUUxifuQmyV2RyyIxl8Au58+cEEjmyZzJkzNvEiyjOOd6Ad6Fl+BBGK7/9gWgBQoH+kR35gyfnFYYC+VMjqa9EiBoGBhy2bpgzeUuWuthAlSRa+WFysT9JSNt/EVx2WWXNWnim8QA21e2NA3TDA6S5tsk6dgkAs7PSySB1aSFa581i/ZTev7zn9+kzTDXgC6gkVYSbLmHx2JIE5ebmCWm2b6yekgWxET7KR1//PFN0r7bZ03uZ5QYcPtsK6xP2aslEWSTNLm5XkR6MJV9dPRXSlpv+6xpfvzjH+ceOpp4aewGidnlvkQ/aNtuJy0xN3H0W6PCGSaX8ShICsy8fi3JAm+SpTLXVC3gete5znVyf5pAYhLN0Ucf3STFaZs24cnqnqOvW93qVs2rX/3q/BiShdUkhp17B731rW9tX21yczTbZZyxJoG66v2U9POp7z9ZH+2zrUjCvEkKZvtsS08sa2edzXMJ/XCOPfbY/Lh+L1mNzXOf+9z8+JWvfOU82tNfKQnwkdc3KQdT30/pf4qeWpAU5SYJ8fwYfdT0aV/V9DYMs9BPqUQSXp390/BZvF+DQ80il4uRTtho1DRRJUdoSVwqym2EWc/0C02sBq2MeR/ukYWQ7ieXtGB9yZAuIbuYefmyl70s/xYtT8sBWjuwFmgpXFZRGp0GwNoi6QMKatLouHTKEjWzAlnSZVFampt2A+UYgQu1dMexYJUGkoEN6uXRbFgM3GPKg5QZ2YnRzSsZAqofsIqjsgN3BaskWt6vNIzV+AJpM+UxlbX/AD2wisrxqnRhfWnxZSUKLkcuF/Rl3lRCKOdT1QIuaNpv6crgIuUuLedoraE0jOz7+v671qOmB/PDjer7CriWUMEgXJv1eyoCxHv2Yv3bNOX1lAyLhwTQDTepYwkw/po+eZe4zGcV3JQ8YvbeqEATdb1F+4yVzf2PHl1z8+bN2bpWHy96cHVh5LAPbhrCwtkDc1bNrfCvM+2cOdRlaIBriLBh2i4G7kCLXm+EgHMowof/VskXQjF+02C5WbgcCE9CkPuFO6EsX2QTee4vmsDNErjhSoHNjUI4KIdTQj1Ac6mURwBTxYiAAHcWobIvd0TZnI3g4qoqy6kAxlYrC12/vVIY9fcIW2Mrq5yXYy2B4XIpg3NHKH/D9V0nzt4C/PDOYPQNmhagcedIZe1B91/XpgRnSPX8QD1HXH/opmuclFFnwlHWyvyVc8dFjx6dUaw3oEXC2FzHmOvxg/mn7Mwi1CLl2nMeSyGti2J3gZHijKmkQUCXhJKSb0p7qZfoKIjQowyjR0cDXRhZKAHrxHkQzbSslsw6GXYAHJs7/PQLwXWAYOmCaznHALXK1CQzSCAYI5DBvWDKT33qU7NFRPjEuQvtUksHm3G1Wi6sJgj4OkjAeGNeAhQIa+RsjxXBOuQzjgrYqmIjDlawM5foN6UuFi1nWPBE/dsEF2a1Whjl99CLA3PnjyxngQm01a5q3zS3KEwb1yl/w/XNcT2fFLFp7ao6yv3zGDgrUmCWt4C2CvUcCewYFpjh/KqsbWf+utYnzuvWE+whNSUjYhCGjb+e+1mBs2p1D1k9xrCYdwufcDalYHMNiiLvFuEjUMoZrwAI59veYxxQ9LowllAiETFAFy2B+Tno6kIMbFjERgkuBZFP4ZKr4Vo+E9BPySZjVos46ooCs4mE5tL+AHMmyJjaEQk4SyBsRUSV8LxeE5uDdepwkrVIu6XFCjZBcIQ6i4ErTBVtrR64XlifNp6ABn8sLVYVt6riuvVvh4W6Ghj2e1FMtYT71tOFq8DYjbUuGIwZU3yisKq5hPI3XJ/rrmQ2okaPPPLIvLmmCRQKNE/RCnTdP5hLFiYLypoTRhgFl3gJrvjSs1CCSzdcd1DTImFofrvWZ9Zhnozd0UC4trr2ovmPItSzjNIAGAaKDfd38AoGiz2ITrpQeh88HqbMjiWUhoF/UFRYlzuMdmUDlL7nLjCFWWBMRyZfPSEsG9pvad1gpDR7EWjlZqmBSYXLASFxb4iWieq1swRaLBdegKDGZEvLNcCVYI5U+tXzCOFgGISxdVEhGFiUhLQ1MP+Yb/xhbjaZeSPgRGlhPgHKyEJzvxz4PS7dAM3M37Df49+nzfqO85P6c6ykOA8ANEAJKn+jHg8/uLD7aCKJ6UwLWLvcbAvdfwlrb35oqxiKv1KRE96NyYjgq2H/0YrLkO+aFv02ehlmaa0H2DOhhBlnTZ8UZOfoGwHoyBlz8Ap7idFAWVoOliSUan81hnX00Ufns5zyPRoFtxBNm+YKhE39fZYRYWMwenJwx+gTVEJvGD79MgTZobMzLiG+IXT4MllCzG2IEMZgwEJ7EZXP0AgJwlmCeSo1EXNLuGIuxiycPtygYK6FDJsrawTWiw84wkLDJYiwWE98vfHn7IFCgZkz7Z3hxUEuBuZ3F8odWg64IAlKigc46+JiCKubdVS7GFiFDqDlYNUoD+mB4CK0zWEAzUbnTI8FgRgn1zUtmet3msALsND9u+cSctwwU9YxoV9CYIi1LDXaALdeeagPzggokHFuae5Z4GVwwKzDHinP4tCgnm+AdvCekj6Nf9wWJ9OCki/XPLoLzp9KXuE4xf5yHg2l8gqel9et3w/8+nHRcH4ROPSSJKq/CI2AAOEvDNA6MTZRb9wEiNUhGD885sLPzHXGdeBatCq+fxtHAzoDxPi44biYdAp1jWAIGCIXEu2/hM87/whLgUaHMdMCMR33KuAhhCL3BDcVrZB1EIfeS4VN39WLZ7Vgw7M8CW3Jopiy8w7zwlrlznQ/gJGwDhAJKynmgNAXKUUBsKHkqdhgtSsHCCA5SQQZ+Iz1IuzN5emnn56JcVT4TWc/cS8LgasYXRgfjVyOBYETh/Tug6bGkvPeWWedlV0CaJALq4TEUfNl85TAmEUVOuQ1HlFCzpzQiDmjtESnXcyJFiw4ZBQQgoJ2hp3PrQREUcYZWnn/YP1FONlXaIOAxTgpJ12J5AQ5gWWv1aAIsaJL1xSat4fsNYEAvA7octiZcA28xNw775pWcIHrMWR8xoX2IsoY77G+cuec16Eh/I7FMAookXhq2U17NUEg4KloGT+2b/ESfBr9UOgp/pQLrjjjxbspuc7mzQGjwve6+J2oS593lBD9lHzeHAn+8D5LktxAhyKGXYcnosSmJK26xdUygDFwma0ElnqtlbyHhSAketIVHQKIrEurBctaumaGAXHW5w+jYKnz67coDuP+JuJeSJCNOt5hCA1u2HwuBRj8pPopLXb/y52fxbAUOpqVig7mzvwuRH9LGT/Fbi0qOkw7Vm4HFlhJYbDUa01CIK01FmKgozKgpQgkmPT8LmZZLZfhmsuVFEiTxmL3v5oCCZZKR7MAc7cY/a3n8U8as7sLe/To0aPHukMvlHr06NGjx9Rg00Me8pAVP1PaSHCA7GBvWPJwj/kQaSnDe7XdSdMAQRKiHkc9+N5oEF6vgoQky40I51BoZLkh1OsNm1772tf2QmkZELwoBHc9JMxNAvJkVI/fCGd+EXk6TaWJpgki1kSHRqrCRoMIzxe96EU5laZHgWaFoRr1RRdd1Hz84x/fpkr3r371q3l/i+Ezn/lMoypx0q7bV8ZD+Vuf+9zn2ldXFrtPuEp4QNVqFZzrOa7x/e9/P1djti41VAn/0Ic+NK+6dg1zX1dKVqXb91x7XCRhNHIV6cC3vvWt/HuXV5XjayTNs/nwhz/cfO1rX2tfGQ9dc3TFFVdkel4KDU6iSjiggY997GMj0bhxmKNf/OIX7Ssrh0suuaQ577zz2meLYxaqhAe+/vWv53lL1l37ylYkayeP5Sc/+Un7ymhYqyrh+GFN68aApywENFN2ElgtLHimlG4+5wiJV5f3URYaFMdOC9T0SkijWHZJZf4k04lp199F3gwwVSXncd2IS1erbhhUG5CwKafJdSW6ypEos8cXg9wBrpP4o5WtBwjFljfBDSbHQLUGOThd0CNF8rK8GiV35CgEzHGEsitS2pUUKpdLjpP8i4ByO3J1WDx6NUXNvNUCa0Pui/uUBFw36wuoNCGZVuMy+Til9i3BVM6aHBN/6PnYY49t392SiyLfx3yVQK/ymBSTlKl+wgkntO9MD9QzFFYsZ4YrCD2kfd2+Ox8qn9ibKjuYkwhFlqfCco354W70396zB8v3/KkkgTcE5L3E/lxu3t804hWveEXOj7P+eJ4E5IC6kSx/+XLyIeVVTiuCl6pOIoctYP3keaoY3wWllMgBSety4gJ4un1R0oYoxfLaS8IW2bQw0iZH5fP6y9Be99133zmLJxF543yq1Nxp1GmzNM9+9rPbV5omMdQmMcj22bZIE9Nsv/32uTdLiTe96U25Z1MSLu0rw/HTn/60efzjH98+W11M2lJKG6S5173u1T5rmtNPP7155CMf2T7biu9973tNUgDaZ1t7vSQmlp/vsMMO87Q+/ZRYBSVOPPHE/Hr0U9KLKW3C/Ni6H3TQQc2NbnSj/HxUjGMpuddrXvOacxpoYpB5TF0aqV4urAVAg7vuumuzefPm5uKLL24S08ivB/Qbis8CC+s2t7nNvH4yaQNnOvUe6BdjD5jHUTEJS+nRj350XqfA3nvvnWmihj5kD3jAA9pnTZOYbO4lBUkhab75zW/mx2Cfx2cTo53Xd4sVWtKbfZmUnjm6GgezYCnpJRfjR/N3vetd53oRffazn22ucY1rzKPPpBSNbIVO2lKyv+2NJEjG6qfEOjJ2PcvKfkqvec1rcl+uAH5y/etff2yLscbI7ruDDz44M7Jw5Rx44IFzbp+kSecN2+U+0BQraV5zZt9fL9Lk7053ulMm8homBUM67LDDcmOySy+9NP9pPAc2lecIQpOym970pvmeP9rRdCpZefl6Nt+nPvWp/Jpxve51r8tEOA4mLZSSRpoFU8D4CfHarXDWWWc1ybpon20BgnnBC16QHxMmL37xi/NjjFYzxlKh4IbhMtupaPJXN3zT8O4qV7lK+2w0jCOUkpXdPPShD22fbREexvqOd7yjfWULCOBNmzbNa/633377NclS3+a3rPsd7nCH9tlW1JsSky2ZMaBjjGdUrLZQMhZ7Mlk87StNbs535zvfuX22FYcccsg8Re0LX/hC3rP2Rz1H9nYwrfo9Sskb3vCG/BiT8/tnn312fj4uZsl9F9AgMvb7U5/61E76HLUR5Fq573ZboMkfuqfMffvb327f2Yq6yV9NG3jG/e9///ZZk93taNN/vJULFAhzPKXLFQojh4QrJcKMl6GuJIXSKdw34LBSuZG6XARolJYkZy4rsRhEsikvVNfYAtFaXAPRwIwbSfmbiOLiWgxXoTp4XEzcTkpchKtGpXAleLynQaAyJ8xxJrgxyCzvKr8yTUgbeV5ZH26btI7buA2Y6koslVDvLtyYxm8OTz755Fz6RxmRSL7kDjRXShGVqPtcJQKeV+B0pVGPFf3pX8PdVIIbwRyU4zVW7qk6qVGpoXocXeAaLSuvc3tFWZlpARe6yuflHHGzdxVGrukh+t/Uc5QEXd5jUYWinj+uGe5CUOSXK4t7x160d4Y1blsPsGfQRVRvUUaniz6HucGmHVy1eCV+wB2blNT2nW7UtKE5ZtSWTApsrqXJ5c71qYYlfqL0Fj6LdpSD68LIQslk853y14sWUR4kIIpkWBHGIH7+7sUQn1noWj/84Q+z71J9M0LFWQIonBg17tThM7HqLxk4X7Aab+q3KczqTCFpjflcxJmBze0szDVtMHX5phXOecoOohA1/kpgEmoMqgcH3tfiIJoiEvCK3CIaDKucc8256hpxNTAvhHXiiSe2r6w8usYq9B4NlFA/y7o6RwQCyti7mk5SPoa1ZlgIrm2szienBeYHypBz85M00LymJSiH9m7sF3sH6jlyZuDMgQCuQaFxnhS/h/liQookO1tUM8/voI31BkVvtTDRmiHOTNRu66LPKFA7a1ABnmJPOKGDYf2OumDNGR6hzGiL4np4rhqSJ510Un7dPlXbVGcC9NiFsZJnFXq0CBgerSDg4LRmioFYoLpAZheium7NdAKuFdehoTjwdwAHtHzCqgQrChGR0LTuQMlYjEcx04BNyrKbVlAOMJ0SnpeMCTTUovHS5hCEx9YoLBuHt5gIa1L/JO1HQFFOWlK5vl2wSYWzhrW8GugaK6uoHisI1qCQ0PRoZqy92oqj+WGkiryOA1oeL4CK9NME8wOKXAbMj7WjeJUgPASNUNAUssVACJi9qyK8pbZbQyBI+Z61wXzAXlOBn4U9zYf9SwVGygKlxKmwDvhIF312KUOzgLhvCiqeWPbpWgysH3uk5PN4cim00Ws8938Ynx1LKA0DzVOPntC+SqisbIA0qIVA4PgcIlc5uAuuFRWwgQS2UZiKoqe6YLNw53VpfsNA055WcDdiuAGE4367cmFEzqnuTCvxOVahKsAYx0EHHZSZrK6RXFo0IwwbQ1G1mIvGn99iddqMASa4vCzt6VcT1rQcK6FiHF1CRVQnYYRhUJr0uSmteaABuuZidcxKiCIVKSqqbdog8omLsZwjCl3ZHbaEatwqwkcR1Kc97WlznowAK2CYJakKeSnoueyjRQzYY1w607x/lgveBd4UsL+66HO1WrlMGuOs40LKzDAMu/6KCCXuMsKE9l2CJNQkjQttMaEghNei2ihaX9R+cZo+oedMK8C363eFM5e9Ya688sr20RZfOndc+f4sgxVThi57rMdQWIkETA3nBixG54JAg2Fuh4atlLwNRrumSZvr+GO9ml/nbkDDthGF+4O5Fjq9GpAWwNILjcrYWEnoDbhsazeVMaER46gZLtfdOBsHvbEq0GRgmMthLUDhcv5qXAEKnf5a4LyHUK3BynUeiMGW0HqCluzcpIazIlow6yrgbPbtb3/7HHMhEH1mPScLOwYI2rcXa/rkrhqmIK9naHexFLd4JxJBjYTLL788R6slhtYkprBNaLYQ8aQhNEmrztEVaYFy6PIznvGM/H4SODlqRVScSI+ksTVnnHFGDtcVpVRG4Qg1TBp8DjcVvSHaLGm/OTmvhsgfIa0B97HddtvlUFnhwKLNRBpBssZy9IyoNNF6PivqLDHkHMHlc0KgX/WqV40c1rkWybMPf/jD89yJjttzzz2bJMDz66KZLGmE5wqNF8FmvSLKMJAYbV4fEZOJqQ0NoS+j7yQPJuGXo3fib8cddxw52gisTR21sxCSQpMjx0QI3ve+982hzYGrX/3qOVIo8K53vatJ1l2TrMP2la3wm8ZiTmqI2txll12aQw89dG7u0IooUN+JsfpMSWuLAV2vdki4BHOh3cL1k4KSUzN+1kY1SdGIsG9A7yLGkrXTmficrMzmOc95TvtsPoz7lFNOaZ9thd8T5Wp9zN84452F6DvpLEmhbRLTzfzEPKCNwP777z83fvQppWVUTDr6LimizVe+8pW8Z9FBpAF4TWSuUH9R0iJMk8LTvOQlL8nv44X4sL0v/aCOzMOXk3HQPtsC++hmN7tZ87CHPSwn6qLTZJhkfoT2Tj755MwLzGmNkfspMUtLU50LpKtmk8MxWhX/Ie07/P808y73XoB/ttTCwv9P25O0NSzqiSnt2uFfB79P66O1cFcFHAyrtQXui8VgXMCfSusOH7GxjeLmYa2tRT8lZ0HGwpUV82YeHDhzH9DeuJ2c+Ugo7YJDb4lzNONh5ywiImm/fMA04a7zPq6zUcG9497qyJ2FoH299XSPpRbPBSVp0b1JgLVezki6rs09LGovtNwStN+A76rFhhYE8NRwflqeQS6ESfVTQsMsJOvEI8CCAvvNnkWbLCPeB1r8sFpr3JsipgSO1EBX3LVdQUgsBNe337u+OwzWb9r7KeEvEs3xI27RrvGZV8FSPBZdVuYw8GBwkfs/CWD1ZRAXz4jxCDALvscdjK8YL/7obNpj6xuw3+L8HwTAoLM4XwRBIOHm5CWz58ODhdcGH+mSI6vS5G8jYa2E0qxiKUJpVjEpoTSrmAWhtJqYtFCaFazImVKPHj169OixEuiFUo8ePXr0mBpsUo6mfdxjCRCCLIdBiHSPxcGdJel2sTyo9YBTTz01h/D3rt1uOIuQF6eyyEaEM0u5Y/K7emzFJrWb2sc9lgAHgA79+iZ/o0GOlBD0OIxfz8B0BOB0Jfv26Jv8SbRFI4IJemzFhgl00PJhNbTzPtBhPPSBDj0CfaBDH+jQhQWFkhBjtZAkUQqDlemvAgAIJ1YrjrYjuXC33XbL5WoULeTKogX4vhpzytl47jpnnHFGFg7qZVmQLiiHo4eO0G4hzUJ21Uzaf//9tymfMgxCWNXqC0h0E1JsPN5zryuBtRBKKioIgRaeK0GU+6MrfB2xq+hAIAsFVbMwQlaFbOqvQ0sTxv/0pz89910Cn1X7TnUHYbBqfoW2/5WvfCW/p4KHJFZVFEZdExhXKLkHibtKmAhx1jNJWHYNIdzKKbkXZYHQalQ2QAfWvIR+QujJ3Bi7/0JWJQCqCAGex9wKYVVmaxwBMwmhVN5/VBNA610wB8KXhflLwTCXLHza+sEHHzwvw144MDqLtTUXXE3Ch/EA8+czgAco7CvsPt4bBbMilKRNSDTGh1RCKXtxqSaj3JYC1fiW98r0lIWwFkLJ2rtfeyOqcxiDBPlHPepRuXRbDW5WVWGUapMWYD/h6QH3LznfMUYZFr5kEEoLIQmWJjGhJjGRnGQVSEImtwCIxFEJmJILtYUIKGV+7WtfOyd5Bh784Acv2OtIkq5ErLTR2le24PDDD89l0SXhjgKJg0cffXT+k9DruiD5MjHY/HglMOnkWW1C9EMx/yBhMdpRlPC+3i6J4eTnp512Wk5aTsw7P7/97W+fk0ZB+wu9qnzH/D72sY/N6yi5z3ckVYIEVO+lzZmTbo09+iuNinGSZ6+44oomCaCceAcS77Sj6IL7kjwK7vua17xmTmj87ne/m2nubW97Wy677y9tvrkkz2OOOSa3U4HE2HMyo++B9/SMAvMmwXCctZ5E8mxSNObdv2RfSc41dBUtE1UlYEtKhuOOOy63LYj5SQxm3mclQtrrZcuUgE62e+yxR26VMi5mIXnW/pFQLOFTkrr5feMb35jf81pSDOfRp+T8UTHp5FljUZjAPdetKyRZD+unpK+Y7xqn4gf4fFIs83uKKNh3SbnJvGklMFJFB0yEoFD5gJCC5z3veXMMSWawm1KBoQYmgnkFFuunlDTLnPlbMy4MSkbxsIkrgXFgRF39nWS+z7JQItAJ2cCnP/3pzLhr6DmUrIv22ZYGXOYvmGSysPKmgGC4qh1g4oRUQOb1c5/73PzYOsv4DmCIp556avtsNIwjlNxr0ujaZ1vat6sootV+CRvEmoaQBdUqknabhWsI4oDqIObDfajggSYCsvNl6UOy0uf1kNKjqauh4jBMQiglC32b+0+WUvtsKyh5IWDhgx/8YF4LlUzqfaJqQaw5qAiiAkAXCJVQWsbFLAilkt6B8vOWt7wlP1aNpqbPZFXP7avFMGmhFFCdZFg/pRqq81BKAtGHKwRx4KpXveqKCaWRQsK5WtS1Y76pBcaNIvub6Q1cctxIXb2IHvrQh2b3UNlKfRi4dbgMXKd273AfKeqqlh53QxJuuTaawpug9hLTmhvHb0UJflnWDtfXC2SXq2IQ4HLjikvaffvKFnDBlcEE3DAqP1g3UGBUcVuBGtZRBBAXrYzuqFPoutaOCxZUZo8K69aAWW/OVwvGWtZRi3tTzaKE+0Q75XhliRsrN0MZhML9yO1pPriz1PErf4O7WCUMn+OWKOfae/VvryWsgUoX9f133WNND+aHy0//Mq7REmVxTW5if9yaem6pNxhQ9407MN5DK+sNZUcBxwmOHsIdi1fV9KlaAfqZRajAwBXMtad9DeChZZUKdGMPLhZtzCWIN3Drcf3hw1yE9pU2Qap/oL0ujJynhPk5O3LT+hDxK4ZPmc/VZug6J4gSNIh3MWBy/LL8s11wLWcZSmPw8RI8UXQzCdjMaDEb/w1e8UxMx4Twe68HaOoWxVcDNk5ZBgQQk/m0kQKEjnM+0BtIGSYlnFzvwAMPzK8HnP85g8OgPC6hkrRQZ+0iRmneuFToiVSP1RjqsRKWSuwkq6R9ZcvnlEepoXhpnHmEslL+hu/xu1O8CDNMKND122sJtAAl43SPaN4Zbgn0oDlnFOH1OajnCM2gEZX1QfFWZ3jKfYmSc/ak2ni85zVzZU86o3OWtx5hrEo4Kef01a9+Nb+GfrroM96fNbhv54wKNzsL7RoHnjrKuZmzJUodBemYY47J5+4MGvyI7NChwG90YazkWQIJ86c9CusNOAgOZlcjNkHXQXyN+MywaxEsofU6UNVECrEAwVj2hvE5B760Yfc8q9pLDUyynh+MpWSeYH5YnA9/+MNzQIp8KsxDQApgrgiHlSSQwGdKOIBFUGrF1R0iHfh7T6CDxoqrha6xWsualnxOVXD3Yiw2lvuLsZYgSFncEJZD+RuuDxSurt+u53ktEffSdf/1HAlOMSb08LznPW8uN6ieI0pIWe1Z8IIDbIfie+21V95vglswZOHcFFR0Zu+dfvrpmeGEsFxPMAdqJxLCMXfop4tGSst8lqDuIbq5wx3ukA0M/KLElVdemesc1tXlh4FFpe4mw4FBIahq9913z/NG6Snr8JUYSyixQtx0rR0YBKnIHVBDoUJgrSwGFpKcn1K7L+FaZeFQWhsz08YZFuvP3KThhHCcdVjUKHQY4Lpi8ZSw8FwqmISIGVFZrAnaLOGO8dhoIvK0v7DRahcgd4T5pXnXa0t7xqBWUyuk3ddj5Z7tEjZcAlwGNhZG6Z61Qynx+c9/Prswo5lZREyWv+H6NoxeRcZsIwaG/fZawT3ak133H16MgHFzr9FOtbuwfizGiLgMlK47QAMlrImCnCyq+r3or8VLsR7BsyAqGJ0B+umiz9LlO6uoBS5hK7JahOtSFbNQAgNdngwYSygNw8Me9rD8A3XYLXD90Khrv3UNocvOhzBKLiGMtoRQ1Pe///2Z4QT0jREGqwHdgx70oPbVbSGcl5a3HsBKiU0BLESMZZhQ5h/2R+jw6XIvmGc9q6LSr744hFYXM/F51+4iRMyptJhXGkKzhXcHaOCYQKnJlyAwWEG6EbMC6742hG/JcNEE5lz+BoUIXdGI+c3LuY73pgXmn0U86j0SYCxgSiVlRfPGEvYY7Vj6RcD5CVopgRase/0epkNpHadq/KzBfqAMgL1Y0ydloO54vB7g/IxCG+fNYWysBsYSShgC4cMyKUEL05WScHDmAz7HN4nQlRIB0tY5gYNp1/JnIWnc3C60XK4XjIXPMdpK+DzBx+1QWkrMZELM56J9g3vDtMJdx1pw2B3Mk+Zbm9yzBON1lhaWC1cKixEIFXNXtpfQrkNQCBdL+HDNM7M6msNRAKyNw0dnB4IewnT3mDUF1spjawjWw7qtFggN44wDdGdZhx566NzGQBMlQzYGfutPfvKT2YddAx2WOTQYCLdmuID9FiHP1QWHH3743Hs0YLTtvHKaYE2H3b8yR7ozl9AGhNByNsDqLmF+MdoSGCwlhusKuG9YWs6QXcf8m28QmOK1uhXBLMM5HAGOb6AvlgJXMdhXeE9Jn2hm2t13+F9tpTiDDKvPf+MNHmPMeI7/vA9oSluhEuamvmbpZQDP7SOIe4jfKDFyRQcMSZIbd43NTBOlpZXwGX5lP+jPZ+55z3tmzcqgCYovfvGL7afng+uujN4TGMGV4BDXYB7xiEfkjVCDy8lvYbTANYVxctVwGbquKD0wVBFDXA821rA+Q+NgLZJnrQEi4Y4zN8FonRM591NbzhrpCoqhYCz1WAmi0047LbtcHOzToLljnBOwqKwXC0sfKy4b4BKTcAtcos70utZkIfBV++2uoJguUDIoFpQKCg5BFCCgWM7GZpNIiLYOJR0FfPc5z3nONmdnEEqTDYKmuWkCLHgWCbpCT8Ms0i5MInkWrDNGYs3K+xcVi1aspzV2SK/vDWYqOKQGgU7ps29LSBrVRp2SYO2cM0agBEUI/TtTwqDt91GZ8iwkz9pnLG9eBZa3o4qSBswr+iHga/pcDI48Jp08K1pTVCregW9wZbvvs846Kyv27v/iiy/Okdb2vv0k8roUEyxidM3y9rr1w68pI/YeSxyd2TuuT1GhyBLavBn4sXug5HF1UoZLbJgyQ6uFtRBKs4xxhdIsY1JCaVYxC0JpNbEWQmkWsCJnSj169OjRo8dKoBdKPXr06NFjarDp5z//ee++Wwacq/C314fGPbqhModAjI3gvhNwI6s98qJ6zIczQMFRwzL71zu47Zz3Cj7psRWbEnPohdIyIMgC6ryQHt0QceOgdCPMV08bC2Ojz4/xO9KvE503OvpAh2WiD3QYD32gQ49AH+jQBzp0YUGhRJKrJ6YeHQg1jTwhod1yF3xdUUJMWUiq8EhEJpRbTkfUsfOeEO+oQceNM6zvCwhlPvPMM3OIsjBC9baE5o4KJSzKWHoVD8oyRCuFtRBKwlD1OBLCLIRzWK1Acy4sU6KbsGmhmZFVzWKRECekV3ivUkIhKKy7/Cfho0Lny9wesC7ChNW/UnJkHE13XKEk5F2agdBw4esLucKstwRrIamEQdSEU0S0LhaKpiK5VgFf4dNoRA3AumKJsGrhq12h5gthUkLJfpNuIUTX70UeVw1hulzNctHkI+255575dXQksbhmBYope23z5s3tK1uh7w4NXxoCGsMjvBapGaNgVoSScHvpE8YqT7B01QuDN6fmVsqAmpCjYq2EEt6KDwfP4k6XjyXUvU44B/zAGO0jKQd12Hu5v9CLUlbLUjrTRRaEdgXp5nM7icTk2le3YJ999mmOPfbY3INHi4Bdd921OeGEE3IpfD2UlPpPzG6uB5Iy8ImxNHe5y11y64BhOPLII3P/lne96125vPtb3/rW3AbggjFKoyvTr3WDv7RRcsn11UAi0Im2rtDXJCkHuT9OYu65NcjFF1/cvjsfiXiaRGy5z05SEOb1sdKH6Q1veEN+nJhKnt+A97Qm0b4gCZ7mzW9+c/tOk9tBJOafH59yyim5N9E42G6M1hVgfElA5sfu/4UvfGF+XEOvn6c85Sn5sZ4xaDYxk/wczQUt+Nthhx3myvQbexK8uaVKYupNYipz7Vn8Txsu96/SU2xcmNPVbl1x/vnnN7e73e2axFiaxNwyrdftFsD7SaFskkLTJAGf5yT6T5mvG9zgBnPzY7w777xzfu+lL31p7rVVzp/fgKT45XY2ro1PoMuyjcZimIXWFc7ck6DP84Av6UX02c9+Nr+HPrRBCfq0b8bpKzXp1hXWSV+xpHTNa12Bp1jvYW2B9KQ78cQT837HD1784he372yBOQjasI+Wi0WFEiRNsbnOda7TJGnZvrKFoJLmnR8TMCb3Wc96Vn4eIIySFp8XK+CmF+qnpBld0rwzwZew4QhGTGIxJE2wOeyww9pnq4tJC6WTTjppniA455xzcr+bGsnKmWMsYD4JhBBgmi8SagF9hZLWlwn040W/Ir8XzJ4wsQYl00bg42AcoWQMmCWhCtY+WT+5B1AJ93HDG95wXl+gW9/61nkjJQtnm94veg5961vfygyH8A28973vbZIl2Vx44YXtK1uQrKepFUoUQwwz4DcpijUwkrIBXbJ+8p62FmgoFEfQsFNjN6C4xHqDOT7qqKPyYz2W9GkK6K9285vfvH22OGZBKNk35T6h3EWzw3e/+93b0Kd9VH5+IUxaKMU67jZGPyXfwXsD1hvNBSghjIaVxEh+F7WsZHvLoOe2Sd/LrQ+YtCDjnouIaVuCW0fPHhnRSgUtBtdVukZGeZ05z7XCfajkB7eUjGNRO8roABdLlJzR8pyLSc099+jzAaamCtK+x3UlY7t8f9rBnVq6gzw2Hm6EEuYi2nqA+ZSVru8UJK1mrq2zz3KNcamqBedxQDVoawgqc3jfGoEKAYkJ5serAWPl3oiDYG5i7kfjLSFbnGulHK8xGCt3UulSstbRasHjsuKxzHJVLWp6mNaDeEWG1Zss10AVjvPOO699thVqtJXzI2qUy0nZIPUAyzEqGRY1Aq19uHyByzfeq2nMNbk5V7Mu2qRh38SxAf6Ej6kTCVzcNX1yi9X0OS0o13EYopxQFMX2Hbw3wPXuGCCglJWyVl5TZqoEXou+VN3BMxwHmEPyQp8llSS6MPJu078dI1OUD8NX3kWzNFDmRFHQrppXNolzAZ9ZDM6plAAq69uVcC2bkL/SeRbfJj86KIETfk1nIAQTJpw0vrn+L2BSEJXPq9nl7GlZ/s8JQwHMqHIN7t1f1B8LWBvMtxRWzoCMG5xJOQvAdJT/wIhKokV8xx13XCasaPLlfUxJTUN+Y4zOWcxqoR4rYBDqu5UwLgKzrHLutS6iR4dRsd7ZUdAPmC+KzygV7acBmD/BVM4RxcKaofMSSsjU8wP1HGGqhI291gWKoPIzgMZGueZ6gHNc5ZnQH74CzsK66HPaz8iGwbkkBY+ygkeWNU4pakp0KbBd0oYGfupHOvv3HSXOgJKIP3vPma3zXfuKcYNGyxqNNUYWShgSqegwmSZQHvoi5FJjKhE1shymLQbXgYWuFS0oaLg0FMwUMFb18UCtNkEUCo46oCNEg2nToOVGCMJQr6k+tJt2OJQuGSl4XrfmEKCASRDKNhSC06k0FAlFaglvFidLNjSjAK0H8SBSVcQD5pZFQQMSgLCaWnHXWAngeqzG6VAeTbgfeR/GFWMtocZXWSm8BGF7yimnzEyIsvmB2GNgfrxeW3sKHFszrRcIjVAm6jlCJ9a3K0yZIihgJpQXnhHXEcBEoIcV3jXvsw7MmFJuXygaDeiwiz4pdLMIVfl1W+AFQyPqhwYIWooOniC3KsCrRelnLBxxxBG59qbxM1DwCoEThLkAHHRBCVY7Uf6eoKQujLX7/IANEKXbA8y7Ye45TA1GqRzMTWhRRQd1wbXiOj5H0mKov/rVr7Km3FUIkkYv0qhMUDNxTMnSLJ0VcDvVRO95LchZARadJqfSt+goEXfmA1i6hBImzgXh9dKq8h4tiGVEqzHHiJIQ1x6dECPgRVyxhFcDNNJ6rH6rS2khIPfbb7+8oShONNZQUgLGx2Xbte4KRNL0FB2dFYTGXs6R+bFH672g8KW25taSe4bQUuS29kqUrrsapesOFF8liBQ51msHgxbRF11r1xMIYMWIuZ1CEe7ai+a/7jM1KygVEfy03NesHJGS1ttRSWkhB9AVfsNK6gKeHb9B8RvGN1ZEJaSlkqrcbzVsBBISAS8EbjQLjDEg8hqYomuVjIaEJsG56nxvGEj3ss88rYdA09493FmzAloGyydAGSCAynOgAFcUc9k5nMq/BAptD0Gp/MuaMjceI6YuXzgmraIw0LS5b1QIZ52wRAk77qLVAIZZjhUROwvsCrE2DutJOHEl2xi0sxJ82eavBvcChSc0wNrKmFagaQpiyQQodMPO+VS4Nj+qpfMe0PhLTd+47bGoql+CQkMbrl2bfksjSK5e12RtrmeYG8wV6r2IPoWPL9TbbdbBKHBGG3NQggWNj4SytFQsSSgRECUc8HGX0ZZKOPTUsI/bL4gfcdcgGGjcGIsy+zYZwVFC3x6bsDwfUn6fRs8lERoubR6TjN8h1THu0AgJPj5zm0fMPffWLIFFIy8qgBHYBIjEhnD4Ws8xDdcBZvRFImRoQqwGoL0IYDC/vqsFSYBFRKGg2SA2QoHPGWjkrrVcIhwGQpO7JHzbGKbcihDAhGJtobtfGp05qjdOrekDRQpTlevljAxtsCxLhJtsGsGNXtJDKFxAERGMUsJYnAs7F6gtSfNrH5XuwIA8Fq4adFMDM+YetIfHydOZBaB15yUBLszwNviPv5X0SWjVnqRZQXkOGY8pKoLbAni1/c7bgN/g8QHehr333ntonhyUvzEU6UMjQWhk0oZcMecxvOlNb2rf2YKf/exnOVQ0CYn8X2z/Hnvs0bz+9a/P7yfCzeHeSfDkUFT5J/6SYGgS88i5SwEh1kmrb5LJnMNb73GPezSJAJo0Ie0ntkLcvVDUwHe+850clpkmJ99v0p5zmDMkJtzc9773zaGcsHnz5jye448/fl5I7DiYdEg4JOGSQ7Xdv3mSfwBCuZMFk3NGhHJ6LoTT581/CTkHwnETE8ufOeaYY/LrwlRdQxh0Ys75vbg+PPOZz8x5PYnZ5VD/JADad0ZDYmojh4RDsoJzKLPfS0xvHg0krW0uh+qyyy7L4d3y4pL2ml8rgS5ucpObtM+2IAm0nFuDBsq/s88+O7+PJlzf7yRB2HzkIx/Jr48K4dnnrnJIeFLgMk0n5SSPv8whkatnjUH4+3nnnZfD4Yfl0vh8EnDts/mQc5gszfbZFiQFL+9vuWvWZ1zMQkh4siqbHXfcMadF2Ed4RRLs7btN84IXvCCnuQR9oqlRMemQ8KDna1zjGplmkgKWX5cPmiycnHNmH6GhZPU0RxxxRE4hwQ/QBn7wjGc8o0lCKn/vwgsvbJICk8dvXvBqdAbSOewtfF1KkXxJ6Rxynr785S/nnMOk6G4jR2BkoTQqklbRJG1im9yQpcBgJOHKKRkGkxATEZAc6HsE6WpjLYQSIJ5hSbOAYXzpS19qn3Xj8ssvby666KLm0ksvbV/ZAkRnDUthVMLGw1Dcw7gYVyiB/CkbiOIzDJKjazpYa0xCKAU+8YlP5M0+DITyQvtoKSAQkyXRPhsfsyCUIFnfmf6G0RdFyT5aiD67MGmhtFSgG/wUb69BAfTeOMJ4MfS175YJ7qRJlxmaZXCpcaF2+aTXGyZVZmhW4Ty4r33X176rMRuxrz169OjRY0OgF0o9evTo0WNqsEnRzfZxjyVATozyKsMSfnvMh3B/EWOzkqC6HIjUkgskSrTHthDZJnprWAWX9Q55c2hE0mqPrdgkqqR93GMJkAEvqXihMMgeW/H6178+Z3VvBKEkp0vobJkj12Mr5FSptLJRmbL0Crl/i+VwbjT0gQ7LxFoGOsgp6ioHU0MeSVe1C5C30pV7EkAeEqNlr0cSbUAOA+Eyyj0ElhrosNh9BtyTz0UpnC4otyTHoswn8b2F7sk8+MyweezCJAMdzI91WGjcYBw+u9RAk5///OfblNaJah/j0AHMUqCD8dlvw2hwMfrpwjQFOijxJhFevuIwLLYHzQ/6W67CueC3EZvmX5LmuFxOOOGEwZOe9KTBwQcfnAtbWogAi0FCns9JPlSBWjLdhz70ofYTPVYKEn9VaZAYqWQSguqCuZdMSxtTJkWtv4DyQoolch9YzyidEkBgyoZYb0KkSyBJPpblv5qImlrGItFZwd4ucAVJsDYelR0kxNZwLUJCInFUoZc8q9ab8SkPw5LrwpFHHpmvO22wNkpGcYta6xe96EXtO9tCorUK4ueee25OoFXfDCRRK7J6u9vdbu7PnNRJ8pKqZfSXZcAU9VXeiUWIFjHv9QYJ3OZYpRD7qOR75lMtTXR3zDHHzEs8n0aoXqKyC74eOOecc7KLWQ3DLqiEorGh4gZKwTmy6IIadxK2l41ERItC877HFP1k5LXIL5CjU+aqJKHU3P/+92+fNTkx009EU7j1iEnnKeldUuZ26BkkIa2GHCRJzpETdMEFFzSJ6eZeU6CnSjTBSxpQTmiOPAvf1bhLU7NhOPXUU3MitDUeB0nTGjlPSb5ZEhZzCbMS/5KC1JnorMdLNJgzrqTxzbs3Y5GELX+rRGLOc8nGXNlJ298mv+sDH/hAnsuF+oB1YRJ5SpLD3XfgFre4RZMUxvbZVsgJMv6ARMg73/nO+bHEaXOlV5K/V77ylXO90kpIeLSfYz3Q1Ec/+tH8GF2ZI/k6o2IW8pTKfEB0teeee841R5SnJem0pE8FAUbFpPOU5BJdcsklzU477TRyP6Wf/vSnuRACHmHvPPCBD8zJt3UOoyTqG9zgBnP0sByMZGfV5pjDW1q68hO0pGFQG4pJSzr3WBls3rw5W6AB2onyTrVWm5hMrokXLoU4TA5LgLYbVo4yKWrZxToraqqqe5QlqkEr5PqKPjOrBSVcWGNR4NLZgxJSfr+E+6ex3uQmN8nPaXRqISrWC7R5JfW5Wct7ZikcfvjhWUvkdmAZClgpi03y+3MvuY9pxNlnnz2PHpxPRPuAEkosle5K53pqHSrLxFK2V9VF9Oecpy7HZO6U9CrhLJVVBepbmn8tMtYTWIaK2QK6UvctymqpGameYEmfSg3VrfenBdZGlXfjGAYuOl4ULn/gSeD54pq1d4yZm68sPZQEdy73VdIXJPkyV6KpvCbrvvx+jSU7/2xeJq2aWHq+d4FLCKOrizj2WDoQfbn43FDOR/QeKqGsPoZaQrHE2DDcqxQKzIYQYqITYAqTnnzyyfkc5JBDDsnurvLaCKpuXbJaqMdKyKI77sgSiJ1QLsdbjpWwwawJKQwcIwf+c5s0wGXpvEQ0ZUBdRVXRpxEaMNrsXGeBHXfccZv5AS7een7A2taBGFyBZVHXOPNQH7BEebbEJUjxqT+znqDqPuVN81BAR130udou7dUCPu5oQMO+fffdN+8HbrtS0UBHeE7QHMGjN1tZkxS4yAlwrk2Ff7WVUReRKxS/USOQu70LSxZKQKsC0jTgUJxkffKTn5yZGi0+moL1WD5YMIi/hOffraqdq+StsG3ZswTjju/qIqyIrkKaNB3+csBcHGbTlBGoAAfMxmcAY7eukwALqB6rYqFxFhIgXBQF1jsrYEPRCAlZbUqckTgfU6zUeYo+QDVogTZRhHA7N8WAFtIs1xLmB8o5Mj9oJLTSAMtRz7HQXM0P1GNTlBbDwVzB51jndfHWgPMVlhmLE5NZr2fIL3/5y3NQho4EcW7i/KiLPtHcLILAdS7Iy4L27Zsa+o1RWsPj4JwSD6m9aSxIApvlpeUH2nN2ia4IKYJJoe4uLEsoxYGfwQR22223PDBdCllRGIH2CT1WBoihPGgFDKiO/Nlpp50yk9YTiaVAm7GJwg1F+PgMzSWCCACjowGLJkRAWhLQvlm9NMC99957m424WsAw67Ei8q4oJy46FtxRRx2VGYe+QcYaPaIc7roe4WSsggJKEOpcCpQpIPi0Uwn31DQiBEo5R+aHK7KeI9ovZULDRnszKveXViFYZ1pygKA+8MAD22fbwu/QgrkBKZ8Y1nqEAAfHECryE8DQtRfNf+kiniXY58A9aQxlfzVgMQsIoswCNzcadJzTBZGq3J8gak/aTPwGd29Zfb3EsoQSiYqxkYpd4Brh/tGfvcfKYK+99prXxdcmYNno8lhDaX3nLwQTd43PYDiEk/cwk2gPQePByLlyuP7ijAqDo/EQVgQbt58wVn98yyKO/K0G+PLLsYJ7Cx9/CZYet5VeQZo6cmtRjlhRNkRpOTj7CCsDjIOWT6OLkGptMbhnYqxciVycHk8LWDQUwnIs3KsUihhHCWeE1prgxRDszdp1Z4zl2REBz81r3HF+rH9afU5sjtFBbbGvN1DS4jyk3ouAPr2+3qBvFLcuazFA6RXlGntEIjQPzDC3XI36HDywZKHEZyiEEJNaKD+BtjkpzXojgK8fcQQ8ps3H4WvJoAK0fuHM3HFgIzmHCk0bk3bQ7bDS9TGYsnEfPzKrw/kTRST+WFLSBPytBrgg/U64mhzAE8Jx3mEMNRC6jUG7pzARxq5TujFjPECg03yFfBs3cFu4BgYeY+XG49L0eFpg33GtCvIISNhlFQF/v7HWYFXau6zKEs7gaLBlBQpKTcxBuEcJ7C4LkuCf1oCQlUI5Rueu5qWkz6td7WoLNhydReAp1r7sPWePUACDNvxRDFngXODLwaJCyQ1hVkw1h6I2AJ/8YYcdlv3yYdpjFrQk50sYmlj2Aw44ILfPXSh3osd4eNSjHpUFPQbi4JprVB4P0F5ZBmWuBOuBy4FAYhUBF6tABZYBOOC0sTBv5jltCJPG9P0OP/laZN2ziLiXnGNhsHKzjj/++DklR2dd9BWgwYpGJGRtmACLSU4W6wmdikBkPRJgzkrQNXr2mBVAGM0KrJVusvK0tPx3jhhN/vj6yyAjY2f5aOlNSDsvLCFfpY66WwjOiwlv+x6fMK/mcT2BdYmm7DkKjDOV2DdcoVq/1/Q5bhLxJMGS45Yrz73sfZazwBnAP4yV8kqpYTnj6ejJHkEjdWBVDfMhSR1dgt91vYg/QC/osUuxXLCig01rg3IJAJcABkUi0kJL6DpYauk+y4cobDQ08vWItajowI/N3WbRRbFEIImFpwCwijxmRTk3EHlWVyII5kwgia4RPWNtA4QZlxXG7zymq5KBkG2/TRCOCmcQ6KnrXKgLyJNWj+FK4i5bdWOwNozfd6+6DHPd0fZrOGS1TjRZgofbyibxvRp+w+dKEPjmQDTSqJhURQcM09isH4UxEp0FLRg3y4mwksYhOMm5YBeEvmOyEeJcA03RiFmq5oJLh2DymKW95557tp8cDbNQ0YGiE92cKXWEfHmo73WJqBQebruSPhfDpCs64OfonTKLP+PhLF60bZzGZQzccPYG5Q+918ErvrvPPvtsI3xZ6T6P77sG3uKzFEu0QhDa9451vM/qxHvqbsV9maFlYi2E0ixjXKE0y5iUUJpVzIJQWk1MWijNCpYV6NCjR48ePXqsJHqh1KNHjx49pgab1F9qH/dYAvjXHRxHInGPhWGeBE9sBPfdQQcdlEPvowJAj/mQhCqQICpsbDQ4A5X/JJ+zx1ZsUhCwfdxjCRAw4MDPgV6PxSFIQ+j1RpgvtOHwuM5277EFjrMFCkQo/kbDRh//MPSBDj169OjRY2rQq3A9evTo0WNKMBj8P6goWt+leVMDAAAAAElFTkSuQmCC)"
      ],
      "metadata": {
        "id": "FgH0sdwevMwp"
      }
    },
    {
      "cell_type": "markdown",
      "source": [
        "- Bọn m thích train gì thì train, thử nghiệm với bộ siêu tham số nào cũng được, thử YOLOv5n hay YOLOv5s nào cũng được miễn là khác để chứng tỏ với thầy là bọn em có thử nhiều bộ khác nhau - tối nay t đang bận chưa chia được nên bọn m có thể làm cái khác trước, trưa mai 1h chiều t sẽ post lên là ai thử với cái gì sau."
      ],
      "metadata": {
        "id": "1zJqMy_3vhqU"
      }
    },
    {
      "cell_type": "code",
      "source": [
        "import os\n",
        "\n",
        "from ultralytics import YOLO\n",
        "\n",
        "# if train from scratch, do like this below => it can be understood as initializing the model with parameters\n",
        "# yolov8 cũng có các họ nano - medium - small - .... => phía dưới load yolov8m\n",
        "model = YOLO(\"yolov8l.pt\")\n",
        "#nếu load model đã pretrain => t đã đổi tên model trưa nay t show cho bọn m\n",
        "#model = YOLO(\"/content/drive/MyDrive/wb_localization_dataset/best_YOLOv8_30_4_2024_v2_Ha.pt\")"
      ],
      "metadata": {
        "id": "UHRXdfz0WBzh",
        "colab": {
          "base_uri": "https://localhost:8080/"
        },
        "outputId": "5931ec8f-7563-409d-8839-ffa0a041f13e"
      },
      "execution_count": 5,
      "outputs": [
        {
          "output_type": "stream",
          "name": "stdout",
          "text": [
            "Downloading https://github.com/ultralytics/assets/releases/download/v8.2.0/yolov8l.pt to 'yolov8l.pt'...\n"
          ]
        },
        {
          "output_type": "stream",
          "name": "stderr",
          "text": [
            "100%|██████████| 83.7M/83.7M [00:00<00:00, 240MB/s]\n"
          ]
        }
      ]
    },
    {
      "cell_type": "markdown",
      "source": [
        "- Tài liệu: ultralytics -> https://docs.ultralytics.com/modes/train/\n",
        "- Train thì để đó đi làm việc khác không mất kết nối mạng là được - nhưng nếu chạy xong cell này mà m quên k vào lại notebook này quá 30ph hay 45ph gì đó thì nó sẽ tự động runtime disconnected và toang => đi làm việc khác nhưng vẫn phải để ý\n",
        "- Lúc nó chạy (XIN NHẮC LẠI: chỉ lúc nó chạy thì nó sẽ có folder \"runs\" => bọn m click vào biểu tượng thứ 4 dưới cùng để xem folder đó\n",
        "![image.png](data:image/png;base64,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)"
      ],
      "metadata": {
        "id": "0M2qLRzAwlAx"
      }
    },
    {
      "cell_type": "markdown",
      "source": [
        "- Lưu file runs đó theo hướng dẫn của Lâm trong nhóm hoặc tải bằng tay như t trưa nay tất cả các file trong này: runs thì sẽ có train hoặc val => m k tải thì sau này mở lại notebook này nó sẽ mất dù m đã train rồi"
      ],
      "metadata": {
        "id": "YVdyWyzsxMgc"
      }
    },
    {
      "cell_type": "code",
      "source": [
        "# bắt đầu train thì chạy cell này => truyền các siêu tham số phải đúng thứ tự => thứ tự như nào đọc doc của ultralytics\n",
        "results = model.train(data = os.path.join (ROOT_DIR, \"12_5_config.yaml\"), epochs = 100,\n",
        "            batch = 16,\n",
        "            pretrained = True,\n",
        "            imgsz = 640,\n",
        "            optimizer = 'AdamW',\n",
        "            lr0 = 0.01,\n",
        "            momentum = 0.937, weight_decay = 0.0005)"
      ],
      "metadata": {
        "id": "h7qnwrbSwZME",
        "colab": {
          "base_uri": "https://localhost:8080/"
        },
        "outputId": "918fd82d-9949-4886-a581-b97ad0a25ccc"
      },
      "execution_count": 6,
      "outputs": [
        {
          "output_type": "stream",
          "name": "stdout",
          "text": [
            "Ultralytics YOLOv8.2.15 🚀 Python-3.10.12 torch-2.2.1+cu121 CUDA:0 (Tesla T4, 15102MiB)\n",
            "\u001b[34m\u001b[1mengine/trainer: \u001b[0mtask=detect, mode=train, model=yolov8l.pt, data=/content/drive/MyDrive/wb_localization_dataset/12_5_config.yaml, epochs=100, time=None, patience=100, batch=16, imgsz=640, save=True, save_period=-1, cache=False, device=None, workers=8, project=None, name=train, exist_ok=False, pretrained=True, optimizer=AdamW, verbose=True, seed=0, deterministic=True, single_cls=False, rect=False, cos_lr=False, close_mosaic=10, resume=False, amp=True, fraction=1.0, profile=False, freeze=None, multi_scale=False, overlap_mask=True, mask_ratio=4, dropout=0.0, val=True, split=val, save_json=False, save_hybrid=False, conf=None, iou=0.7, max_det=300, half=False, dnn=False, plots=True, source=None, vid_stride=1, stream_buffer=False, visualize=False, augment=False, agnostic_nms=False, classes=None, retina_masks=False, embed=None, show=False, save_frames=False, save_txt=False, save_conf=False, save_crop=False, show_labels=True, show_conf=True, show_boxes=True, line_width=None, format=torchscript, keras=False, optimize=False, int8=False, dynamic=False, simplify=False, opset=None, workspace=4, nms=False, lr0=0.01, lrf=0.01, momentum=0.937, weight_decay=0.0005, warmup_epochs=3.0, warmup_momentum=0.8, warmup_bias_lr=0.1, box=7.5, cls=0.5, dfl=1.5, pose=12.0, kobj=1.0, label_smoothing=0.0, nbs=64, hsv_h=0.015, hsv_s=0.7, hsv_v=0.4, degrees=0.0, translate=0.1, scale=0.5, shear=0.0, perspective=0.0, flipud=0.0, fliplr=0.5, bgr=0.0, mosaic=1.0, mixup=0.0, copy_paste=0.0, auto_augment=randaugment, erasing=0.4, crop_fraction=1.0, cfg=None, tracker=botsort.yaml, save_dir=runs/detect/train\n",
            "Downloading https://ultralytics.com/assets/Arial.ttf to '/root/.config/Ultralytics/Arial.ttf'...\n"
          ]
        },
        {
          "output_type": "stream",
          "name": "stderr",
          "text": [
            "100%|██████████| 755k/755k [00:00<00:00, 75.5MB/s]\n"
          ]
        },
        {
          "output_type": "stream",
          "name": "stdout",
          "text": [
            "Overriding model.yaml nc=80 with nc=1\n",
            "\n",
            "                   from  n    params  module                                       arguments                     \n",
            "  0                  -1  1      1856  ultralytics.nn.modules.conv.Conv             [3, 64, 3, 2]                 \n",
            "  1                  -1  1     73984  ultralytics.nn.modules.conv.Conv             [64, 128, 3, 2]               \n",
            "  2                  -1  3    279808  ultralytics.nn.modules.block.C2f             [128, 128, 3, True]           \n",
            "  3                  -1  1    295424  ultralytics.nn.modules.conv.Conv             [128, 256, 3, 2]              \n",
            "  4                  -1  6   2101248  ultralytics.nn.modules.block.C2f             [256, 256, 6, True]           \n",
            "  5                  -1  1   1180672  ultralytics.nn.modules.conv.Conv             [256, 512, 3, 2]              \n",
            "  6                  -1  6   8396800  ultralytics.nn.modules.block.C2f             [512, 512, 6, True]           \n",
            "  7                  -1  1   2360320  ultralytics.nn.modules.conv.Conv             [512, 512, 3, 2]              \n",
            "  8                  -1  3   4461568  ultralytics.nn.modules.block.C2f             [512, 512, 3, True]           \n",
            "  9                  -1  1    656896  ultralytics.nn.modules.block.SPPF            [512, 512, 5]                 \n",
            " 10                  -1  1         0  torch.nn.modules.upsampling.Upsample         [None, 2, 'nearest']          \n",
            " 11             [-1, 6]  1         0  ultralytics.nn.modules.conv.Concat           [1]                           \n",
            " 12                  -1  3   4723712  ultralytics.nn.modules.block.C2f             [1024, 512, 3]                \n",
            " 13                  -1  1         0  torch.nn.modules.upsampling.Upsample         [None, 2, 'nearest']          \n",
            " 14             [-1, 4]  1         0  ultralytics.nn.modules.conv.Concat           [1]                           \n",
            " 15                  -1  3   1247744  ultralytics.nn.modules.block.C2f             [768, 256, 3]                 \n",
            " 16                  -1  1    590336  ultralytics.nn.modules.conv.Conv             [256, 256, 3, 2]              \n",
            " 17            [-1, 12]  1         0  ultralytics.nn.modules.conv.Concat           [1]                           \n",
            " 18                  -1  3   4592640  ultralytics.nn.modules.block.C2f             [768, 512, 3]                 \n",
            " 19                  -1  1   2360320  ultralytics.nn.modules.conv.Conv             [512, 512, 3, 2]              \n",
            " 20             [-1, 9]  1         0  ultralytics.nn.modules.conv.Concat           [1]                           \n",
            " 21                  -1  3   4723712  ultralytics.nn.modules.block.C2f             [1024, 512, 3]                \n",
            " 22        [15, 18, 21]  1   5583571  ultralytics.nn.modules.head.Detect           [1, [256, 512, 512]]          \n",
            "Model summary: 365 layers, 43630611 parameters, 43630595 gradients, 165.4 GFLOPs\n",
            "\n",
            "Transferred 589/595 items from pretrained weights\n",
            "\u001b[34m\u001b[1mTensorBoard: \u001b[0mStart with 'tensorboard --logdir runs/detect/train', view at http://localhost:6006/\n",
            "Freezing layer 'model.22.dfl.conv.weight'\n",
            "\u001b[34m\u001b[1mAMP: \u001b[0mrunning Automatic Mixed Precision (AMP) checks with YOLOv8n...\n",
            "Downloading https://github.com/ultralytics/assets/releases/download/v8.2.0/yolov8n.pt to 'yolov8n.pt'...\n"
          ]
        },
        {
          "output_type": "stream",
          "name": "stderr",
          "text": [
            "100%|██████████| 6.23M/6.23M [00:00<00:00, 103MB/s]\n"
          ]
        },
        {
          "output_type": "stream",
          "name": "stdout",
          "text": [
            "\u001b[34m\u001b[1mAMP: \u001b[0mchecks passed ✅\n"
          ]
        },
        {
          "output_type": "stream",
          "name": "stderr",
          "text": [
            "\u001b[34m\u001b[1mtrain: \u001b[0mScanning /content/drive/.shortcut-targets-by-id/10gHGTbh1XVN3c7_fuOKeFfy6RRNhT1AN/wb_localization_dataset/wb_localization_dataset_retrain_200e_Ha/labels/train.cache... 39 images, 0 backgrounds, 0 corrupt: 100%|██████████| 39/39 [00:00<?, ?it/s]\n"
          ]
        },
        {
          "output_type": "stream",
          "name": "stdout",
          "text": [
            "\u001b[34m\u001b[1malbumentations: \u001b[0mBlur(p=0.01, blur_limit=(3, 7)), MedianBlur(p=0.01, blur_limit=(3, 7)), ToGray(p=0.01), CLAHE(p=0.01, clip_limit=(1, 4.0), tile_grid_size=(8, 8))\n"
          ]
        },
        {
          "output_type": "stream",
          "name": "stderr",
          "text": [
            "/usr/lib/python3.10/multiprocessing/popen_fork.py:66: RuntimeWarning: os.fork() was called. os.fork() is incompatible with multithreaded code, and JAX is multithreaded, so this will likely lead to a deadlock.\n",
            "  self.pid = os.fork()\n",
            "\u001b[34m\u001b[1mval: \u001b[0mScanning /content/drive/.shortcut-targets-by-id/10gHGTbh1XVN3c7_fuOKeFfy6RRNhT1AN/wb_localization_dataset/wb_localization_dataset_retrain_200e_Ha/labels/val.cache... 14 images, 0 backgrounds, 0 corrupt: 100%|██████████| 14/14 [00:00<?, ?it/s]\n"
          ]
        },
        {
          "output_type": "stream",
          "name": "stdout",
          "text": [
            "Plotting labels to runs/detect/train/labels.jpg... \n",
            "\u001b[34m\u001b[1moptimizer:\u001b[0m AdamW(lr=0.01, momentum=0.937) with parameter groups 97 weight(decay=0.0), 104 weight(decay=0.0005), 103 bias(decay=0.0)\n",
            "\u001b[34m\u001b[1mTensorBoard: \u001b[0mmodel graph visualization added ✅\n",
            "Image sizes 640 train, 640 val\n",
            "Using 2 dataloader workers\n",
            "Logging results to \u001b[1mruns/detect/train\u001b[0m\n",
            "Starting training for 100 epochs...\n",
            "\n",
            "      Epoch    GPU_mem   box_loss   cls_loss   dfl_loss  Instances       Size\n"
          ]
        },
        {
          "output_type": "stream",
          "name": "stderr",
          "text": [
            "      1/100      13.5G      3.366      3.546      1.656        918        640: 100%|██████████| 3/3 [00:09<00:00,  3.28s/it]\n",
            "                 Class     Images  Instances      Box(P          R      mAP50  mAP50-95): 100%|██████████| 1/1 [00:06<00:00,  6.89s/it]"
          ]
        },
        {
          "output_type": "stream",
          "name": "stdout",
          "text": [
            "                   all         14       3204          0          0          0          0\n"
          ]
        },
        {
          "output_type": "stream",
          "name": "stderr",
          "text": [
            "\n"
          ]
        },
        {
          "output_type": "stream",
          "name": "stdout",
          "text": [
            "\n",
            "      Epoch    GPU_mem   box_loss   cls_loss   dfl_loss  Instances       Size\n"
          ]
        },
        {
          "output_type": "stream",
          "name": "stderr",
          "text": [
            "      2/100      12.3G      3.594      3.592      1.687       1981        640: 100%|██████████| 3/3 [00:10<00:00,  3.53s/it]\n",
            "                 Class     Images  Instances      Box(P          R      mAP50  mAP50-95): 100%|██████████| 1/1 [00:01<00:00,  1.47s/it]"
          ]
        },
        {
          "output_type": "stream",
          "name": "stdout",
          "text": [
            "                   all         14       3204     0.0786      0.103     0.0514     0.0112\n"
          ]
        },
        {
          "output_type": "stream",
          "name": "stderr",
          "text": [
            "\n"
          ]
        },
        {
          "output_type": "stream",
          "name": "stdout",
          "text": [
            "\n",
            "      Epoch    GPU_mem   box_loss   cls_loss   dfl_loss  Instances       Size\n"
          ]
        },
        {
          "output_type": "stream",
          "name": "stderr",
          "text": [
            "      3/100      13.4G      2.421       3.88      1.191       1949        640: 100%|██████████| 3/3 [00:10<00:00,  3.55s/it]\n",
            "                 Class     Images  Instances      Box(P          R      mAP50  mAP50-95): 100%|██████████| 1/1 [00:02<00:00,  2.22s/it]"
          ]
        },
        {
          "output_type": "stream",
          "name": "stdout",
          "text": [
            "                   all         14       3204     0.0786      0.103     0.0514     0.0112\n"
          ]
        },
        {
          "output_type": "stream",
          "name": "stderr",
          "text": [
            "\n"
          ]
        },
        {
          "output_type": "stream",
          "name": "stdout",
          "text": [
            "\n",
            "      Epoch    GPU_mem   box_loss   cls_loss   dfl_loss  Instances       Size\n"
          ]
        },
        {
          "output_type": "stream",
          "name": "stderr",
          "text": [
            "      4/100      12.2G      3.677       23.1      1.493       1208        640: 100%|██████████| 3/3 [00:08<00:00,  2.89s/it]\n",
            "                 Class     Images  Instances      Box(P          R      mAP50  mAP50-95): 100%|██████████| 1/1 [00:00<00:00,  1.17it/s]"
          ]
        },
        {
          "output_type": "stream",
          "name": "stdout",
          "text": [
            "                   all         14       3204     0.0786      0.103     0.0514     0.0112\n"
          ]
        },
        {
          "output_type": "stream",
          "name": "stderr",
          "text": [
            "\n"
          ]
        },
        {
          "output_type": "stream",
          "name": "stdout",
          "text": [
            "\n",
            "      Epoch    GPU_mem   box_loss   cls_loss   dfl_loss  Instances       Size\n"
          ]
        },
        {
          "output_type": "stream",
          "name": "stderr",
          "text": [
            "      5/100      13.3G      3.167      7.003      1.333       1606        640: 100%|██████████| 3/3 [00:04<00:00,  1.52s/it]\n",
            "                 Class     Images  Instances      Box(P          R      mAP50  mAP50-95): 100%|██████████| 1/1 [00:00<00:00,  1.70it/s]"
          ]
        },
        {
          "output_type": "stream",
          "name": "stdout",
          "text": [
            "                   all         14       3204     0.0786      0.103     0.0514     0.0112\n"
          ]
        },
        {
          "output_type": "stream",
          "name": "stderr",
          "text": [
            "\n"
          ]
        },
        {
          "output_type": "stream",
          "name": "stdout",
          "text": [
            "\n",
            "      Epoch    GPU_mem   box_loss   cls_loss   dfl_loss  Instances       Size\n"
          ]
        },
        {
          "output_type": "stream",
          "name": "stderr",
          "text": [
            "      6/100      13.4G      3.197      1.837      1.475       1118        640: 100%|██████████| 3/3 [00:02<00:00,  1.37it/s]\n",
            "                 Class     Images  Instances      Box(P          R      mAP50  mAP50-95): 100%|██████████| 1/1 [00:00<00:00,  2.66it/s]"
          ]
        },
        {
          "output_type": "stream",
          "name": "stdout",
          "text": [
            "                   all         14       3204     0.0786      0.103     0.0514     0.0112\n"
          ]
        },
        {
          "output_type": "stream",
          "name": "stderr",
          "text": [
            "\n"
          ]
        },
        {
          "output_type": "stream",
          "name": "stdout",
          "text": [
            "\n",
            "      Epoch    GPU_mem   box_loss   cls_loss   dfl_loss  Instances       Size\n"
          ]
        },
        {
          "output_type": "stream",
          "name": "stderr",
          "text": [
            "      7/100      11.9G      2.836      1.753      1.247       1961        640: 100%|██████████| 3/3 [00:02<00:00,  1.18it/s]\n",
            "                 Class     Images  Instances      Box(P          R      mAP50  mAP50-95): 100%|██████████| 1/1 [00:00<00:00,  2.45it/s]"
          ]
        },
        {
          "output_type": "stream",
          "name": "stdout",
          "text": [
            "                   all         14       3204     0.0786      0.103     0.0514     0.0112\n"
          ]
        },
        {
          "output_type": "stream",
          "name": "stderr",
          "text": [
            "\n"
          ]
        },
        {
          "output_type": "stream",
          "name": "stdout",
          "text": [
            "\n",
            "      Epoch    GPU_mem   box_loss   cls_loss   dfl_loss  Instances       Size\n"
          ]
        },
        {
          "output_type": "stream",
          "name": "stderr",
          "text": [
            "      8/100      14.1G      2.572       1.22      1.165       1898        640: 100%|██████████| 3/3 [00:02<00:00,  1.36it/s]\n",
            "                 Class     Images  Instances      Box(P          R      mAP50  mAP50-95): 100%|██████████| 1/1 [00:00<00:00,  2.85it/s]"
          ]
        },
        {
          "output_type": "stream",
          "name": "stdout",
          "text": [
            "                   all         14       3204     0.0786      0.103     0.0514     0.0112\n"
          ]
        },
        {
          "output_type": "stream",
          "name": "stderr",
          "text": [
            "\n"
          ]
        },
        {
          "output_type": "stream",
          "name": "stdout",
          "text": [
            "\n",
            "      Epoch    GPU_mem   box_loss   cls_loss   dfl_loss  Instances       Size\n"
          ]
        },
        {
          "output_type": "stream",
          "name": "stderr",
          "text": [
            "      9/100      13.2G      2.543      1.141       1.19       1948        640: 100%|██████████| 3/3 [00:02<00:00,  1.35it/s]\n",
            "                 Class     Images  Instances      Box(P          R      mAP50  mAP50-95): 100%|██████████| 1/1 [00:00<00:00,  3.13it/s]"
          ]
        },
        {
          "output_type": "stream",
          "name": "stdout",
          "text": [
            "                   all         14       3204     0.0786      0.103     0.0514     0.0112\n"
          ]
        },
        {
          "output_type": "stream",
          "name": "stderr",
          "text": [
            "\n"
          ]
        },
        {
          "output_type": "stream",
          "name": "stdout",
          "text": [
            "\n",
            "      Epoch    GPU_mem   box_loss   cls_loss   dfl_loss  Instances       Size\n"
          ]
        },
        {
          "output_type": "stream",
          "name": "stderr",
          "text": [
            "     10/100      13.4G      2.195      1.038       1.12       1586        640: 100%|██████████| 3/3 [00:02<00:00,  1.15it/s]\n",
            "                 Class     Images  Instances      Box(P          R      mAP50  mAP50-95): 100%|██████████| 1/1 [00:00<00:00,  2.22it/s]"
          ]
        },
        {
          "output_type": "stream",
          "name": "stdout",
          "text": [
            "                   all         14       3204     0.0786      0.103     0.0514     0.0112\n"
          ]
        },
        {
          "output_type": "stream",
          "name": "stderr",
          "text": [
            "\n"
          ]
        },
        {
          "output_type": "stream",
          "name": "stdout",
          "text": [
            "\n",
            "      Epoch    GPU_mem   box_loss   cls_loss   dfl_loss  Instances       Size\n"
          ]
        },
        {
          "output_type": "stream",
          "name": "stderr",
          "text": [
            "     11/100      12.8G      2.217      1.109      1.127       1249        640: 100%|██████████| 3/3 [00:02<00:00,  1.29it/s]\n",
            "                 Class     Images  Instances      Box(P          R      mAP50  mAP50-95): 100%|██████████| 1/1 [00:00<00:00,  2.57it/s]"
          ]
        },
        {
          "output_type": "stream",
          "name": "stdout",
          "text": [
            "                   all         14       3204     0.0786      0.103     0.0514     0.0112\n"
          ]
        },
        {
          "output_type": "stream",
          "name": "stderr",
          "text": [
            "\n"
          ]
        },
        {
          "output_type": "stream",
          "name": "stdout",
          "text": [
            "\n",
            "      Epoch    GPU_mem   box_loss   cls_loss   dfl_loss  Instances       Size\n"
          ]
        },
        {
          "output_type": "stream",
          "name": "stderr",
          "text": [
            "     12/100      13.2G      2.239      1.041      1.088       1419        640: 100%|██████████| 3/3 [00:02<00:00,  1.37it/s]\n",
            "                 Class     Images  Instances      Box(P          R      mAP50  mAP50-95): 100%|██████████| 1/1 [00:00<00:00,  2.72it/s]"
          ]
        },
        {
          "output_type": "stream",
          "name": "stdout",
          "text": [
            "                   all         14       3204     0.0786      0.103     0.0514     0.0112\n"
          ]
        },
        {
          "output_type": "stream",
          "name": "stderr",
          "text": [
            "\n"
          ]
        },
        {
          "output_type": "stream",
          "name": "stdout",
          "text": [
            "\n",
            "      Epoch    GPU_mem   box_loss   cls_loss   dfl_loss  Instances       Size\n"
          ]
        },
        {
          "output_type": "stream",
          "name": "stderr",
          "text": [
            "     13/100      13.6G      2.118      1.022        1.1       1436        640: 100%|██████████| 3/3 [00:02<00:00,  1.22it/s]\n",
            "                 Class     Images  Instances      Box(P          R      mAP50  mAP50-95): 100%|██████████| 1/1 [00:00<00:00,  2.39it/s]"
          ]
        },
        {
          "output_type": "stream",
          "name": "stdout",
          "text": [
            "                   all         14       3204     0.0786      0.103     0.0514     0.0112\n"
          ]
        },
        {
          "output_type": "stream",
          "name": "stderr",
          "text": [
            "\n"
          ]
        },
        {
          "output_type": "stream",
          "name": "stdout",
          "text": [
            "\n",
            "      Epoch    GPU_mem   box_loss   cls_loss   dfl_loss  Instances       Size\n"
          ]
        },
        {
          "output_type": "stream",
          "name": "stderr",
          "text": [
            "     14/100      12.2G      1.975     0.9608      1.055       1462        640: 100%|██████████| 3/3 [00:02<00:00,  1.38it/s]\n",
            "                 Class     Images  Instances      Box(P          R      mAP50  mAP50-95): 100%|██████████| 1/1 [00:00<00:00,  2.81it/s]"
          ]
        },
        {
          "output_type": "stream",
          "name": "stdout",
          "text": [
            "                   all         14       3204     0.0786      0.103     0.0514     0.0112\n"
          ]
        },
        {
          "output_type": "stream",
          "name": "stderr",
          "text": [
            "\n"
          ]
        },
        {
          "output_type": "stream",
          "name": "stdout",
          "text": [
            "\n",
            "      Epoch    GPU_mem   box_loss   cls_loss   dfl_loss  Instances       Size\n"
          ]
        },
        {
          "output_type": "stream",
          "name": "stderr",
          "text": [
            "     15/100      13.1G      1.952     0.9762      1.032       2512        640: 100%|██████████| 3/3 [00:02<00:00,  1.33it/s]\n",
            "                 Class     Images  Instances      Box(P          R      mAP50  mAP50-95): 100%|██████████| 1/1 [00:00<00:00,  2.81it/s]"
          ]
        },
        {
          "output_type": "stream",
          "name": "stdout",
          "text": [
            "                   all         14       3204     0.0786      0.103     0.0514     0.0112\n"
          ]
        },
        {
          "output_type": "stream",
          "name": "stderr",
          "text": [
            "\n"
          ]
        },
        {
          "output_type": "stream",
          "name": "stdout",
          "text": [
            "\n",
            "      Epoch    GPU_mem   box_loss   cls_loss   dfl_loss  Instances       Size\n"
          ]
        },
        {
          "output_type": "stream",
          "name": "stderr",
          "text": [
            "     16/100        13G      1.872     0.9169      1.027       1361        640: 100%|██████████| 3/3 [00:02<00:00,  1.20it/s]\n",
            "                 Class     Images  Instances      Box(P          R      mAP50  mAP50-95): 100%|██████████| 1/1 [00:00<00:00,  2.06it/s]"
          ]
        },
        {
          "output_type": "stream",
          "name": "stdout",
          "text": [
            "                   all         14       3204     0.0786      0.103     0.0514     0.0112\n"
          ]
        },
        {
          "output_type": "stream",
          "name": "stderr",
          "text": [
            "\n"
          ]
        },
        {
          "output_type": "stream",
          "name": "stdout",
          "text": [
            "\n",
            "      Epoch    GPU_mem   box_loss   cls_loss   dfl_loss  Instances       Size\n"
          ]
        },
        {
          "output_type": "stream",
          "name": "stderr",
          "text": [
            "     17/100      12.3G      2.005     0.9697      1.009       2426        640: 100%|██████████| 3/3 [00:02<00:00,  1.28it/s]\n",
            "                 Class     Images  Instances      Box(P          R      mAP50  mAP50-95): 100%|██████████| 1/1 [00:00<00:00,  2.80it/s]"
          ]
        },
        {
          "output_type": "stream",
          "name": "stdout",
          "text": [
            "                   all         14       3204     0.0786      0.103     0.0514     0.0112\n"
          ]
        },
        {
          "output_type": "stream",
          "name": "stderr",
          "text": [
            "\n"
          ]
        },
        {
          "output_type": "stream",
          "name": "stdout",
          "text": [
            "\n",
            "      Epoch    GPU_mem   box_loss   cls_loss   dfl_loss  Instances       Size\n"
          ]
        },
        {
          "output_type": "stream",
          "name": "stderr",
          "text": [
            "     18/100      13.4G      1.763     0.8726     0.9803       2120        640: 100%|██████████| 3/3 [00:02<00:00,  1.31it/s]\n",
            "                 Class     Images  Instances      Box(P          R      mAP50  mAP50-95): 100%|██████████| 1/1 [00:00<00:00,  2.93it/s]"
          ]
        },
        {
          "output_type": "stream",
          "name": "stdout",
          "text": [
            "                   all         14       3204     0.0786      0.103     0.0514     0.0112\n"
          ]
        },
        {
          "output_type": "stream",
          "name": "stderr",
          "text": [
            "\n"
          ]
        },
        {
          "output_type": "stream",
          "name": "stdout",
          "text": [
            "\n",
            "      Epoch    GPU_mem   box_loss   cls_loss   dfl_loss  Instances       Size\n"
          ]
        },
        {
          "output_type": "stream",
          "name": "stderr",
          "text": [
            "     19/100      13.6G      1.755     0.8788      1.003       1197        640: 100%|██████████| 3/3 [00:02<00:00,  1.26it/s]\n",
            "                 Class     Images  Instances      Box(P          R      mAP50  mAP50-95): 100%|██████████| 1/1 [00:00<00:00,  2.58it/s]"
          ]
        },
        {
          "output_type": "stream",
          "name": "stdout",
          "text": [
            "                   all         14       3204     0.0786      0.103     0.0514     0.0112\n"
          ]
        },
        {
          "output_type": "stream",
          "name": "stderr",
          "text": [
            "\n"
          ]
        },
        {
          "output_type": "stream",
          "name": "stdout",
          "text": [
            "\n",
            "      Epoch    GPU_mem   box_loss   cls_loss   dfl_loss  Instances       Size\n"
          ]
        },
        {
          "output_type": "stream",
          "name": "stderr",
          "text": [
            "     20/100      12.9G      1.742     0.8855      1.007       1411        640: 100%|██████████| 3/3 [00:02<00:00,  1.37it/s]\n",
            "                 Class     Images  Instances      Box(P          R      mAP50  mAP50-95): 100%|██████████| 1/1 [00:00<00:00,  2.94it/s]"
          ]
        },
        {
          "output_type": "stream",
          "name": "stdout",
          "text": [
            "                   all         14       3204     0.0786      0.103     0.0514     0.0112\n"
          ]
        },
        {
          "output_type": "stream",
          "name": "stderr",
          "text": [
            "\n"
          ]
        },
        {
          "output_type": "stream",
          "name": "stdout",
          "text": [
            "\n",
            "      Epoch    GPU_mem   box_loss   cls_loss   dfl_loss  Instances       Size\n"
          ]
        },
        {
          "output_type": "stream",
          "name": "stderr",
          "text": [
            "     21/100      14.2G      1.928     0.9007      1.011       1970        640: 100%|██████████| 3/3 [00:02<00:00,  1.31it/s]\n",
            "                 Class     Images  Instances      Box(P          R      mAP50  mAP50-95): 100%|██████████| 1/1 [00:00<00:00,  2.61it/s]"
          ]
        },
        {
          "output_type": "stream",
          "name": "stdout",
          "text": [
            "                   all         14       3204     0.0786      0.103     0.0514     0.0112\n"
          ]
        },
        {
          "output_type": "stream",
          "name": "stderr",
          "text": [
            "\n"
          ]
        },
        {
          "output_type": "stream",
          "name": "stdout",
          "text": [
            "\n",
            "      Epoch    GPU_mem   box_loss   cls_loss   dfl_loss  Instances       Size\n"
          ]
        },
        {
          "output_type": "stream",
          "name": "stderr",
          "text": [
            "     22/100        13G      1.854     0.8784      1.017       1863        640: 100%|██████████| 3/3 [00:02<00:00,  1.21it/s]\n",
            "                 Class     Images  Instances      Box(P          R      mAP50  mAP50-95): 100%|██████████| 1/1 [00:00<00:00,  2.35it/s]"
          ]
        },
        {
          "output_type": "stream",
          "name": "stdout",
          "text": [
            "                   all         14       3204     0.0786      0.103     0.0514     0.0112\n"
          ]
        },
        {
          "output_type": "stream",
          "name": "stderr",
          "text": [
            "\n"
          ]
        },
        {
          "output_type": "stream",
          "name": "stdout",
          "text": [
            "\n",
            "      Epoch    GPU_mem   box_loss   cls_loss   dfl_loss  Instances       Size\n"
          ]
        },
        {
          "output_type": "stream",
          "name": "stderr",
          "text": [
            "     23/100      12.6G      1.742     0.8754       1.02       1353        640: 100%|██████████| 3/3 [00:02<00:00,  1.37it/s]\n",
            "                 Class     Images  Instances      Box(P          R      mAP50  mAP50-95): 100%|██████████| 1/1 [00:00<00:00,  3.08it/s]"
          ]
        },
        {
          "output_type": "stream",
          "name": "stdout",
          "text": [
            "                   all         14       3204     0.0786      0.103     0.0514     0.0112\n"
          ]
        },
        {
          "output_type": "stream",
          "name": "stderr",
          "text": [
            "\n"
          ]
        },
        {
          "output_type": "stream",
          "name": "stdout",
          "text": [
            "\n",
            "      Epoch    GPU_mem   box_loss   cls_loss   dfl_loss  Instances       Size\n"
          ]
        },
        {
          "output_type": "stream",
          "name": "stderr",
          "text": [
            "     24/100      13.6G      1.777     0.8296      1.016       1539        640: 100%|██████████| 3/3 [00:02<00:00,  1.35it/s]\n",
            "                 Class     Images  Instances      Box(P          R      mAP50  mAP50-95): 100%|██████████| 1/1 [00:00<00:00,  2.90it/s]"
          ]
        },
        {
          "output_type": "stream",
          "name": "stdout",
          "text": [
            "                   all         14       3204     0.0786      0.103     0.0514     0.0112\n"
          ]
        },
        {
          "output_type": "stream",
          "name": "stderr",
          "text": [
            "\n"
          ]
        },
        {
          "output_type": "stream",
          "name": "stdout",
          "text": [
            "\n",
            "      Epoch    GPU_mem   box_loss   cls_loss   dfl_loss  Instances       Size\n"
          ]
        },
        {
          "output_type": "stream",
          "name": "stderr",
          "text": [
            "     25/100      12.6G      1.685     0.8171      1.005       1241        640: 100%|██████████| 3/3 [00:02<00:00,  1.23it/s]\n",
            "                 Class     Images  Instances      Box(P          R      mAP50  mAP50-95): 100%|██████████| 1/1 [00:00<00:00,  2.39it/s]"
          ]
        },
        {
          "output_type": "stream",
          "name": "stdout",
          "text": [
            "                   all         14       3204     0.0786      0.103     0.0514     0.0112\n"
          ]
        },
        {
          "output_type": "stream",
          "name": "stderr",
          "text": [
            "\n"
          ]
        },
        {
          "output_type": "stream",
          "name": "stdout",
          "text": [
            "\n",
            "      Epoch    GPU_mem   box_loss   cls_loss   dfl_loss  Instances       Size\n"
          ]
        },
        {
          "output_type": "stream",
          "name": "stderr",
          "text": [
            "     26/100      12.3G      1.826     0.8625      1.011       1693        640: 100%|██████████| 3/3 [00:02<00:00,  1.38it/s]\n",
            "                 Class     Images  Instances      Box(P          R      mAP50  mAP50-95): 100%|██████████| 1/1 [00:00<00:00,  3.02it/s]"
          ]
        },
        {
          "output_type": "stream",
          "name": "stdout",
          "text": [
            "                   all         14       3204     0.0786      0.103     0.0514     0.0112\n"
          ]
        },
        {
          "output_type": "stream",
          "name": "stderr",
          "text": [
            "\n"
          ]
        },
        {
          "output_type": "stream",
          "name": "stdout",
          "text": [
            "\n",
            "      Epoch    GPU_mem   box_loss   cls_loss   dfl_loss  Instances       Size\n"
          ]
        },
        {
          "output_type": "stream",
          "name": "stderr",
          "text": [
            "     27/100        12G      1.823     0.8167     0.9798       2456        640: 100%|██████████| 3/3 [00:02<00:00,  1.36it/s]\n",
            "                 Class     Images  Instances      Box(P          R      mAP50  mAP50-95): 100%|██████████| 1/1 [00:00<00:00,  2.99it/s]"
          ]
        },
        {
          "output_type": "stream",
          "name": "stdout",
          "text": [
            "                   all         14       3204     0.0786      0.103     0.0514     0.0112\n"
          ]
        },
        {
          "output_type": "stream",
          "name": "stderr",
          "text": [
            "\n"
          ]
        },
        {
          "output_type": "stream",
          "name": "stdout",
          "text": [
            "\n",
            "      Epoch    GPU_mem   box_loss   cls_loss   dfl_loss  Instances       Size\n"
          ]
        },
        {
          "output_type": "stream",
          "name": "stderr",
          "text": [
            "     28/100      12.9G      1.582     0.7861     0.9827       1186        640: 100%|██████████| 3/3 [00:02<00:00,  1.29it/s]\n",
            "                 Class     Images  Instances      Box(P          R      mAP50  mAP50-95): 100%|██████████| 1/1 [00:00<00:00,  2.25it/s]"
          ]
        },
        {
          "output_type": "stream",
          "name": "stdout",
          "text": [
            "                   all         14       3204     0.0786      0.103     0.0514     0.0112\n"
          ]
        },
        {
          "output_type": "stream",
          "name": "stderr",
          "text": [
            "\n"
          ]
        },
        {
          "output_type": "stream",
          "name": "stdout",
          "text": [
            "\n",
            "      Epoch    GPU_mem   box_loss   cls_loss   dfl_loss  Instances       Size\n"
          ]
        },
        {
          "output_type": "stream",
          "name": "stderr",
          "text": [
            "     29/100      13.7G      1.783     0.8157     0.9743       1226        640: 100%|██████████| 3/3 [00:02<00:00,  1.29it/s]\n",
            "                 Class     Images  Instances      Box(P          R      mAP50  mAP50-95): 100%|██████████| 1/1 [00:00<00:00,  2.78it/s]"
          ]
        },
        {
          "output_type": "stream",
          "name": "stdout",
          "text": [
            "                   all         14       3204     0.0786      0.103     0.0514     0.0112\n"
          ]
        },
        {
          "output_type": "stream",
          "name": "stderr",
          "text": [
            "\n"
          ]
        },
        {
          "output_type": "stream",
          "name": "stdout",
          "text": [
            "\n",
            "      Epoch    GPU_mem   box_loss   cls_loss   dfl_loss  Instances       Size\n"
          ]
        },
        {
          "output_type": "stream",
          "name": "stderr",
          "text": [
            "     30/100      12.2G      1.559     0.7318     0.9663       1419        640: 100%|██████████| 3/3 [00:02<00:00,  1.34it/s]\n",
            "                 Class     Images  Instances      Box(P          R      mAP50  mAP50-95): 100%|██████████| 1/1 [00:00<00:00,  2.67it/s]"
          ]
        },
        {
          "output_type": "stream",
          "name": "stdout",
          "text": [
            "                   all         14       3204     0.0786      0.103     0.0514     0.0112\n"
          ]
        },
        {
          "output_type": "stream",
          "name": "stderr",
          "text": [
            "\n"
          ]
        },
        {
          "output_type": "stream",
          "name": "stdout",
          "text": [
            "\n",
            "      Epoch    GPU_mem   box_loss   cls_loss   dfl_loss  Instances       Size\n"
          ]
        },
        {
          "output_type": "stream",
          "name": "stderr",
          "text": [
            "     31/100      12.4G      1.794     0.8382     0.9779       1579        640: 100%|██████████| 3/3 [00:02<00:00,  1.18it/s]\n",
            "                 Class     Images  Instances      Box(P          R      mAP50  mAP50-95): 100%|██████████| 1/1 [00:00<00:00,  2.34it/s]"
          ]
        },
        {
          "output_type": "stream",
          "name": "stdout",
          "text": [
            "                   all         14       3204     0.0786      0.103     0.0514     0.0112\n"
          ]
        },
        {
          "output_type": "stream",
          "name": "stderr",
          "text": [
            "\n"
          ]
        },
        {
          "output_type": "stream",
          "name": "stdout",
          "text": [
            "\n",
            "      Epoch    GPU_mem   box_loss   cls_loss   dfl_loss  Instances       Size\n"
          ]
        },
        {
          "output_type": "stream",
          "name": "stderr",
          "text": [
            "     32/100      13.6G      1.754     0.7791     0.9883       1841        640: 100%|██████████| 3/3 [00:02<00:00,  1.37it/s]\n",
            "                 Class     Images  Instances      Box(P          R      mAP50  mAP50-95): 100%|██████████| 1/1 [00:00<00:00,  2.54it/s]"
          ]
        },
        {
          "output_type": "stream",
          "name": "stdout",
          "text": [
            "                   all         14       3204     0.0786      0.103     0.0514     0.0112\n"
          ]
        },
        {
          "output_type": "stream",
          "name": "stderr",
          "text": [
            "\n"
          ]
        },
        {
          "output_type": "stream",
          "name": "stdout",
          "text": [
            "\n",
            "      Epoch    GPU_mem   box_loss   cls_loss   dfl_loss  Instances       Size\n"
          ]
        },
        {
          "output_type": "stream",
          "name": "stderr",
          "text": [
            "     33/100      12.2G      1.726      0.791      0.969       2067        640: 100%|██████████| 3/3 [00:02<00:00,  1.40it/s]\n",
            "                 Class     Images  Instances      Box(P          R      mAP50  mAP50-95): 100%|██████████| 1/1 [00:00<00:00,  2.64it/s]"
          ]
        },
        {
          "output_type": "stream",
          "name": "stdout",
          "text": [
            "                   all         14       3204     0.0786      0.103     0.0514     0.0112\n"
          ]
        },
        {
          "output_type": "stream",
          "name": "stderr",
          "text": [
            "\n"
          ]
        },
        {
          "output_type": "stream",
          "name": "stdout",
          "text": [
            "\n",
            "      Epoch    GPU_mem   box_loss   cls_loss   dfl_loss  Instances       Size\n"
          ]
        },
        {
          "output_type": "stream",
          "name": "stderr",
          "text": [
            "     34/100      14.2G      1.777      0.875     0.9932       2098        640: 100%|██████████| 3/3 [00:02<00:00,  1.17it/s]\n",
            "                 Class     Images  Instances      Box(P          R      mAP50  mAP50-95): 100%|██████████| 1/1 [00:00<00:00,  2.65it/s]"
          ]
        },
        {
          "output_type": "stream",
          "name": "stdout",
          "text": [
            "                   all         14       3204     0.0786      0.103     0.0514     0.0112\n"
          ]
        },
        {
          "output_type": "stream",
          "name": "stderr",
          "text": [
            "\n"
          ]
        },
        {
          "output_type": "stream",
          "name": "stdout",
          "text": [
            "\n",
            "      Epoch    GPU_mem   box_loss   cls_loss   dfl_loss  Instances       Size\n"
          ]
        },
        {
          "output_type": "stream",
          "name": "stderr",
          "text": [
            "     35/100      13.4G      1.747     0.7943     0.9912       1821        640: 100%|██████████| 3/3 [00:02<00:00,  1.35it/s]\n",
            "                 Class     Images  Instances      Box(P          R      mAP50  mAP50-95): 100%|██████████| 1/1 [00:00<00:00,  2.85it/s]"
          ]
        },
        {
          "output_type": "stream",
          "name": "stdout",
          "text": [
            "                   all         14       3204     0.0786      0.103     0.0514     0.0112\n"
          ]
        },
        {
          "output_type": "stream",
          "name": "stderr",
          "text": [
            "\n"
          ]
        },
        {
          "output_type": "stream",
          "name": "stdout",
          "text": [
            "\n",
            "      Epoch    GPU_mem   box_loss   cls_loss   dfl_loss  Instances       Size\n"
          ]
        },
        {
          "output_type": "stream",
          "name": "stderr",
          "text": [
            "     36/100      11.8G      1.676      0.826     0.9878       1303        640: 100%|██████████| 3/3 [00:02<00:00,  1.39it/s]\n",
            "                 Class     Images  Instances      Box(P          R      mAP50  mAP50-95): 100%|██████████| 1/1 [00:00<00:00,  2.62it/s]"
          ]
        },
        {
          "output_type": "stream",
          "name": "stdout",
          "text": [
            "                   all         14       3204     0.0786      0.103     0.0514     0.0112\n"
          ]
        },
        {
          "output_type": "stream",
          "name": "stderr",
          "text": [
            "\n"
          ]
        },
        {
          "output_type": "stream",
          "name": "stdout",
          "text": [
            "\n",
            "      Epoch    GPU_mem   box_loss   cls_loss   dfl_loss  Instances       Size\n"
          ]
        },
        {
          "output_type": "stream",
          "name": "stderr",
          "text": [
            "     37/100      14.3G      1.543     0.7487     0.9718       1454        640: 100%|██████████| 3/3 [00:02<00:00,  1.27it/s]\n",
            "                 Class     Images  Instances      Box(P          R      mAP50  mAP50-95): 100%|██████████| 1/1 [00:00<00:00,  2.60it/s]"
          ]
        },
        {
          "output_type": "stream",
          "name": "stdout",
          "text": [
            "                   all         14       3204     0.0786      0.103     0.0514     0.0112\n"
          ]
        },
        {
          "output_type": "stream",
          "name": "stderr",
          "text": [
            "\n"
          ]
        },
        {
          "output_type": "stream",
          "name": "stdout",
          "text": [
            "\n",
            "      Epoch    GPU_mem   box_loss   cls_loss   dfl_loss  Instances       Size\n"
          ]
        },
        {
          "output_type": "stream",
          "name": "stderr",
          "text": [
            "     38/100        12G      1.619     0.7897     0.9737       1320        640: 100%|██████████| 3/3 [00:02<00:00,  1.36it/s]\n",
            "                 Class     Images  Instances      Box(P          R      mAP50  mAP50-95): 100%|██████████| 1/1 [00:00<00:00,  2.95it/s]"
          ]
        },
        {
          "output_type": "stream",
          "name": "stdout",
          "text": [
            "                   all         14       3204     0.0786      0.103     0.0514     0.0112\n"
          ]
        },
        {
          "output_type": "stream",
          "name": "stderr",
          "text": [
            "\n"
          ]
        },
        {
          "output_type": "stream",
          "name": "stdout",
          "text": [
            "\n",
            "      Epoch    GPU_mem   box_loss   cls_loss   dfl_loss  Instances       Size\n"
          ]
        },
        {
          "output_type": "stream",
          "name": "stderr",
          "text": [
            "     39/100      12.8G      1.598     0.7653      0.973       1500        640: 100%|██████████| 3/3 [00:02<00:00,  1.40it/s]\n",
            "                 Class     Images  Instances      Box(P          R      mAP50  mAP50-95): 100%|██████████| 1/1 [00:00<00:00,  2.64it/s]"
          ]
        },
        {
          "output_type": "stream",
          "name": "stdout",
          "text": [
            "                   all         14       3204     0.0786      0.103     0.0514     0.0112\n"
          ]
        },
        {
          "output_type": "stream",
          "name": "stderr",
          "text": [
            "\n"
          ]
        },
        {
          "output_type": "stream",
          "name": "stdout",
          "text": [
            "\n",
            "      Epoch    GPU_mem   box_loss   cls_loss   dfl_loss  Instances       Size\n"
          ]
        },
        {
          "output_type": "stream",
          "name": "stderr",
          "text": [
            "     40/100      12.8G       1.71     0.8415     0.9618       2806        640: 100%|██████████| 3/3 [00:03<00:00,  1.03s/it]\n",
            "                 Class     Images  Instances      Box(P          R      mAP50  mAP50-95): 100%|██████████| 1/1 [00:00<00:00,  1.80it/s]"
          ]
        },
        {
          "output_type": "stream",
          "name": "stdout",
          "text": [
            "                   all         14       3204     0.0786      0.103     0.0514     0.0112\n"
          ]
        },
        {
          "output_type": "stream",
          "name": "stderr",
          "text": [
            "\n"
          ]
        },
        {
          "output_type": "stream",
          "name": "stdout",
          "text": [
            "\n",
            "      Epoch    GPU_mem   box_loss   cls_loss   dfl_loss  Instances       Size\n"
          ]
        },
        {
          "output_type": "stream",
          "name": "stderr",
          "text": [
            "     41/100      14.4G       1.52     0.7249     0.9408       1499        640: 100%|██████████| 3/3 [00:02<00:00,  1.33it/s]\n",
            "                 Class     Images  Instances      Box(P          R      mAP50  mAP50-95): 100%|██████████| 1/1 [00:00<00:00,  2.53it/s]"
          ]
        },
        {
          "output_type": "stream",
          "name": "stdout",
          "text": [
            "                   all         14       3204     0.0786      0.103     0.0514     0.0112\n"
          ]
        },
        {
          "output_type": "stream",
          "name": "stderr",
          "text": [
            "\n"
          ]
        },
        {
          "output_type": "stream",
          "name": "stdout",
          "text": [
            "\n",
            "      Epoch    GPU_mem   box_loss   cls_loss   dfl_loss  Instances       Size\n"
          ]
        },
        {
          "output_type": "stream",
          "name": "stderr",
          "text": [
            "     42/100      13.3G      1.686     0.8027      1.002       1278        640: 100%|██████████| 3/3 [00:02<00:00,  1.34it/s]\n",
            "                 Class     Images  Instances      Box(P          R      mAP50  mAP50-95): 100%|██████████| 1/1 [00:00<00:00,  2.37it/s]"
          ]
        },
        {
          "output_type": "stream",
          "name": "stdout",
          "text": [
            "                   all         14       3204     0.0786      0.103     0.0514     0.0112\n"
          ]
        },
        {
          "output_type": "stream",
          "name": "stderr",
          "text": [
            "\n"
          ]
        },
        {
          "output_type": "stream",
          "name": "stdout",
          "text": [
            "\n",
            "      Epoch    GPU_mem   box_loss   cls_loss   dfl_loss  Instances       Size\n"
          ]
        },
        {
          "output_type": "stream",
          "name": "stderr",
          "text": [
            "     43/100        13G      1.408     0.6732      0.905       1932        640: 100%|██████████| 3/3 [00:02<00:00,  1.17it/s]\n",
            "                 Class     Images  Instances      Box(P          R      mAP50  mAP50-95): 100%|██████████| 1/1 [00:00<00:00,  1.20it/s]"
          ]
        },
        {
          "output_type": "stream",
          "name": "stdout",
          "text": [
            "                   all         14       3204     0.0786      0.103     0.0514     0.0112\n"
          ]
        },
        {
          "output_type": "stream",
          "name": "stderr",
          "text": [
            "\n"
          ]
        },
        {
          "output_type": "stream",
          "name": "stdout",
          "text": [
            "\n",
            "      Epoch    GPU_mem   box_loss   cls_loss   dfl_loss  Instances       Size\n"
          ]
        },
        {
          "output_type": "stream",
          "name": "stderr",
          "text": [
            "     44/100      12.7G      1.368     0.7237     0.9265       1969        640: 100%|██████████| 3/3 [00:02<00:00,  1.36it/s]\n",
            "                 Class     Images  Instances      Box(P          R      mAP50  mAP50-95): 100%|██████████| 1/1 [00:00<00:00,  1.62it/s]"
          ]
        },
        {
          "output_type": "stream",
          "name": "stdout",
          "text": [
            "                   all         14       3204     0.0786      0.103     0.0514     0.0112\n"
          ]
        },
        {
          "output_type": "stream",
          "name": "stderr",
          "text": [
            "\n"
          ]
        },
        {
          "output_type": "stream",
          "name": "stdout",
          "text": [
            "\n",
            "      Epoch    GPU_mem   box_loss   cls_loss   dfl_loss  Instances       Size\n"
          ]
        },
        {
          "output_type": "stream",
          "name": "stderr",
          "text": [
            "     45/100        13G       1.37     0.6874     0.9283       1400        640: 100%|██████████| 3/3 [00:02<00:00,  1.38it/s]\n",
            "                 Class     Images  Instances      Box(P          R      mAP50  mAP50-95): 100%|██████████| 1/1 [00:00<00:00,  1.29it/s]"
          ]
        },
        {
          "output_type": "stream",
          "name": "stdout",
          "text": [
            "                   all         14       3204     0.0786      0.103     0.0514     0.0112\n"
          ]
        },
        {
          "output_type": "stream",
          "name": "stderr",
          "text": [
            "\n"
          ]
        },
        {
          "output_type": "stream",
          "name": "stdout",
          "text": [
            "\n",
            "      Epoch    GPU_mem   box_loss   cls_loss   dfl_loss  Instances       Size\n"
          ]
        },
        {
          "output_type": "stream",
          "name": "stderr",
          "text": [
            "     46/100      13.7G      1.467     0.7118     0.9379       1467        640: 100%|██████████| 3/3 [00:02<00:00,  1.19it/s]\n",
            "                 Class     Images  Instances      Box(P          R      mAP50  mAP50-95): 100%|██████████| 1/1 [00:00<00:00,  1.21it/s]"
          ]
        },
        {
          "output_type": "stream",
          "name": "stdout",
          "text": [
            "                   all         14       3204     0.0786      0.103     0.0514     0.0112\n"
          ]
        },
        {
          "output_type": "stream",
          "name": "stderr",
          "text": [
            "\n"
          ]
        },
        {
          "output_type": "stream",
          "name": "stdout",
          "text": [
            "\n",
            "      Epoch    GPU_mem   box_loss   cls_loss   dfl_loss  Instances       Size\n"
          ]
        },
        {
          "output_type": "stream",
          "name": "stderr",
          "text": [
            "     47/100      13.6G      1.469     0.6956     0.9167       1641        640: 100%|██████████| 3/3 [00:02<00:00,  1.10it/s]\n",
            "                 Class     Images  Instances      Box(P          R      mAP50  mAP50-95): 100%|██████████| 1/1 [00:00<00:00,  1.05it/s]"
          ]
        },
        {
          "output_type": "stream",
          "name": "stdout",
          "text": [
            "                   all         14       3204     0.0786      0.103     0.0514     0.0112\n"
          ]
        },
        {
          "output_type": "stream",
          "name": "stderr",
          "text": [
            "\n"
          ]
        },
        {
          "output_type": "stream",
          "name": "stdout",
          "text": [
            "\n",
            "      Epoch    GPU_mem   box_loss   cls_loss   dfl_loss  Instances       Size\n"
          ]
        },
        {
          "output_type": "stream",
          "name": "stderr",
          "text": [
            "     48/100      12.4G      1.356     0.6443     0.9211       1893        640: 100%|██████████| 3/3 [00:02<00:00,  1.34it/s]\n",
            "                 Class     Images  Instances      Box(P          R      mAP50  mAP50-95): 100%|██████████| 1/1 [00:00<00:00,  1.78it/s]"
          ]
        },
        {
          "output_type": "stream",
          "name": "stdout",
          "text": [
            "                   all         14       3204     0.0786      0.103     0.0514     0.0112\n"
          ]
        },
        {
          "output_type": "stream",
          "name": "stderr",
          "text": [
            "\n"
          ]
        },
        {
          "output_type": "stream",
          "name": "stdout",
          "text": [
            "\n",
            "      Epoch    GPU_mem   box_loss   cls_loss   dfl_loss  Instances       Size\n"
          ]
        },
        {
          "output_type": "stream",
          "name": "stderr",
          "text": [
            "     49/100      11.8G       1.34     0.6419     0.9092       2346        640: 100%|██████████| 3/3 [00:02<00:00,  1.36it/s]\n",
            "                 Class     Images  Instances      Box(P          R      mAP50  mAP50-95): 100%|██████████| 1/1 [00:00<00:00,  1.30it/s]"
          ]
        },
        {
          "output_type": "stream",
          "name": "stdout",
          "text": [
            "                   all         14       3204     0.0786      0.103     0.0514     0.0112\n"
          ]
        },
        {
          "output_type": "stream",
          "name": "stderr",
          "text": [
            "\n"
          ]
        },
        {
          "output_type": "stream",
          "name": "stdout",
          "text": [
            "\n",
            "      Epoch    GPU_mem   box_loss   cls_loss   dfl_loss  Instances       Size\n"
          ]
        },
        {
          "output_type": "stream",
          "name": "stderr",
          "text": [
            "     50/100      12.4G      1.441     0.6699     0.9391       1369        640: 100%|██████████| 3/3 [00:02<00:00,  1.21it/s]\n",
            "                 Class     Images  Instances      Box(P          R      mAP50  mAP50-95): 100%|██████████| 1/1 [00:00<00:00,  1.61it/s]"
          ]
        },
        {
          "output_type": "stream",
          "name": "stdout",
          "text": [
            "                   all         14       3204   0.000238   0.000312   0.000119   4.77e-05\n"
          ]
        },
        {
          "output_type": "stream",
          "name": "stderr",
          "text": [
            "\n"
          ]
        },
        {
          "output_type": "stream",
          "name": "stdout",
          "text": [
            "\n",
            "      Epoch    GPU_mem   box_loss   cls_loss   dfl_loss  Instances       Size\n"
          ]
        },
        {
          "output_type": "stream",
          "name": "stderr",
          "text": [
            "     51/100      13.2G      1.553     0.7528     0.9429       2060        640: 100%|██████████| 3/3 [00:02<00:00,  1.37it/s]\n",
            "                 Class     Images  Instances      Box(P          R      mAP50  mAP50-95): 100%|██████████| 1/1 [00:00<00:00,  1.13it/s]"
          ]
        },
        {
          "output_type": "stream",
          "name": "stdout",
          "text": [
            "                   all         14       3204     0.0271     0.0331     0.0131    0.00693\n"
          ]
        },
        {
          "output_type": "stream",
          "name": "stderr",
          "text": [
            "\n"
          ]
        },
        {
          "output_type": "stream",
          "name": "stdout",
          "text": [
            "\n",
            "      Epoch    GPU_mem   box_loss   cls_loss   dfl_loss  Instances       Size\n"
          ]
        },
        {
          "output_type": "stream",
          "name": "stderr",
          "text": [
            "     52/100      14.6G      1.423     0.6684     0.9511       1287        640: 100%|██████████| 3/3 [00:02<00:00,  1.14it/s]\n",
            "                 Class     Images  Instances      Box(P          R      mAP50  mAP50-95): 100%|██████████| 1/1 [00:00<00:00,  1.26it/s]"
          ]
        },
        {
          "output_type": "stream",
          "name": "stdout",
          "text": [
            "                   all         14       3204      0.197      0.208      0.107     0.0642\n"
          ]
        },
        {
          "output_type": "stream",
          "name": "stderr",
          "text": [
            "\n"
          ]
        },
        {
          "output_type": "stream",
          "name": "stdout",
          "text": [
            "\n",
            "      Epoch    GPU_mem   box_loss   cls_loss   dfl_loss  Instances       Size\n"
          ]
        },
        {
          "output_type": "stream",
          "name": "stderr",
          "text": [
            "     53/100      13.4G      1.321     0.6453     0.9058       1491        640: 100%|██████████| 3/3 [00:02<00:00,  1.37it/s]\n",
            "                 Class     Images  Instances      Box(P          R      mAP50  mAP50-95): 100%|██████████| 1/1 [00:00<00:00,  1.99it/s]"
          ]
        },
        {
          "output_type": "stream",
          "name": "stdout",
          "text": [
            "                   all         14       3204      0.197      0.208      0.107     0.0642\n"
          ]
        },
        {
          "output_type": "stream",
          "name": "stderr",
          "text": [
            "\n"
          ]
        },
        {
          "output_type": "stream",
          "name": "stdout",
          "text": [
            "\n",
            "      Epoch    GPU_mem   box_loss   cls_loss   dfl_loss  Instances       Size\n"
          ]
        },
        {
          "output_type": "stream",
          "name": "stderr",
          "text": [
            "     54/100      12.2G      1.377     0.6502     0.9262       1407        640: 100%|██████████| 3/3 [00:02<00:00,  1.34it/s]\n",
            "                 Class     Images  Instances      Box(P          R      mAP50  mAP50-95): 100%|██████████| 1/1 [00:00<00:00,  1.42it/s]"
          ]
        },
        {
          "output_type": "stream",
          "name": "stdout",
          "text": [
            "                   all         14       3204      0.373      0.392      0.281      0.171\n"
          ]
        },
        {
          "output_type": "stream",
          "name": "stderr",
          "text": [
            "\n"
          ]
        },
        {
          "output_type": "stream",
          "name": "stdout",
          "text": [
            "\n",
            "      Epoch    GPU_mem   box_loss   cls_loss   dfl_loss  Instances       Size\n"
          ]
        },
        {
          "output_type": "stream",
          "name": "stderr",
          "text": [
            "     55/100      12.2G       1.55     0.6951     0.9505       2025        640: 100%|██████████| 3/3 [00:02<00:00,  1.19it/s]\n",
            "                 Class     Images  Instances      Box(P          R      mAP50  mAP50-95): 100%|██████████| 1/1 [00:00<00:00,  1.30it/s]"
          ]
        },
        {
          "output_type": "stream",
          "name": "stdout",
          "text": [
            "                   all         14       3204      0.456      0.359       0.29      0.175\n"
          ]
        },
        {
          "output_type": "stream",
          "name": "stderr",
          "text": [
            "\n"
          ]
        },
        {
          "output_type": "stream",
          "name": "stdout",
          "text": [
            "\n",
            "      Epoch    GPU_mem   box_loss   cls_loss   dfl_loss  Instances       Size\n"
          ]
        },
        {
          "output_type": "stream",
          "name": "stderr",
          "text": [
            "     56/100      13.4G       1.43     0.6637     0.9433       1806        640: 100%|██████████| 3/3 [00:02<00:00,  1.36it/s]\n",
            "                 Class     Images  Instances      Box(P          R      mAP50  mAP50-95): 100%|██████████| 1/1 [00:00<00:00,  1.55it/s]"
          ]
        },
        {
          "output_type": "stream",
          "name": "stdout",
          "text": [
            "                   all         14       3204       0.18      0.211      0.104      0.058\n"
          ]
        },
        {
          "output_type": "stream",
          "name": "stderr",
          "text": [
            "\n"
          ]
        },
        {
          "output_type": "stream",
          "name": "stdout",
          "text": [
            "\n",
            "      Epoch    GPU_mem   box_loss   cls_loss   dfl_loss  Instances       Size\n"
          ]
        },
        {
          "output_type": "stream",
          "name": "stderr",
          "text": [
            "     57/100        13G       1.35     0.6174     0.9277       1708        640: 100%|██████████| 3/3 [00:02<00:00,  1.39it/s]\n",
            "                 Class     Images  Instances      Box(P          R      mAP50  mAP50-95): 100%|██████████| 1/1 [00:00<00:00,  1.32it/s]"
          ]
        },
        {
          "output_type": "stream",
          "name": "stdout",
          "text": [
            "                   all         14       3204       0.18      0.211      0.104      0.058\n"
          ]
        },
        {
          "output_type": "stream",
          "name": "stderr",
          "text": [
            "\n"
          ]
        },
        {
          "output_type": "stream",
          "name": "stdout",
          "text": [
            "\n",
            "      Epoch    GPU_mem   box_loss   cls_loss   dfl_loss  Instances       Size\n"
          ]
        },
        {
          "output_type": "stream",
          "name": "stderr",
          "text": [
            "     58/100      12.4G      1.336     0.6366     0.9234       1730        640: 100%|██████████| 3/3 [00:02<00:00,  1.16it/s]\n",
            "                 Class     Images  Instances      Box(P          R      mAP50  mAP50-95): 100%|██████████| 1/1 [00:00<00:00,  1.04it/s]"
          ]
        },
        {
          "output_type": "stream",
          "name": "stdout",
          "text": [
            "                   all         14       3204      0.278      0.311      0.178      0.096\n"
          ]
        },
        {
          "output_type": "stream",
          "name": "stderr",
          "text": [
            "\n"
          ]
        },
        {
          "output_type": "stream",
          "name": "stdout",
          "text": [
            "\n",
            "      Epoch    GPU_mem   box_loss   cls_loss   dfl_loss  Instances       Size\n"
          ]
        },
        {
          "output_type": "stream",
          "name": "stderr",
          "text": [
            "     59/100      11.8G      1.318     0.6278     0.9125       1777        640: 100%|██████████| 3/3 [00:02<00:00,  1.33it/s]\n",
            "                 Class     Images  Instances      Box(P          R      mAP50  mAP50-95): 100%|██████████| 1/1 [00:00<00:00,  1.67it/s]"
          ]
        },
        {
          "output_type": "stream",
          "name": "stdout",
          "text": [
            "                   all         14       3204      0.921      0.629      0.748      0.487\n"
          ]
        },
        {
          "output_type": "stream",
          "name": "stderr",
          "text": [
            "\n"
          ]
        },
        {
          "output_type": "stream",
          "name": "stdout",
          "text": [
            "\n",
            "      Epoch    GPU_mem   box_loss   cls_loss   dfl_loss  Instances       Size\n"
          ]
        },
        {
          "output_type": "stream",
          "name": "stderr",
          "text": [
            "     60/100      13.2G      1.387     0.6759     0.9391       1619        640: 100%|██████████| 3/3 [00:02<00:00,  1.36it/s]\n",
            "                 Class     Images  Instances      Box(P          R      mAP50  mAP50-95): 100%|██████████| 1/1 [00:00<00:00,  1.85it/s]"
          ]
        },
        {
          "output_type": "stream",
          "name": "stdout",
          "text": [
            "                   all         14       3204      0.819      0.582      0.602      0.409\n"
          ]
        },
        {
          "output_type": "stream",
          "name": "stderr",
          "text": [
            "\n"
          ]
        },
        {
          "output_type": "stream",
          "name": "stdout",
          "text": [
            "\n",
            "      Epoch    GPU_mem   box_loss   cls_loss   dfl_loss  Instances       Size\n"
          ]
        },
        {
          "output_type": "stream",
          "name": "stderr",
          "text": [
            "     61/100      12.4G      1.391     0.6705     0.9269       1290        640: 100%|██████████| 3/3 [00:02<00:00,  1.25it/s]\n",
            "                 Class     Images  Instances      Box(P          R      mAP50  mAP50-95): 100%|██████████| 1/1 [00:00<00:00,  1.29it/s]"
          ]
        },
        {
          "output_type": "stream",
          "name": "stdout",
          "text": [
            "                   all         14       3204      0.819      0.582      0.602      0.409\n"
          ]
        },
        {
          "output_type": "stream",
          "name": "stderr",
          "text": [
            "\n"
          ]
        },
        {
          "output_type": "stream",
          "name": "stdout",
          "text": [
            "\n",
            "      Epoch    GPU_mem   box_loss   cls_loss   dfl_loss  Instances       Size\n"
          ]
        },
        {
          "output_type": "stream",
          "name": "stderr",
          "text": [
            "     62/100      11.9G      1.291     0.6303     0.9143       1630        640: 100%|██████████| 3/3 [00:02<00:00,  1.23it/s]\n",
            "                 Class     Images  Instances      Box(P          R      mAP50  mAP50-95): 100%|██████████| 1/1 [00:00<00:00,  1.71it/s]"
          ]
        },
        {
          "output_type": "stream",
          "name": "stdout",
          "text": [
            "                   all         14       3204      0.629      0.555      0.472       0.32\n"
          ]
        },
        {
          "output_type": "stream",
          "name": "stderr",
          "text": [
            "\n"
          ]
        },
        {
          "output_type": "stream",
          "name": "stdout",
          "text": [
            "\n",
            "      Epoch    GPU_mem   box_loss   cls_loss   dfl_loss  Instances       Size\n"
          ]
        },
        {
          "output_type": "stream",
          "name": "stderr",
          "text": [
            "     63/100      12.9G      1.381      0.652      0.904       2222        640: 100%|██████████| 3/3 [00:02<00:00,  1.36it/s]\n",
            "                 Class     Images  Instances      Box(P          R      mAP50  mAP50-95): 100%|██████████| 1/1 [00:00<00:00,  2.17it/s]"
          ]
        },
        {
          "output_type": "stream",
          "name": "stdout",
          "text": [
            "                   all         14       3204      0.794      0.517      0.641      0.445\n"
          ]
        },
        {
          "output_type": "stream",
          "name": "stderr",
          "text": [
            "\n"
          ]
        },
        {
          "output_type": "stream",
          "name": "stdout",
          "text": [
            "\n",
            "      Epoch    GPU_mem   box_loss   cls_loss   dfl_loss  Instances       Size\n"
          ]
        },
        {
          "output_type": "stream",
          "name": "stderr",
          "text": [
            "     64/100      12.4G      1.369     0.6291     0.8872       2231        640: 100%|██████████| 3/3 [00:02<00:00,  1.34it/s]\n",
            "                 Class     Images  Instances      Box(P          R      mAP50  mAP50-95): 100%|██████████| 1/1 [00:00<00:00,  1.45it/s]"
          ]
        },
        {
          "output_type": "stream",
          "name": "stdout",
          "text": [
            "                   all         14       3204      0.583      0.222       0.32      0.193\n"
          ]
        },
        {
          "output_type": "stream",
          "name": "stderr",
          "text": [
            "\n"
          ]
        },
        {
          "output_type": "stream",
          "name": "stdout",
          "text": [
            "\n",
            "      Epoch    GPU_mem   box_loss   cls_loss   dfl_loss  Instances       Size\n"
          ]
        },
        {
          "output_type": "stream",
          "name": "stderr",
          "text": [
            "     65/100      14.6G      1.443     0.7013      0.919       2134        640: 100%|██████████| 3/3 [00:02<00:00,  1.22it/s]\n",
            "                 Class     Images  Instances      Box(P          R      mAP50  mAP50-95): 100%|██████████| 1/1 [00:00<00:00,  1.27it/s]"
          ]
        },
        {
          "output_type": "stream",
          "name": "stdout",
          "text": [
            "                   all         14       3204      0.583      0.222       0.32      0.193\n"
          ]
        },
        {
          "output_type": "stream",
          "name": "stderr",
          "text": [
            "\n"
          ]
        },
        {
          "output_type": "stream",
          "name": "stdout",
          "text": [
            "\n",
            "      Epoch    GPU_mem   box_loss   cls_loss   dfl_loss  Instances       Size\n"
          ]
        },
        {
          "output_type": "stream",
          "name": "stderr",
          "text": [
            "     66/100      11.8G      1.298     0.6103     0.9245       1170        640: 100%|██████████| 3/3 [00:02<00:00,  1.38it/s]\n",
            "                 Class     Images  Instances      Box(P          R      mAP50  mAP50-95): 100%|██████████| 1/1 [00:00<00:00,  1.96it/s]"
          ]
        },
        {
          "output_type": "stream",
          "name": "stdout",
          "text": [
            "                   all         14       3204      0.265     0.0964      0.107     0.0736\n"
          ]
        },
        {
          "output_type": "stream",
          "name": "stderr",
          "text": [
            "\n"
          ]
        },
        {
          "output_type": "stream",
          "name": "stdout",
          "text": [
            "\n",
            "      Epoch    GPU_mem   box_loss   cls_loss   dfl_loss  Instances       Size\n"
          ]
        },
        {
          "output_type": "stream",
          "name": "stderr",
          "text": [
            "     67/100      13.3G      1.358     0.7191     0.9648       1283        640: 100%|██████████| 3/3 [00:02<00:00,  1.40it/s]\n",
            "                 Class     Images  Instances      Box(P          R      mAP50  mAP50-95): 100%|██████████| 1/1 [00:00<00:00,  1.63it/s]"
          ]
        },
        {
          "output_type": "stream",
          "name": "stdout",
          "text": [
            "                   all         14       3204      0.193      0.253      0.169       0.11\n"
          ]
        },
        {
          "output_type": "stream",
          "name": "stderr",
          "text": [
            "\n"
          ]
        },
        {
          "output_type": "stream",
          "name": "stdout",
          "text": [
            "\n",
            "      Epoch    GPU_mem   box_loss   cls_loss   dfl_loss  Instances       Size\n"
          ]
        },
        {
          "output_type": "stream",
          "name": "stderr",
          "text": [
            "     68/100      13.1G      1.304     0.6224     0.8919       1529        640: 100%|██████████| 3/3 [00:02<00:00,  1.27it/s]\n",
            "                 Class     Images  Instances      Box(P          R      mAP50  mAP50-95): 100%|██████████| 1/1 [00:00<00:00,  1.37it/s]"
          ]
        },
        {
          "output_type": "stream",
          "name": "stdout",
          "text": [
            "                   all         14       3204      0.856      0.394      0.541      0.332\n"
          ]
        },
        {
          "output_type": "stream",
          "name": "stderr",
          "text": [
            "\n"
          ]
        },
        {
          "output_type": "stream",
          "name": "stdout",
          "text": [
            "\n",
            "      Epoch    GPU_mem   box_loss   cls_loss   dfl_loss  Instances       Size\n"
          ]
        },
        {
          "output_type": "stream",
          "name": "stderr",
          "text": [
            "     69/100      12.9G      1.326     0.6321     0.9114       2035        640: 100%|██████████| 3/3 [00:02<00:00,  1.27it/s]\n",
            "                 Class     Images  Instances      Box(P          R      mAP50  mAP50-95): 100%|██████████| 1/1 [00:00<00:00,  1.25it/s]"
          ]
        },
        {
          "output_type": "stream",
          "name": "stdout",
          "text": [
            "                   all         14       3204      0.856      0.394      0.541      0.332\n"
          ]
        },
        {
          "output_type": "stream",
          "name": "stderr",
          "text": [
            "\n"
          ]
        },
        {
          "output_type": "stream",
          "name": "stdout",
          "text": [
            "\n",
            "      Epoch    GPU_mem   box_loss   cls_loss   dfl_loss  Instances       Size\n"
          ]
        },
        {
          "output_type": "stream",
          "name": "stderr",
          "text": [
            "     70/100      12.9G      1.282     0.6366     0.9204       1034        640: 100%|██████████| 3/3 [00:02<00:00,  1.32it/s]\n",
            "                 Class     Images  Instances      Box(P          R      mAP50  mAP50-95): 100%|██████████| 1/1 [00:00<00:00,  1.90it/s]"
          ]
        },
        {
          "output_type": "stream",
          "name": "stdout",
          "text": [
            "                   all         14       3204      0.896      0.593      0.736      0.472\n"
          ]
        },
        {
          "output_type": "stream",
          "name": "stderr",
          "text": [
            "\n"
          ]
        },
        {
          "output_type": "stream",
          "name": "stdout",
          "text": [
            "\n",
            "      Epoch    GPU_mem   box_loss   cls_loss   dfl_loss  Instances       Size\n"
          ]
        },
        {
          "output_type": "stream",
          "name": "stderr",
          "text": [
            "     71/100      13.1G      1.296     0.6217     0.9026       1369        640: 100%|██████████| 3/3 [00:02<00:00,  1.37it/s]\n",
            "                 Class     Images  Instances      Box(P          R      mAP50  mAP50-95): 100%|██████████| 1/1 [00:00<00:00,  1.66it/s]"
          ]
        },
        {
          "output_type": "stream",
          "name": "stdout",
          "text": [
            "                   all         14       3204      0.892      0.661      0.793      0.524\n"
          ]
        },
        {
          "output_type": "stream",
          "name": "stderr",
          "text": [
            "\n"
          ]
        },
        {
          "output_type": "stream",
          "name": "stdout",
          "text": [
            "\n",
            "      Epoch    GPU_mem   box_loss   cls_loss   dfl_loss  Instances       Size\n"
          ]
        },
        {
          "output_type": "stream",
          "name": "stderr",
          "text": [
            "     72/100      14.2G      1.292     0.6351     0.9064       1704        640: 100%|██████████| 3/3 [00:02<00:00,  1.14it/s]\n",
            "                 Class     Images  Instances      Box(P          R      mAP50  mAP50-95): 100%|██████████| 1/1 [00:00<00:00,  1.25it/s]"
          ]
        },
        {
          "output_type": "stream",
          "name": "stdout",
          "text": [
            "                   all         14       3204      0.909      0.716      0.839      0.557\n"
          ]
        },
        {
          "output_type": "stream",
          "name": "stderr",
          "text": [
            "\n"
          ]
        },
        {
          "output_type": "stream",
          "name": "stdout",
          "text": [
            "\n",
            "      Epoch    GPU_mem   box_loss   cls_loss   dfl_loss  Instances       Size\n"
          ]
        },
        {
          "output_type": "stream",
          "name": "stderr",
          "text": [
            "     73/100      13.5G       1.27     0.5826     0.8959       1816        640: 100%|██████████| 3/3 [00:02<00:00,  1.37it/s]\n",
            "                 Class     Images  Instances      Box(P          R      mAP50  mAP50-95): 100%|██████████| 1/1 [00:00<00:00,  1.87it/s]"
          ]
        },
        {
          "output_type": "stream",
          "name": "stdout",
          "text": [
            "                   all         14       3204      0.909      0.716      0.839      0.557\n"
          ]
        },
        {
          "output_type": "stream",
          "name": "stderr",
          "text": [
            "\n"
          ]
        },
        {
          "output_type": "stream",
          "name": "stdout",
          "text": [
            "\n",
            "      Epoch    GPU_mem   box_loss   cls_loss   dfl_loss  Instances       Size\n"
          ]
        },
        {
          "output_type": "stream",
          "name": "stderr",
          "text": [
            "     74/100      11.8G      1.258      0.617     0.9121       2158        640: 100%|██████████| 3/3 [00:02<00:00,  1.35it/s]\n",
            "                 Class     Images  Instances      Box(P          R      mAP50  mAP50-95): 100%|██████████| 1/1 [00:00<00:00,  1.77it/s]"
          ]
        },
        {
          "output_type": "stream",
          "name": "stdout",
          "text": [
            "                   all         14       3204      0.906      0.757      0.872      0.571\n"
          ]
        },
        {
          "output_type": "stream",
          "name": "stderr",
          "text": [
            "\n"
          ]
        },
        {
          "output_type": "stream",
          "name": "stdout",
          "text": [
            "\n",
            "      Epoch    GPU_mem   box_loss   cls_loss   dfl_loss  Instances       Size\n"
          ]
        },
        {
          "output_type": "stream",
          "name": "stderr",
          "text": [
            "     75/100        13G      1.308     0.6157     0.8997       2174        640: 100%|██████████| 3/3 [00:02<00:00,  1.18it/s]\n",
            "                 Class     Images  Instances      Box(P          R      mAP50  mAP50-95): 100%|██████████| 1/1 [00:00<00:00,  1.38it/s]"
          ]
        },
        {
          "output_type": "stream",
          "name": "stdout",
          "text": [
            "                   all         14       3204      0.904      0.782      0.881      0.566\n"
          ]
        },
        {
          "output_type": "stream",
          "name": "stderr",
          "text": [
            "\n"
          ]
        },
        {
          "output_type": "stream",
          "name": "stdout",
          "text": [
            "\n",
            "      Epoch    GPU_mem   box_loss   cls_loss   dfl_loss  Instances       Size\n"
          ]
        },
        {
          "output_type": "stream",
          "name": "stderr",
          "text": [
            "     76/100      13.7G      1.204     0.5795      0.901       1783        640: 100%|██████████| 3/3 [00:02<00:00,  1.34it/s]\n",
            "                 Class     Images  Instances      Box(P          R      mAP50  mAP50-95): 100%|██████████| 1/1 [00:00<00:00,  1.76it/s]"
          ]
        },
        {
          "output_type": "stream",
          "name": "stdout",
          "text": [
            "                   all         14       3204      0.891      0.796       0.88      0.556\n"
          ]
        },
        {
          "output_type": "stream",
          "name": "stderr",
          "text": [
            "\n"
          ]
        },
        {
          "output_type": "stream",
          "name": "stdout",
          "text": [
            "\n",
            "      Epoch    GPU_mem   box_loss   cls_loss   dfl_loss  Instances       Size\n"
          ]
        },
        {
          "output_type": "stream",
          "name": "stderr",
          "text": [
            "     77/100        13G      1.302     0.6242       0.92       1293        640: 100%|██████████| 3/3 [00:02<00:00,  1.35it/s]\n",
            "                 Class     Images  Instances      Box(P          R      mAP50  mAP50-95): 100%|██████████| 1/1 [00:00<00:00,  1.67it/s]"
          ]
        },
        {
          "output_type": "stream",
          "name": "stdout",
          "text": [
            "                   all         14       3204      0.891      0.796       0.88      0.556\n"
          ]
        },
        {
          "output_type": "stream",
          "name": "stderr",
          "text": [
            "\n"
          ]
        },
        {
          "output_type": "stream",
          "name": "stdout",
          "text": [
            "\n",
            "      Epoch    GPU_mem   box_loss   cls_loss   dfl_loss  Instances       Size\n"
          ]
        },
        {
          "output_type": "stream",
          "name": "stderr",
          "text": [
            "     78/100      12.1G      1.197     0.5781     0.8982       1931        640: 100%|██████████| 3/3 [00:02<00:00,  1.25it/s]\n",
            "                 Class     Images  Instances      Box(P          R      mAP50  mAP50-95): 100%|██████████| 1/1 [00:00<00:00,  1.30it/s]"
          ]
        },
        {
          "output_type": "stream",
          "name": "stdout",
          "text": [
            "                   all         14       3204      0.866      0.806      0.883      0.558\n"
          ]
        },
        {
          "output_type": "stream",
          "name": "stderr",
          "text": [
            "\n"
          ]
        },
        {
          "output_type": "stream",
          "name": "stdout",
          "text": [
            "\n",
            "      Epoch    GPU_mem   box_loss   cls_loss   dfl_loss  Instances       Size\n"
          ]
        },
        {
          "output_type": "stream",
          "name": "stderr",
          "text": [
            "     79/100      13.9G      1.306     0.5928     0.8896       2192        640: 100%|██████████| 3/3 [00:02<00:00,  1.11it/s]\n",
            "                 Class     Images  Instances      Box(P          R      mAP50  mAP50-95): 100%|██████████| 1/1 [00:00<00:00,  1.20it/s]"
          ]
        },
        {
          "output_type": "stream",
          "name": "stdout",
          "text": [
            "                   all         14       3204      0.879      0.788      0.869      0.548\n"
          ]
        },
        {
          "output_type": "stream",
          "name": "stderr",
          "text": [
            "\n"
          ]
        },
        {
          "output_type": "stream",
          "name": "stdout",
          "text": [
            "\n",
            "      Epoch    GPU_mem   box_loss   cls_loss   dfl_loss  Instances       Size\n"
          ]
        },
        {
          "output_type": "stream",
          "name": "stderr",
          "text": [
            "     80/100        12G      1.219     0.5718     0.9146       1905        640: 100%|██████████| 3/3 [00:02<00:00,  1.37it/s]\n",
            "                 Class     Images  Instances      Box(P          R      mAP50  mAP50-95): 100%|██████████| 1/1 [00:00<00:00,  2.29it/s]"
          ]
        },
        {
          "output_type": "stream",
          "name": "stdout",
          "text": [
            "                   all         14       3204      0.871      0.777      0.849       0.54\n"
          ]
        },
        {
          "output_type": "stream",
          "name": "stderr",
          "text": [
            "\n"
          ]
        },
        {
          "output_type": "stream",
          "name": "stdout",
          "text": [
            "\n",
            "      Epoch    GPU_mem   box_loss   cls_loss   dfl_loss  Instances       Size\n"
          ]
        },
        {
          "output_type": "stream",
          "name": "stderr",
          "text": [
            "     81/100      12.5G        1.2     0.5835     0.8806       1523        640: 100%|██████████| 3/3 [00:02<00:00,  1.40it/s]\n",
            "                 Class     Images  Instances      Box(P          R      mAP50  mAP50-95): 100%|██████████| 1/1 [00:00<00:00,  1.85it/s]"
          ]
        },
        {
          "output_type": "stream",
          "name": "stdout",
          "text": [
            "                   all         14       3204      0.871      0.777      0.849       0.54\n"
          ]
        },
        {
          "output_type": "stream",
          "name": "stderr",
          "text": [
            "\n"
          ]
        },
        {
          "output_type": "stream",
          "name": "stdout",
          "text": [
            "\n",
            "      Epoch    GPU_mem   box_loss   cls_loss   dfl_loss  Instances       Size\n"
          ]
        },
        {
          "output_type": "stream",
          "name": "stderr",
          "text": [
            "     82/100      13.8G      1.437     0.6908     0.9305       2000        640: 100%|██████████| 3/3 [00:02<00:00,  1.19it/s]\n",
            "                 Class     Images  Instances      Box(P          R      mAP50  mAP50-95): 100%|██████████| 1/1 [00:00<00:00,  1.39it/s]"
          ]
        },
        {
          "output_type": "stream",
          "name": "stdout",
          "text": [
            "                   all         14       3204      0.899      0.791      0.873      0.569\n"
          ]
        },
        {
          "output_type": "stream",
          "name": "stderr",
          "text": [
            "\n"
          ]
        },
        {
          "output_type": "stream",
          "name": "stdout",
          "text": [
            "\n",
            "      Epoch    GPU_mem   box_loss   cls_loss   dfl_loss  Instances       Size\n"
          ]
        },
        {
          "output_type": "stream",
          "name": "stderr",
          "text": [
            "     83/100      12.8G      1.182     0.5731     0.8854       2306        640: 100%|██████████| 3/3 [00:02<00:00,  1.18it/s]\n",
            "                 Class     Images  Instances      Box(P          R      mAP50  mAP50-95): 100%|██████████| 1/1 [00:00<00:00,  1.37it/s]"
          ]
        },
        {
          "output_type": "stream",
          "name": "stdout",
          "text": [
            "                   all         14       3204      0.897      0.826      0.898      0.593\n"
          ]
        },
        {
          "output_type": "stream",
          "name": "stderr",
          "text": [
            "\n"
          ]
        },
        {
          "output_type": "stream",
          "name": "stdout",
          "text": [
            "\n",
            "      Epoch    GPU_mem   box_loss   cls_loss   dfl_loss  Instances       Size\n"
          ]
        },
        {
          "output_type": "stream",
          "name": "stderr",
          "text": [
            "     84/100      13.6G      1.181     0.6126     0.9291       1303        640: 100%|██████████| 3/3 [00:02<00:00,  1.35it/s]\n",
            "                 Class     Images  Instances      Box(P          R      mAP50  mAP50-95): 100%|██████████| 1/1 [00:00<00:00,  2.01it/s]"
          ]
        },
        {
          "output_type": "stream",
          "name": "stdout",
          "text": [
            "                   all         14       3204      0.899      0.816      0.893      0.592\n"
          ]
        },
        {
          "output_type": "stream",
          "name": "stderr",
          "text": [
            "\n"
          ]
        },
        {
          "output_type": "stream",
          "name": "stdout",
          "text": [
            "\n",
            "      Epoch    GPU_mem   box_loss   cls_loss   dfl_loss  Instances       Size\n"
          ]
        },
        {
          "output_type": "stream",
          "name": "stderr",
          "text": [
            "     85/100      12.6G      1.169     0.5721     0.8903       1515        640: 100%|██████████| 3/3 [00:02<00:00,  1.27it/s]\n",
            "                 Class     Images  Instances      Box(P          R      mAP50  mAP50-95): 100%|██████████| 1/1 [00:00<00:00,  1.21it/s]"
          ]
        },
        {
          "output_type": "stream",
          "name": "stdout",
          "text": [
            "                   all         14       3204      0.899      0.816      0.893      0.592\n"
          ]
        },
        {
          "output_type": "stream",
          "name": "stderr",
          "text": [
            "\n"
          ]
        },
        {
          "output_type": "stream",
          "name": "stdout",
          "text": [
            "\n",
            "      Epoch    GPU_mem   box_loss   cls_loss   dfl_loss  Instances       Size\n"
          ]
        },
        {
          "output_type": "stream",
          "name": "stderr",
          "text": [
            "     86/100      13.6G      1.195     0.5947     0.9032       1947        640: 100%|██████████| 3/3 [00:02<00:00,  1.29it/s]\n",
            "                 Class     Images  Instances      Box(P          R      mAP50  mAP50-95): 100%|██████████| 1/1 [00:00<00:00,  2.11it/s]"
          ]
        },
        {
          "output_type": "stream",
          "name": "stdout",
          "text": [
            "                   all         14       3204      0.892      0.788      0.884      0.578\n"
          ]
        },
        {
          "output_type": "stream",
          "name": "stderr",
          "text": [
            "\n"
          ]
        },
        {
          "output_type": "stream",
          "name": "stdout",
          "text": [
            "\n",
            "      Epoch    GPU_mem   box_loss   cls_loss   dfl_loss  Instances       Size\n"
          ]
        },
        {
          "output_type": "stream",
          "name": "stderr",
          "text": [
            "     87/100      14.2G      1.142     0.5596     0.8703       1541        640: 100%|██████████| 3/3 [00:02<00:00,  1.35it/s]\n",
            "                 Class     Images  Instances      Box(P          R      mAP50  mAP50-95): 100%|██████████| 1/1 [00:00<00:00,  1.84it/s]"
          ]
        },
        {
          "output_type": "stream",
          "name": "stdout",
          "text": [
            "                   all         14       3204      0.895      0.768      0.872      0.566\n"
          ]
        },
        {
          "output_type": "stream",
          "name": "stderr",
          "text": [
            "\n"
          ]
        },
        {
          "output_type": "stream",
          "name": "stdout",
          "text": [
            "\n",
            "      Epoch    GPU_mem   box_loss   cls_loss   dfl_loss  Instances       Size\n"
          ]
        },
        {
          "output_type": "stream",
          "name": "stderr",
          "text": [
            "     88/100        14G      1.219     0.5561     0.9003       1601        640: 100%|██████████| 3/3 [00:02<00:00,  1.29it/s]\n",
            "                 Class     Images  Instances      Box(P          R      mAP50  mAP50-95): 100%|██████████| 1/1 [00:00<00:00,  1.60it/s]"
          ]
        },
        {
          "output_type": "stream",
          "name": "stdout",
          "text": [
            "                   all         14       3204       0.91      0.755      0.866       0.56\n"
          ]
        },
        {
          "output_type": "stream",
          "name": "stderr",
          "text": [
            "\n"
          ]
        },
        {
          "output_type": "stream",
          "name": "stdout",
          "text": [
            "\n",
            "      Epoch    GPU_mem   box_loss   cls_loss   dfl_loss  Instances       Size\n"
          ]
        },
        {
          "output_type": "stream",
          "name": "stderr",
          "text": [
            "     89/100      12.9G      1.168     0.5689     0.8736       1782        640: 100%|██████████| 3/3 [00:02<00:00,  1.29it/s]\n",
            "                 Class     Images  Instances      Box(P          R      mAP50  mAP50-95): 100%|██████████| 1/1 [00:00<00:00,  1.21it/s]"
          ]
        },
        {
          "output_type": "stream",
          "name": "stdout",
          "text": [
            "                   all         14       3204       0.91      0.755      0.866       0.56\n"
          ]
        },
        {
          "output_type": "stream",
          "name": "stderr",
          "text": [
            "\n"
          ]
        },
        {
          "output_type": "stream",
          "name": "stdout",
          "text": [
            "\n",
            "      Epoch    GPU_mem   box_loss   cls_loss   dfl_loss  Instances       Size\n"
          ]
        },
        {
          "output_type": "stream",
          "name": "stderr",
          "text": [
            "     90/100      12.3G       1.25     0.5929     0.9122       1405        640: 100%|██████████| 3/3 [00:02<00:00,  1.36it/s]\n",
            "                 Class     Images  Instances      Box(P          R      mAP50  mAP50-95): 100%|██████████| 1/1 [00:00<00:00,  1.79it/s]"
          ]
        },
        {
          "output_type": "stream",
          "name": "stdout",
          "text": [
            "                   all         14       3204      0.897      0.769       0.87      0.569\n"
          ]
        },
        {
          "output_type": "stream",
          "name": "stderr",
          "text": [
            "\n"
          ]
        },
        {
          "output_type": "stream",
          "name": "stdout",
          "text": [
            "Closing dataloader mosaic\n",
            "\u001b[34m\u001b[1malbumentations: \u001b[0mBlur(p=0.01, blur_limit=(3, 7)), MedianBlur(p=0.01, blur_limit=(3, 7)), ToGray(p=0.01), CLAHE(p=0.01, clip_limit=(1, 4.0), tile_grid_size=(8, 8))\n"
          ]
        },
        {
          "output_type": "stream",
          "name": "stderr",
          "text": [
            "/usr/lib/python3.10/multiprocessing/popen_fork.py:66: RuntimeWarning: os.fork() was called. os.fork() is incompatible with multithreaded code, and JAX is multithreaded, so this will likely lead to a deadlock.\n",
            "  self.pid = os.fork()\n"
          ]
        },
        {
          "output_type": "stream",
          "name": "stdout",
          "text": [
            "\n",
            "      Epoch    GPU_mem   box_loss   cls_loss   dfl_loss  Instances       Size\n"
          ]
        },
        {
          "output_type": "stream",
          "name": "stderr",
          "text": [
            "     91/100      11.1G      1.168     0.7727     0.8935        893        640: 100%|██████████| 3/3 [00:04<00:00,  1.37s/it]\n",
            "                 Class     Images  Instances      Box(P          R      mAP50  mAP50-95): 100%|██████████| 1/1 [00:01<00:00,  1.46s/it]"
          ]
        },
        {
          "output_type": "stream",
          "name": "stdout",
          "text": [
            "                   all         14       3204      0.891      0.775      0.865      0.571\n"
          ]
        },
        {
          "output_type": "stream",
          "name": "stderr",
          "text": [
            "\n"
          ]
        },
        {
          "output_type": "stream",
          "name": "stdout",
          "text": [
            "\n",
            "      Epoch    GPU_mem   box_loss   cls_loss   dfl_loss  Instances       Size\n"
          ]
        },
        {
          "output_type": "stream",
          "name": "stderr",
          "text": [
            "     92/100      11.5G      1.116     0.6338     0.8966       1063        640: 100%|██████████| 3/3 [00:06<00:00,  2.26s/it]\n",
            "                 Class     Images  Instances      Box(P          R      mAP50  mAP50-95): 100%|██████████| 1/1 [00:07<00:00,  7.15s/it]"
          ]
        },
        {
          "output_type": "stream",
          "name": "stdout",
          "text": [
            "                   all         14       3204      0.898      0.779      0.875      0.581\n"
          ]
        },
        {
          "output_type": "stream",
          "name": "stderr",
          "text": [
            "\n"
          ]
        },
        {
          "output_type": "stream",
          "name": "stdout",
          "text": [
            "\n",
            "      Epoch    GPU_mem   box_loss   cls_loss   dfl_loss  Instances       Size\n"
          ]
        },
        {
          "output_type": "stream",
          "name": "stderr",
          "text": [
            "     93/100      11.1G      1.244     0.6722     0.9238       1023        640: 100%|██████████| 3/3 [00:03<00:00,  1.06s/it]\n",
            "                 Class     Images  Instances      Box(P          R      mAP50  mAP50-95): 100%|██████████| 1/1 [00:01<00:00,  1.24s/it]"
          ]
        },
        {
          "output_type": "stream",
          "name": "stdout",
          "text": [
            "                   all         14       3204      0.898      0.779      0.875      0.581\n"
          ]
        },
        {
          "output_type": "stream",
          "name": "stderr",
          "text": [
            "\n"
          ]
        },
        {
          "output_type": "stream",
          "name": "stdout",
          "text": [
            "\n",
            "      Epoch    GPU_mem   box_loss   cls_loss   dfl_loss  Instances       Size\n"
          ]
        },
        {
          "output_type": "stream",
          "name": "stderr",
          "text": [
            "     94/100      11.6G      1.147     0.5888     0.9021        924        640: 100%|██████████| 3/3 [00:04<00:00,  1.34s/it]\n",
            "                 Class     Images  Instances      Box(P          R      mAP50  mAP50-95): 100%|██████████| 1/1 [00:01<00:00,  1.23s/it]"
          ]
        },
        {
          "output_type": "stream",
          "name": "stdout",
          "text": [
            "                   all         14       3204      0.911      0.796       0.89      0.591\n"
          ]
        },
        {
          "output_type": "stream",
          "name": "stderr",
          "text": [
            "\n"
          ]
        },
        {
          "output_type": "stream",
          "name": "stdout",
          "text": [
            "\n",
            "      Epoch    GPU_mem   box_loss   cls_loss   dfl_loss  Instances       Size\n"
          ]
        },
        {
          "output_type": "stream",
          "name": "stderr",
          "text": [
            "     95/100      11.1G       1.12     0.5868     0.9187        944        640: 100%|██████████| 3/3 [00:02<00:00,  1.29it/s]\n",
            "                 Class     Images  Instances      Box(P          R      mAP50  mAP50-95): 100%|██████████| 1/1 [00:00<00:00,  1.85it/s]"
          ]
        },
        {
          "output_type": "stream",
          "name": "stdout",
          "text": [
            "                   all         14       3204      0.912       0.79      0.888      0.591\n"
          ]
        },
        {
          "output_type": "stream",
          "name": "stderr",
          "text": [
            "\n"
          ]
        },
        {
          "output_type": "stream",
          "name": "stdout",
          "text": [
            "\n",
            "      Epoch    GPU_mem   box_loss   cls_loss   dfl_loss  Instances       Size\n"
          ]
        },
        {
          "output_type": "stream",
          "name": "stderr",
          "text": [
            "     96/100      11.2G      1.062     0.5752     0.8855       1074        640: 100%|██████████| 3/3 [00:01<00:00,  1.51it/s]\n",
            "                 Class     Images  Instances      Box(P          R      mAP50  mAP50-95): 100%|██████████| 1/1 [00:00<00:00,  1.78it/s]"
          ]
        },
        {
          "output_type": "stream",
          "name": "stdout",
          "text": [
            "                   all         14       3204      0.907      0.774       0.88      0.586\n"
          ]
        },
        {
          "output_type": "stream",
          "name": "stderr",
          "text": [
            "\n"
          ]
        },
        {
          "output_type": "stream",
          "name": "stdout",
          "text": [
            "\n",
            "      Epoch    GPU_mem   box_loss   cls_loss   dfl_loss  Instances       Size\n"
          ]
        },
        {
          "output_type": "stream",
          "name": "stderr",
          "text": [
            "     97/100        11G      1.093     0.5666     0.8904       1000        640: 100%|██████████| 3/3 [00:01<00:00,  1.56it/s]\n",
            "                 Class     Images  Instances      Box(P          R      mAP50  mAP50-95): 100%|██████████| 1/1 [00:00<00:00,  1.62it/s]"
          ]
        },
        {
          "output_type": "stream",
          "name": "stdout",
          "text": [
            "                   all         14       3204      0.907      0.774       0.88      0.586\n"
          ]
        },
        {
          "output_type": "stream",
          "name": "stderr",
          "text": [
            "\n"
          ]
        },
        {
          "output_type": "stream",
          "name": "stdout",
          "text": [
            "\n",
            "      Epoch    GPU_mem   box_loss   cls_loss   dfl_loss  Instances       Size\n"
          ]
        },
        {
          "output_type": "stream",
          "name": "stderr",
          "text": [
            "     98/100      11.1G      1.207      0.605     0.9146       1160        640: 100%|██████████| 3/3 [00:02<00:00,  1.28it/s]\n",
            "                 Class     Images  Instances      Box(P          R      mAP50  mAP50-95): 100%|██████████| 1/1 [00:00<00:00,  1.14it/s]"
          ]
        },
        {
          "output_type": "stream",
          "name": "stdout",
          "text": [
            "                   all         14       3204        0.9      0.761      0.873      0.583\n"
          ]
        },
        {
          "output_type": "stream",
          "name": "stderr",
          "text": [
            "\n"
          ]
        },
        {
          "output_type": "stream",
          "name": "stdout",
          "text": [
            "\n",
            "      Epoch    GPU_mem   box_loss   cls_loss   dfl_loss  Instances       Size\n"
          ]
        },
        {
          "output_type": "stream",
          "name": "stderr",
          "text": [
            "     99/100      11.1G      1.122      0.575     0.8806       1001        640: 100%|██████████| 3/3 [00:02<00:00,  1.47it/s]\n",
            "                 Class     Images  Instances      Box(P          R      mAP50  mAP50-95): 100%|██████████| 1/1 [00:00<00:00,  1.69it/s]"
          ]
        },
        {
          "output_type": "stream",
          "name": "stdout",
          "text": [
            "                   all         14       3204      0.907      0.753      0.868       0.58\n"
          ]
        },
        {
          "output_type": "stream",
          "name": "stderr",
          "text": [
            "\n"
          ]
        },
        {
          "output_type": "stream",
          "name": "stdout",
          "text": [
            "\n",
            "      Epoch    GPU_mem   box_loss   cls_loss   dfl_loss  Instances       Size\n"
          ]
        },
        {
          "output_type": "stream",
          "name": "stderr",
          "text": [
            "    100/100      11.3G      1.332     0.6791     0.9451       1179        640: 100%|██████████| 3/3 [00:01<00:00,  1.53it/s]\n",
            "                 Class     Images  Instances      Box(P          R      mAP50  mAP50-95): 100%|██████████| 1/1 [00:00<00:00,  1.93it/s]"
          ]
        },
        {
          "output_type": "stream",
          "name": "stdout",
          "text": [
            "                   all         14       3204      0.914      0.752      0.864      0.577\n"
          ]
        },
        {
          "output_type": "stream",
          "name": "stderr",
          "text": [
            "\n"
          ]
        },
        {
          "output_type": "stream",
          "name": "stdout",
          "text": [
            "\n",
            "100 epochs completed in 0.199 hours.\n",
            "Optimizer stripped from runs/detect/train/weights/last.pt, 87.7MB\n",
            "Optimizer stripped from runs/detect/train/weights/best.pt, 87.7MB\n",
            "\n",
            "Validating runs/detect/train/weights/best.pt...\n",
            "Ultralytics YOLOv8.2.15 🚀 Python-3.10.12 torch-2.2.1+cu121 CUDA:0 (Tesla T4, 15102MiB)\n",
            "Model summary (fused): 268 layers, 43607379 parameters, 0 gradients, 164.8 GFLOPs\n"
          ]
        },
        {
          "output_type": "stream",
          "name": "stderr",
          "text": [
            "                 Class     Images  Instances      Box(P          R      mAP50  mAP50-95): 100%|██████████| 1/1 [00:01<00:00,  1.44s/it]\n"
          ]
        },
        {
          "output_type": "stream",
          "name": "stdout",
          "text": [
            "                   all         14       3204      0.897      0.826      0.899      0.593\n",
            "Speed: 0.2ms preprocess, 18.8ms inference, 0.0ms loss, 2.5ms postprocess per image\n",
            "Results saved to \u001b[1mruns/detect/train\u001b[0m\n"
          ]
        }
      ]
    },
    {
      "cell_type": "markdown",
      "source": [
        "- Khi train thì nó có folder trong folder \"runs\" thì khi val thì nó cũng có folder \"val\" trong \"runs\" => nhìn chỉ số mAP50-95 (Chỉ số mình dùng để chấm điểm với các anh chị) là bao nhiêu trong output của cell này\n",
        "- File colab_config.yaml chỉ như là xml để config khi sử dụng framework ultralytics thôi => bọn m có thể xem vid tutorial 13ph từ phút 44 -> 57 trong vid này: https://www.youtube.com/watch?v=Z-65nqxUdl4&t=4176s"
      ],
      "metadata": {
        "id": "4E7I9K5cxgxy"
      }
    },
    {
      "cell_type": "code",
      "source": [
        "import locale\n",
        "locale.getpreferredencoding = lambda: \"UTF-8\""
      ],
      "metadata": {
        "id": "rfjTisvGvIRl"
      },
      "execution_count": 7,
      "outputs": []
    },
    {
      "cell_type": "code",
      "source": [
        "!scp -r /content/runs /content/drive/MyDrive/wb_localization_dataset/Hung_res_pt"
      ],
      "metadata": {
        "id": "EOoDqn9yo0ND"
      },
      "execution_count": 8,
      "outputs": []
    },
    {
      "cell_type": "code",
      "source": [
        "metrics = model.val(data='/content/drive/MyDrive/wb_localization_dataset/colab_config.yaml')"
      ],
      "metadata": {
        "id": "IJoZwrkSxgKK",
        "colab": {
          "base_uri": "https://localhost:8080/"
        },
        "outputId": "600bfc26-25c6-4765-fcce-1caafd415a3c"
      },
      "execution_count": 9,
      "outputs": [
        {
          "output_type": "stream",
          "name": "stdout",
          "text": [
            "Ultralytics YOLOv8.2.15 🚀 Python-3.10.12 torch-2.2.1+cu121 CUDA:0 (Tesla T4, 15102MiB)\n",
            "Model summary (fused): 268 layers, 43607379 parameters, 0 gradients, 164.8 GFLOPs\n"
          ]
        },
        {
          "output_type": "stream",
          "name": "stderr",
          "text": [
            "\u001b[34m\u001b[1mval: \u001b[0mScanning /content/drive/.shortcut-targets-by-id/10gHGTbh1XVN3c7_fuOKeFfy6RRNhT1AN/wb_localization_dataset/labels/val.cache... 10 images, 0 backgrounds, 0 corrupt: 100%|██████████| 10/10 [00:00<?, ?it/s]\n",
            "/usr/lib/python3.10/multiprocessing/popen_fork.py:66: RuntimeWarning: os.fork() was called. os.fork() is incompatible with multithreaded code, and JAX is multithreaded, so this will likely lead to a deadlock.\n",
            "  self.pid = os.fork()\n",
            "                 Class     Images  Instances      Box(P          R      mAP50  mAP50-95): 100%|██████████| 1/1 [00:08<00:00,  8.90s/it]\n"
          ]
        },
        {
          "output_type": "stream",
          "name": "stdout",
          "text": [
            "                   all         10       1956      0.951      0.967      0.984      0.762\n",
            "Speed: 0.2ms preprocess, 53.5ms inference, 0.0ms loss, 4.9ms postprocess per image\n",
            "Results saved to \u001b[1mruns/detect/train2\u001b[0m\n"
          ]
        }
      ]
    },
    {
      "cell_type": "markdown",
      "source": [
        "- Cell dưới check kết quả đã train được với một bức ảnh"
      ],
      "metadata": {
        "id": "Dl22EO3Sx2iq"
      }
    },
    {
      "cell_type": "code",
      "source": [
        "import cv2\n",
        "import matplotlib.pyplot as plt\n",
        "img = cv2.imread(\"/content/drive/MyDrive/wb_localization_dataset/DVSKTT_ngoai_I_1a.jpg\")\n",
        "def rotate_image(image, angle):\n",
        "    height = image.shape[0]\n",
        "    width = image.shape[1]\n",
        "    center = (width/2, height/2)\n",
        "    size = (width, height)\n",
        "    rot_mat = cv2.getRotationMatrix2D(center, angle, 1.0)\n",
        "    res = cv2.warpAffine(image, rot_mat, size)\n",
        "    return res\n",
        "\n",
        "# Rotate the grayscale image\n",
        "img_gray_rotated = rotate_image(img, 45)\n",
        "# Make a prediction\n",
        "results = model.predict(source=img_gray_rotated, save=False, stream=True)\n",
        "print(type(results))\n",
        "# Visualize the results\n",
        "for result in results:\n",
        "    boxes = result.boxes  # Bounding box predictions\n",
        "    print(f\"Number of detected objects: {len(boxes)}\")\n",
        "    for box in boxes:\n",
        "        x1, y1, x2, y2 = box.xyxy[0].cpu().numpy().astype(int)\n",
        "        cv2.rectangle(img_gray_rotated, (x1, y1), (x2, y2), (0, 255, 0), 2)  # Draw bounding box\n",
        "\n",
        "    # Display the image with bounding boxes\n",
        "    plt.imshow(img_gray_rotated)"
      ],
      "metadata": {
        "colab": {
          "base_uri": "https://localhost:8080/",
          "height": 542
        },
        "id": "4JrbJJnLm6p5",
        "outputId": "26565be1-c28f-4405-ab36-8034da8600f4"
      },
      "execution_count": 10,
      "outputs": [
        {
          "output_type": "stream",
          "name": "stdout",
          "text": [
            "<class 'generator'>\n",
            "\n",
            "0: 640x416 59 nom_chars, 1279.5ms\n",
            "Number of detected objects: 59\n",
            "Speed: 5.6ms preprocess, 1279.5ms inference, 147.3ms postprocess per image at shape (1, 3, 640, 416)\n"
          ]
        },
        {
          "output_type": "display_data",
          "data": {
            "text/plain": [
              "<Figure size 640x480 with 1 Axes>"
            ],
            "image/png": "[encoded data removed]"
          },
          "metadata": {}
        }
      ]
    },
    {
      "cell_type": "code",
      "source": [],
      "metadata": {
        "id": "fj0JwUoRvFTc"
      },
      "execution_count": 10,
      "outputs": []
    }
  ]
}